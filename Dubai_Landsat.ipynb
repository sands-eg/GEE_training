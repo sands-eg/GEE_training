{
  "nbformat": 4,
  "nbformat_minor": 0,
  "metadata": {
    "kernelspec": {
      "display_name": "Python 3",
      "language": "python",
      "name": "python3"
    },
    "language_info": {
      "codemirror_mode": {
        "name": "ipython",
        "version": 3
      },
      "file_extension": ".py",
      "mimetype": "text/x-python",
      "name": "python",
      "nbconvert_exporter": "python",
      "pygments_lexer": "ipython3",
      "version": "3.6.6"
    },
    "colab": {
      "name": "1 - Open_and_display.ipynb",
      "provenance": [],
      "collapsed_sections": []
    }
  },
  "cells": [
    {
      "cell_type": "markdown",
      "metadata": {
        "id": "gL1R2F6wbaej"
      },
      "source": [
        "# Google Earth Engine: JavaScript, but Python"
      ]
    },
    {
      "cell_type": "markdown",
      "metadata": {
        "id": "XPveyQEHt-Hj"
      },
      "source": [
        "[Google Earth Engine (GEE)](https://earthengine.google.com/) is an online tool that combines a huge catalogue of satellite imagery and other geospatial datasets with Google's processing capabilities to reduce processes that before would take days to only seconds.  "
      ]
    },
    {
      "cell_type": "markdown",
      "metadata": {
        "id": "tgjlYZh9uxyT"
      },
      "source": [
        "GEE API (Application Programming Interface) is available in JavaScript (the original one) and Python.\n",
        "\n",
        "\n",
        "\n"
      ]
    },
    {
      "cell_type": "markdown",
      "metadata": {
        "id": "3JjaUWYQx9WT"
      },
      "source": [
        "The GEE JavaScript API is available through the [Code Editor](https://code.earthengine.google.com/#workspace), and while it is very useful to get started with GEE, it is limited in terms of processing power (time limitations, slower).\n",
        "\n",
        "\n",
        "The GEE Python API can be loaded via a library (`ee`), and combines the power of Python with everything else you can do via the JavaScript API. \n",
        "\n",
        "\n",
        "\n"
      ]
    },
    {
      "cell_type": "markdown",
      "metadata": {
        "id": "edVdlkwAyAAo"
      },
      "source": [
        "The only \"issue\" with the Python API: ALL of the GEE [documentation](https://developers.google.com/earth-engine/) and [tutorials](https://developers.google.com/earth-engine/tutorials) are developed in JavaScript!!\n",
        "\n",
        "\n"
      ]
    },
    {
      "cell_type": "markdown",
      "metadata": {
        "id": "_Uqn6xPayCDn"
      },
      "source": [
        "Which means there are two possible routes:\n",
        "\n",
        "\n",
        "1.   The painful one (the one I took): learn everything in JavaScript and THEN transfer to Python (NOT RECOMMENDED!).\n",
        "2.   The sensible one, but slower: to learn the Pythonic way from the start.\n",
        "\n",
        "We are only going to use Python in this course, but it is very useful to have all the documentation,e ven if it is JavaScript, as we can see how things are done and translate them!"
      ]
    },
    {
      "cell_type": "markdown",
      "metadata": {
        "id": "jeGcIW_pbaeq"
      },
      "source": [
        "Note: we are going to jump directly to Python, but here we show how some things can be expressed in JavaScript and their equivalent in Python. And remember, if you want to use the [GEE online code editor](https://code.earthengine.google.com/), it has to be JavaScript style! \n",
        "\n",
        "I recommend working from Google Colab (using Google's cloud computing services for free!!) and the GEE Python API from the start.\n",
        "\n",
        "We are using the GEE Guides, but online you will find them in JavaScript, while here we have the Python version. You should go through the GEE guides and tutorials in your own time, and try to transfer to Python for consistency."
      ]
    },
    {
      "cell_type": "markdown",
      "metadata": {
        "id": "Kn73Tk6zbaer"
      },
      "source": [
        "## `Maps` warning!"
      ]
    },
    {
      "cell_type": "markdown",
      "metadata": {
        "id": "V9aRkeXQwyea"
      },
      "source": [
        "The GEE JavaScript does not allow loops or conditionals. Instead, you will have to use the `Map` function. This is a huge limitation , particularly when we want to work with satellite data and other big datasets, machine learning applications, etc.\n",
        "\n",
        "Keep that in mind if you use the GEE Code Editor."
      ]
    },
    {
      "cell_type": "markdown",
      "metadata": {
        "id": "oBWGt04Gbaer"
      },
      "source": [
        "# Some basic GEE concepts"
      ]
    },
    {
      "cell_type": "markdown",
      "metadata": {
        "id": "2t4mjQ_ibaes"
      },
      "source": [
        "Import the GEE API:"
      ]
    },
    {
      "cell_type": "code",
      "metadata": {
        "id": "_YVPmI6Sbaes"
      },
      "source": [
        "import ee"
      ],
      "execution_count": null,
      "outputs": []
    },
    {
      "cell_type": "markdown",
      "metadata": {
        "id": "9EpYa9srbaex"
      },
      "source": [
        "Authenticate and initialise:"
      ]
    },
    {
      "cell_type": "code",
      "metadata": {
        "id": "i546YYi7baex",
        "colab": {
          "base_uri": "https://localhost:8080/"
        },
        "outputId": "534ae993-08b0-49dc-ad45-5799428f370f"
      },
      "source": [
        "# Trigger the authentication flow.\n",
        "ee.Authenticate()\n",
        "\n",
        "# Initialize the library.\n",
        "ee.Initialize()"
      ],
      "execution_count": null,
      "outputs": [
        {
          "output_type": "stream",
          "name": "stdout",
          "text": [
            "To authorize access needed by Earth Engine, open the following URL in a web browser and follow the instructions. If the web browser does not start automatically, please manually browse the URL below.\n",
            "\n",
            "    https://accounts.google.com/o/oauth2/auth?client_id=517222506229-vsmmajv00ul0bs7p89v5m89qs8eb9359.apps.googleusercontent.com&scope=https%3A%2F%2Fwww.googleapis.com%2Fauth%2Fearthengine+https%3A%2F%2Fwww.googleapis.com%2Fauth%2Fdevstorage.full_control&redirect_uri=urn%3Aietf%3Awg%3Aoauth%3A2.0%3Aoob&response_type=code&code_challenge=J2A7JFebcqD3rg7IC1v-H1buyNG8GABixLBZvNBDK2M&code_challenge_method=S256\n",
            "\n",
            "The authorization workflow will generate a code, which you should paste in the box below. \n",
            "Enter verification code: 4/1AX4XfWgy1ygPXX_29vU3AQBNZCOe1gTPueBETzqP_c5qG6lFODuagwh89_o\n",
            "\n",
            "Successfully saved authorization token.\n"
          ]
        }
      ]
    },
    {
      "cell_type": "markdown",
      "metadata": {
        "id": "iazv9chVbae1"
      },
      "source": [
        "## Image constructor: ee.Image"
      ]
    },
    {
      "cell_type": "markdown",
      "metadata": {
        "id": "xcXAzeJPbae1"
      },
      "source": [
        "Raster data is represented as Image objects in Earth Engine. \n",
        "\n",
        "Images are composed of one or more bands and each band has its own name, data type, scale, mask and projection. Each image has metadata stored as a set of properties."
      ]
    },
    {
      "cell_type": "markdown",
      "metadata": {
        "id": "1ZDY0Gbqbae2"
      },
      "source": [
        "Images can be loaded by pasting an Earth Engine asset ID into the ee.Image constructor. You can find image IDs in the data catalog. For example, to load JAXA's ALOS DSM:"
      ]
    },
    {
      "cell_type": "code",
      "metadata": {
        "id": "7UuLCFtvbae3"
      },
      "source": [
        "loadedImage = ee.Image('JAXA/ALOS/AW3D30/V2_2')"
      ],
      "execution_count": null,
      "outputs": []
    },
    {
      "cell_type": "markdown",
      "metadata": {
        "id": "K0z-m9QEbae6"
      },
      "source": [
        "Note that finding an image through the GEE Code Editor search tool is equivalent. When you import the asset, the image construction code is written for you in the imports section of the Code Editor. You can also use the asset ID (bottom left when you search online)."
      ]
    },
    {
      "cell_type": "markdown",
      "metadata": {
        "id": "4PVvYPh7bae8"
      },
      "source": [
        "## Visualising images and image bands"
      ]
    },
    {
      "cell_type": "markdown",
      "metadata": {
        "id": "1K4XOEbkbae9"
      },
      "source": [
        "## Get an ee.Image from an ee.ImageCollection"
      ]
    },
    {
      "cell_type": "markdown",
      "metadata": {
        "id": "IISMM_i2bae9"
      },
      "source": [
        "The standard way to get an image out of a collection is to load the collection, filter the collection, with filters in order of decreasing specificity. For example, to get an image out of the Sentinel-2 surface reflectance collection (level 2A):"
      ]
    },
    {
      "cell_type": "code",
      "metadata": {
        "id": "8VOcTyySbafB"
      },
      "source": [
        "# Image near Acra (Ghana)\n",
        "first = ee.ImageCollection('COPERNICUS/S2_SR').filterBounds(ee.Geometry.Point(0, 6)).filterDate('2019-01-01', '2019-12-31').sort('CLOUDY_PIXEL_PERCENTAGE').first()      "
      ],
      "execution_count": null,
      "outputs": []
    },
    {
      "cell_type": "markdown",
      "metadata": {
        "id": "TbMnMe1xgTR7"
      },
      "source": [
        "## Display static image"
      ]
    },
    {
      "cell_type": "code",
      "metadata": {
        "id": "dxYeYJ4RgZuL",
        "colab": {
          "base_uri": "https://localhost:8080/",
          "height": 533
        },
        "outputId": "f6439816-e76f-402a-f0ce-ef0f5b66697c"
      },
      "source": [
        "from IPython.display import Image\n",
        "\n",
        "Image(url=first.getThumbUrl({'min': 0, 'max': 2000, 'bands':['B4','B3','B2'],'dimensions': 512}))"
      ],
      "execution_count": null,
      "outputs": [
        {
          "output_type": "execute_result",
          "data": {
            "text/html": [
              "<img src=\"https://earthengine.googleapis.com/v1alpha/projects/earthengine-legacy/thumbnails/76f839d3bebb83eb6fbe7d8a09421490-e153346bee95353a4359d6852fc6e718:getPixels\"/>"
            ],
            "text/plain": [
              "<IPython.core.display.Image object>"
            ]
          },
          "metadata": {},
          "execution_count": 7
        }
      ]
    },
    {
      "cell_type": "markdown",
      "metadata": {
        "id": "xBJ0OPqVbafI"
      },
      "source": [
        "## Constant images"
      ]
    },
    {
      "cell_type": "markdown",
      "metadata": {
        "id": "hL_ATfsP_hOp"
      },
      "source": [
        "In addition to loading images by ID, you can also create images from constants, lists or other suitable Earth Engine objects. The following illustrates methods for creating images, getting band subsets, and manipulating bands:"
      ]
    },
    {
      "cell_type": "code",
      "metadata": {
        "id": "idyAOXkr_kfi",
        "colab": {
          "base_uri": "https://localhost:8080/"
        },
        "outputId": "c806a04b-8490-460d-a3fe-6aaa6440de82"
      },
      "source": [
        "# Create a constant image\n",
        "image1 = ee.Image(1)\n",
        "print(\"image1:\",image1.getInfo()) # getInfo provides min and max values, projections etc. - useful to check before displaying\n",
        "\n",
        "# Concatenate two images into one multi-band image.\n",
        "image2 = ee.Image(2)\n",
        "image3 = ee.Image.cat([image1, image2])\n",
        "print(\"image3:\",image3.getInfo())\n",
        "\n",
        "# Create a multi-band image from a list of constants.\n",
        "multiband = ee.Image([1, 2, 3]);\n",
        "print(\"mutiband:\",multiband.getInfo())\n",
        "\n",
        "# Select and (optionally) rename bands.\n",
        "renamed = multiband.select(['constant', 'constant_1', 'constant_2'],['band1', 'band2', 'band3'])\n",
        "print(\"renamed:\",renamed.getInfo())\n",
        "\n",
        "# Add bands to an image.\n",
        "image4 = image3.addBands(ee.Image(42))\n",
        "print(\"image4:\",image4.getInfo())"
      ],
      "execution_count": null,
      "outputs": [
        {
          "output_type": "stream",
          "name": "stdout",
          "text": [
            "image1: {'type': 'Image', 'bands': [{'id': 'constant', 'data_type': {'type': 'PixelType', 'precision': 'int', 'min': 1, 'max': 1}, 'crs': 'EPSG:4326', 'crs_transform': [1, 0, 0, 0, 1, 0]}]}\n",
            "image3: {'type': 'Image', 'bands': [{'id': 'constant', 'data_type': {'type': 'PixelType', 'precision': 'int', 'min': 1, 'max': 1}, 'crs': 'EPSG:4326', 'crs_transform': [1, 0, 0, 0, 1, 0]}, {'id': 'constant_1', 'data_type': {'type': 'PixelType', 'precision': 'int', 'min': 2, 'max': 2}, 'crs': 'EPSG:4326', 'crs_transform': [1, 0, 0, 0, 1, 0]}]}\n",
            "mutiband: {'type': 'Image', 'bands': [{'id': 'constant', 'data_type': {'type': 'PixelType', 'precision': 'int', 'min': 1, 'max': 1}, 'crs': 'EPSG:4326', 'crs_transform': [1, 0, 0, 0, 1, 0]}, {'id': 'constant_1', 'data_type': {'type': 'PixelType', 'precision': 'int', 'min': 2, 'max': 2}, 'crs': 'EPSG:4326', 'crs_transform': [1, 0, 0, 0, 1, 0]}, {'id': 'constant_2', 'data_type': {'type': 'PixelType', 'precision': 'int', 'min': 3, 'max': 3}, 'crs': 'EPSG:4326', 'crs_transform': [1, 0, 0, 0, 1, 0]}]}\n",
            "renamed: {'type': 'Image', 'bands': [{'id': 'band1', 'data_type': {'type': 'PixelType', 'precision': 'int', 'min': 1, 'max': 1}, 'crs': 'EPSG:4326', 'crs_transform': [1, 0, 0, 0, 1, 0]}, {'id': 'band2', 'data_type': {'type': 'PixelType', 'precision': 'int', 'min': 2, 'max': 2}, 'crs': 'EPSG:4326', 'crs_transform': [1, 0, 0, 0, 1, 0]}, {'id': 'band3', 'data_type': {'type': 'PixelType', 'precision': 'int', 'min': 3, 'max': 3}, 'crs': 'EPSG:4326', 'crs_transform': [1, 0, 0, 0, 1, 0]}]}\n",
            "image4: {'type': 'Image', 'bands': [{'id': 'constant', 'data_type': {'type': 'PixelType', 'precision': 'int', 'min': 1, 'max': 1}, 'crs': 'EPSG:4326', 'crs_transform': [1, 0, 0, 0, 1, 0]}, {'id': 'constant_1', 'data_type': {'type': 'PixelType', 'precision': 'int', 'min': 2, 'max': 2}, 'crs': 'EPSG:4326', 'crs_transform': [1, 0, 0, 0, 1, 0]}, {'id': 'constant_2', 'data_type': {'type': 'PixelType', 'precision': 'int', 'min': 42, 'max': 42}, 'crs': 'EPSG:4326', 'crs_transform': [1, 0, 0, 0, 1, 0]}]}\n"
          ]
        }
      ]
    },
    {
      "cell_type": "markdown",
      "metadata": {
        "id": "oO_dJ6ARbafI"
      },
      "source": [
        "## RGB composites"
      ]
    },
    {
      "cell_type": "markdown",
      "metadata": {
        "id": "eRDAzM4EP2Rq"
      },
      "source": [
        "The following illustrates the use of parameters to style a Landsat 8 image as a false-color composite:"
      ]
    },
    {
      "cell_type": "code",
      "metadata": {
        "id": "HlPvaEKNP3_o",
        "colab": {
          "base_uri": "https://localhost:8080/",
          "height": 533
        },
        "outputId": "9008d0ed-db97-4a9c-eea7-50579f466d0f"
      },
      "source": [
        "# Load an image.\n",
        "image = ee.Image('LANDSAT/LC08/C01/T1_TOA/LC08_044034_20140318')\n",
        "\n",
        "# ANOTHER WAY TO DO IT\n",
        "#Define the visualization parameters.\n",
        "# vizParams = {'min': 0,  'max': 0.5,  'gamma': [0.95, 1.1, 1]}\n",
        "# import ee.mapclient\n",
        "# ee.mapclient.centerMap(-122.1899, 37.5010, 9) # San Francisco Bay\n",
        "# ee.mapclient.addToMap(image.select('B5','B4','B3'), vizParams, 'False colour composite')\n",
        "\n",
        "# Display the image normally.\n",
        "Image(url=image.getThumbUrl({'bands':['B5','B4','B3'],'min': 0,  'max': 0.5,'dimensions': 512}))"
      ],
      "execution_count": null,
      "outputs": [
        {
          "output_type": "execute_result",
          "data": {
            "text/html": [
              "<img src=\"https://earthengine.googleapis.com/v1alpha/projects/earthengine-legacy/thumbnails/e164753f816015db869d02f471f582ef-2e694a0b32c4cfae40e3017403db1a3e:getPixels\"/>"
            ],
            "text/plain": [
              "<IPython.core.display.Image object>"
            ]
          },
          "metadata": {},
          "execution_count": 11
        }
      ]
    },
    {
      "cell_type": "markdown",
      "metadata": {
        "id": "9flOTebeWEym"
      },
      "source": [
        "In this example, band ‘B5’ (NIR) is assigned to red, ‘B4’ (Red) is assigned to green, and ‘B3’ (Green) is assigned to blue, creating the false colour composite.\n",
        "\n",
        "False color composites allow us to visualize the wavelengths the human eye does not see (near the infrared range). The use of bands, such as near infrared, increases spectral separation and can enhance the interpretability of data. "
      ]
    },
    {
      "cell_type": "markdown",
      "metadata": {
        "id": "2OJ0omUvbafJ"
      },
      "source": [
        "## Colour palettes"
      ]
    },
    {
      "cell_type": "markdown",
      "metadata": {
        "id": "ZY1KhAAOWrJE"
      },
      "source": [
        "To display a single band of an image in colour, set the palette parameter with a colour ramp represented by a list of CSS-style color strings.\n",
        "\n",
        "The following example illustrates how to use colors from cyan (‘00FFFF’) to blue (‘0000FF’) to render a Normalized Difference Water Index (NDWI) image:"
      ]
    },
    {
      "cell_type": "code",
      "metadata": {
        "id": "nNDYEY-gW8nV",
        "colab": {
          "base_uri": "https://localhost:8080/",
          "height": 533
        },
        "outputId": "f19a9627-6f14-4e1a-c888-0f78710e0938"
      },
      "source": [
        "# Create an NDWI image from previous image, define visualization parameters and display\n",
        "ndwi = image.normalizedDifference(['B3', 'B5'])\n",
        "\n",
        "Image(url=ndwi.getThumbUrl({'min': 0.5, 'max': 1, 'palette': ['00FFFF', '0000FF'],'dimensions': 512}))"
      ],
      "execution_count": null,
      "outputs": [
        {
          "output_type": "execute_result",
          "data": {
            "text/html": [
              "<img src=\"https://earthengine.googleapis.com/v1alpha/projects/earthengine-legacy/thumbnails/5f734cc3bf84b18bc1cab47f8030dd49-42ae4815ef642cbef472ca4c5e2f7e5e:getPixels\"/>"
            ],
            "text/plain": [
              "<IPython.core.display.Image object>"
            ]
          },
          "metadata": {},
          "execution_count": 15
        }
      ]
    },
    {
      "cell_type": "markdown",
      "metadata": {
        "id": "I_DajMbbXj3Q"
      },
      "source": [
        "In this example, note that the min and max parameters indicate the range of pixel values to which the palette should be applied. Intermediate values are linearly stretched."
      ]
    },
    {
      "cell_type": "markdown",
      "metadata": {
        "id": "Y4SA26uEbafJ"
      },
      "source": [
        "## Masking"
      ]
    },
    {
      "cell_type": "markdown",
      "metadata": {
        "id": "PkKrEHZAX03c"
      },
      "source": [
        "You can use image.updateMask() to set the opacity of individual pixels based on where pixels in a mask image are non-zero. Pixels equal to zero in the mask are excluded from computations and the opacity is set to 0 for display. The following example uses an NDWI threshold to update the mask on the NDWI layer created previously:"
      ]
    },
    {
      "cell_type": "code",
      "metadata": {
        "id": "cojQTML8X5yt",
        "colab": {
          "base_uri": "https://localhost:8080/",
          "height": 533
        },
        "outputId": "8067881b-72bb-4304-ffd7-da6800b6f685"
      },
      "source": [
        "# Mask the non-watery parts of the image, where NDWI < 0.4\n",
        "ndwiMasked = ndwi.updateMask(ndwi.gte(0.4))\n",
        "Image(url=ndwiMasked.getThumbUrl({'min': 0.5, 'max': 1, 'palette': ['00FFFF', '0000FF'],'dimensions': 512}))"
      ],
      "execution_count": null,
      "outputs": [
        {
          "output_type": "execute_result",
          "data": {
            "text/html": [
              "<img src=\"https://earthengine.googleapis.com/v1alpha/projects/earthengine-legacy/thumbnails/4b640d4606190fa7e7ea151e75533c13-efcbefaf55a7e148ac7689de8d130623:getPixels\"/>"
            ],
            "text/plain": [
              "<IPython.core.display.Image object>"
            ]
          },
          "metadata": {},
          "execution_count": 13
        }
      ]
    },
    {
      "cell_type": "markdown",
      "metadata": {
        "id": "dJYpKlp4bafK"
      },
      "source": [
        "## Mosaicking"
      ]
    },
    {
      "cell_type": "markdown",
      "metadata": {
        "id": "MjkqWVOGYxhG"
      },
      "source": [
        "You can use masking and `imageCollection.mosaic()` to achieve various cartographic effects. The `mosaic()` method renders layers in the output image according to their order in the input collection. The following example uses `mosaic()` to combine the masked NDWI and the false color composite and obtain a new visualization:"
      ]
    },
    {
      "cell_type": "code",
      "metadata": {
        "id": "NoL3P47rY_GE"
      },
      "source": [
        "# Mosaic the layers and display \n",
        "# Load the least cloudy image of 2019 image in Acra (Ghana)\n",
        "next = ee.ImageCollection('COPERNICUS/S2_SR').filterBounds(ee.Geometry.Point(0.9, 6)).filterDate('2019-01-01', '2019-01-31').sort('CLOUDY_PIXEL_PERCENTAGE').first()    \n",
        "\n",
        "mosaic = ee.ImageCollection([next, first]).mosaic()"
      ],
      "execution_count": null,
      "outputs": []
    },
    {
      "cell_type": "code",
      "metadata": {
        "id": "-lou2oRp0kTy",
        "colab": {
          "base_uri": "https://localhost:8080/",
          "height": 1000
        },
        "outputId": "b8e41386-67d7-43bc-9b2c-a3209c6591c0"
      },
      "source": [
        "import folium\n",
        "!pip install geehydro # Life saver for plotting GEE stuff with Python!\n",
        "import geehydro\n",
        "\n",
        "\n",
        "# Use folium to visualize the imagery.\n",
        "map = folium.Map(location=[6,0.9],zoom_start=10) #  note switch between latitude and longitude in folium as opposed to ee.Geometry.Point\n",
        "#map.setOptions('HYBRID') # To see GE map underneath\n",
        "\n",
        "map.addLayer(mosaic, {'min': 0, 'max': 2000, 'bands':['B4','B3','B2']}, 'mosaic')\n",
        "\n",
        "map"
      ],
      "execution_count": null,
      "outputs": [
        {
          "output_type": "stream",
          "name": "stdout",
          "text": [
            "Requirement already satisfied: geehydro in /usr/local/lib/python3.7/dist-packages (0.2.0)\n",
            "Requirement already satisfied: folium in /usr/local/lib/python3.7/dist-packages (from geehydro) (0.8.3)\n",
            "Requirement already satisfied: click in /usr/local/lib/python3.7/dist-packages (from geehydro) (7.1.2)\n",
            "Requirement already satisfied: earthengine-api in /usr/local/lib/python3.7/dist-packages (from geehydro) (0.1.284)\n",
            "Requirement already satisfied: future in /usr/local/lib/python3.7/dist-packages (from earthengine-api->geehydro) (0.16.0)\n",
            "Requirement already satisfied: google-cloud-storage in /usr/local/lib/python3.7/dist-packages (from earthengine-api->geehydro) (1.18.1)\n",
            "Requirement already satisfied: httplib2<1dev,>=0.9.2 in /usr/local/lib/python3.7/dist-packages (from earthengine-api->geehydro) (0.17.4)\n",
            "Requirement already satisfied: httplib2shim in /usr/local/lib/python3.7/dist-packages (from earthengine-api->geehydro) (0.0.3)\n",
            "Requirement already satisfied: google-auth>=1.4.1 in /usr/local/lib/python3.7/dist-packages (from earthengine-api->geehydro) (1.35.0)\n",
            "Requirement already satisfied: six in /usr/local/lib/python3.7/dist-packages (from earthengine-api->geehydro) (1.15.0)\n",
            "Requirement already satisfied: google-api-python-client<2,>=1.12.1 in /usr/local/lib/python3.7/dist-packages (from earthengine-api->geehydro) (1.12.8)\n",
            "Requirement already satisfied: google-auth-httplib2>=0.0.3 in /usr/local/lib/python3.7/dist-packages (from earthengine-api->geehydro) (0.0.4)\n",
            "Requirement already satisfied: google-api-core<2dev,>=1.21.0 in /usr/local/lib/python3.7/dist-packages (from google-api-python-client<2,>=1.12.1->earthengine-api->geehydro) (1.26.3)\n",
            "Requirement already satisfied: uritemplate<4dev,>=3.0.0 in /usr/local/lib/python3.7/dist-packages (from google-api-python-client<2,>=1.12.1->earthengine-api->geehydro) (3.0.1)\n",
            "Requirement already satisfied: protobuf>=3.12.0 in /usr/local/lib/python3.7/dist-packages (from google-api-core<2dev,>=1.21.0->google-api-python-client<2,>=1.12.1->earthengine-api->geehydro) (3.17.3)\n",
            "Requirement already satisfied: setuptools>=40.3.0 in /usr/local/lib/python3.7/dist-packages (from google-api-core<2dev,>=1.21.0->google-api-python-client<2,>=1.12.1->earthengine-api->geehydro) (57.4.0)\n",
            "Requirement already satisfied: pytz in /usr/local/lib/python3.7/dist-packages (from google-api-core<2dev,>=1.21.0->google-api-python-client<2,>=1.12.1->earthengine-api->geehydro) (2018.9)\n",
            "Requirement already satisfied: googleapis-common-protos<2.0dev,>=1.6.0 in /usr/local/lib/python3.7/dist-packages (from google-api-core<2dev,>=1.21.0->google-api-python-client<2,>=1.12.1->earthengine-api->geehydro) (1.53.0)\n",
            "Requirement already satisfied: requests<3.0.0dev,>=2.18.0 in /usr/local/lib/python3.7/dist-packages (from google-api-core<2dev,>=1.21.0->google-api-python-client<2,>=1.12.1->earthengine-api->geehydro) (2.23.0)\n",
            "Requirement already satisfied: packaging>=14.3 in /usr/local/lib/python3.7/dist-packages (from google-api-core<2dev,>=1.21.0->google-api-python-client<2,>=1.12.1->earthengine-api->geehydro) (21.0)\n",
            "Requirement already satisfied: rsa<5,>=3.1.4 in /usr/local/lib/python3.7/dist-packages (from google-auth>=1.4.1->earthengine-api->geehydro) (4.7.2)\n",
            "Requirement already satisfied: cachetools<5.0,>=2.0.0 in /usr/local/lib/python3.7/dist-packages (from google-auth>=1.4.1->earthengine-api->geehydro) (4.2.4)\n",
            "Requirement already satisfied: pyasn1-modules>=0.2.1 in /usr/local/lib/python3.7/dist-packages (from google-auth>=1.4.1->earthengine-api->geehydro) (0.2.8)\n",
            "Requirement already satisfied: pyparsing>=2.0.2 in /usr/local/lib/python3.7/dist-packages (from packaging>=14.3->google-api-core<2dev,>=1.21.0->google-api-python-client<2,>=1.12.1->earthengine-api->geehydro) (2.4.7)\n",
            "Requirement already satisfied: pyasn1<0.5.0,>=0.4.6 in /usr/local/lib/python3.7/dist-packages (from pyasn1-modules>=0.2.1->google-auth>=1.4.1->earthengine-api->geehydro) (0.4.8)\n",
            "Requirement already satisfied: certifi>=2017.4.17 in /usr/local/lib/python3.7/dist-packages (from requests<3.0.0dev,>=2.18.0->google-api-core<2dev,>=1.21.0->google-api-python-client<2,>=1.12.1->earthengine-api->geehydro) (2021.5.30)\n",
            "Requirement already satisfied: chardet<4,>=3.0.2 in /usr/local/lib/python3.7/dist-packages (from requests<3.0.0dev,>=2.18.0->google-api-core<2dev,>=1.21.0->google-api-python-client<2,>=1.12.1->earthengine-api->geehydro) (3.0.4)\n",
            "Requirement already satisfied: idna<3,>=2.5 in /usr/local/lib/python3.7/dist-packages (from requests<3.0.0dev,>=2.18.0->google-api-core<2dev,>=1.21.0->google-api-python-client<2,>=1.12.1->earthengine-api->geehydro) (2.10)\n",
            "Requirement already satisfied: urllib3!=1.25.0,!=1.25.1,<1.26,>=1.21.1 in /usr/local/lib/python3.7/dist-packages (from requests<3.0.0dev,>=2.18.0->google-api-core<2dev,>=1.21.0->google-api-python-client<2,>=1.12.1->earthengine-api->geehydro) (1.24.3)\n",
            "Requirement already satisfied: branca>=0.3.0 in /usr/local/lib/python3.7/dist-packages (from folium->geehydro) (0.4.2)\n",
            "Requirement already satisfied: numpy in /usr/local/lib/python3.7/dist-packages (from folium->geehydro) (1.19.5)\n",
            "Requirement already satisfied: jinja2 in /usr/local/lib/python3.7/dist-packages (from folium->geehydro) (2.11.3)\n",
            "Requirement already satisfied: google-cloud-core<2.0dev,>=1.0.0 in /usr/local/lib/python3.7/dist-packages (from google-cloud-storage->earthengine-api->geehydro) (1.0.3)\n",
            "Requirement already satisfied: google-resumable-media<0.5.0dev,>=0.3.1 in /usr/local/lib/python3.7/dist-packages (from google-cloud-storage->earthengine-api->geehydro) (0.4.1)\n",
            "Requirement already satisfied: MarkupSafe>=0.23 in /usr/local/lib/python3.7/dist-packages (from jinja2->folium->geehydro) (2.0.1)\n"
          ]
        },
        {
          "output_type": "execute_result",
          "data": {
            "text/html": [
              "<div style=\"width:100%;\"><div style=\"position:relative;width:100%;height:0;padding-bottom:60%;\"><span style=\"color:#565656\">Make this Notebook Trusted to load map: File -> Trust Notebook</span><iframe src=\"about:blank\" style=\"position:absolute;width:100%;height:100%;left:0;top:0;border:none !important;\" data-html=%3C%21DOCTYPE%20html%3E%0A%3Chead%3E%20%20%20%20%0A%20%20%20%20%3Cmeta%20http-equiv%3D%22content-type%22%20content%3D%22text/html%3B%20charset%3DUTF-8%22%20/%3E%0A%20%20%20%20%3Cscript%3EL_PREFER_CANVAS%3Dfalse%3B%20L_NO_TOUCH%3Dfalse%3B%20L_DISABLE_3D%3Dfalse%3B%3C/script%3E%0A%20%20%20%20%3Cscript%20src%3D%22https%3A//cdn.jsdelivr.net/npm/leaflet%401.4.0/dist/leaflet.js%22%3E%3C/script%3E%0A%20%20%20%20%3Cscript%20src%3D%22https%3A//code.jquery.com/jquery-1.12.4.min.js%22%3E%3C/script%3E%0A%20%20%20%20%3Cscript%20src%3D%22https%3A//maxcdn.bootstrapcdn.com/bootstrap/3.2.0/js/bootstrap.min.js%22%3E%3C/script%3E%0A%20%20%20%20%3Cscript%20src%3D%22https%3A//cdnjs.cloudflare.com/ajax/libs/Leaflet.awesome-markers/2.0.2/leaflet.awesome-markers.js%22%3E%3C/script%3E%0A%20%20%20%20%3Clink%20rel%3D%22stylesheet%22%20href%3D%22https%3A//cdn.jsdelivr.net/npm/leaflet%401.4.0/dist/leaflet.css%22/%3E%0A%20%20%20%20%3Clink%20rel%3D%22stylesheet%22%20href%3D%22https%3A//maxcdn.bootstrapcdn.com/bootstrap/3.2.0/css/bootstrap.min.css%22/%3E%0A%20%20%20%20%3Clink%20rel%3D%22stylesheet%22%20href%3D%22https%3A//maxcdn.bootstrapcdn.com/bootstrap/3.2.0/css/bootstrap-theme.min.css%22/%3E%0A%20%20%20%20%3Clink%20rel%3D%22stylesheet%22%20href%3D%22https%3A//maxcdn.bootstrapcdn.com/font-awesome/4.6.3/css/font-awesome.min.css%22/%3E%0A%20%20%20%20%3Clink%20rel%3D%22stylesheet%22%20href%3D%22https%3A//cdnjs.cloudflare.com/ajax/libs/Leaflet.awesome-markers/2.0.2/leaflet.awesome-markers.css%22/%3E%0A%20%20%20%20%3Clink%20rel%3D%22stylesheet%22%20href%3D%22https%3A//rawcdn.githack.com/python-visualization/folium/master/folium/templates/leaflet.awesome.rotate.css%22/%3E%0A%20%20%20%20%3Cstyle%3Ehtml%2C%20body%20%7Bwidth%3A%20100%25%3Bheight%3A%20100%25%3Bmargin%3A%200%3Bpadding%3A%200%3B%7D%3C/style%3E%0A%20%20%20%20%3Cstyle%3E%23map%20%7Bposition%3Aabsolute%3Btop%3A0%3Bbottom%3A0%3Bright%3A0%3Bleft%3A0%3B%7D%3C/style%3E%0A%20%20%20%20%0A%20%20%20%20%3Cmeta%20name%3D%22viewport%22%20content%3D%22width%3Ddevice-width%2C%0A%20%20%20%20%20%20%20%20initial-scale%3D1.0%2C%20maximum-scale%3D1.0%2C%20user-scalable%3Dno%22%20/%3E%0A%20%20%20%20%3Cstyle%3E%23map_d058e3d1b71f462bb2674bbdcc57df1f%20%7B%0A%20%20%20%20%20%20%20%20position%3A%20relative%3B%0A%20%20%20%20%20%20%20%20width%3A%20100.0%25%3B%0A%20%20%20%20%20%20%20%20height%3A%20100.0%25%3B%0A%20%20%20%20%20%20%20%20left%3A%200.0%25%3B%0A%20%20%20%20%20%20%20%20top%3A%200.0%25%3B%0A%20%20%20%20%20%20%20%20%7D%0A%20%20%20%20%3C/style%3E%0A%3C/head%3E%0A%3Cbody%3E%20%20%20%20%0A%20%20%20%20%0A%20%20%20%20%3Cdiv%20class%3D%22folium-map%22%20id%3D%22map_d058e3d1b71f462bb2674bbdcc57df1f%22%20%3E%3C/div%3E%0A%3C/body%3E%0A%3Cscript%3E%20%20%20%20%0A%20%20%20%20%0A%20%20%20%20%0A%20%20%20%20%20%20%20%20var%20bounds%20%3D%20null%3B%0A%20%20%20%20%0A%0A%20%20%20%20var%20map_d058e3d1b71f462bb2674bbdcc57df1f%20%3D%20L.map%28%0A%20%20%20%20%20%20%20%20%27map_d058e3d1b71f462bb2674bbdcc57df1f%27%2C%20%7B%0A%20%20%20%20%20%20%20%20center%3A%20%5B6%2C%200.9%5D%2C%0A%20%20%20%20%20%20%20%20zoom%3A%2010%2C%0A%20%20%20%20%20%20%20%20maxBounds%3A%20bounds%2C%0A%20%20%20%20%20%20%20%20layers%3A%20%5B%5D%2C%0A%20%20%20%20%20%20%20%20worldCopyJump%3A%20false%2C%0A%20%20%20%20%20%20%20%20crs%3A%20L.CRS.EPSG3857%2C%0A%20%20%20%20%20%20%20%20zoomControl%3A%20true%2C%0A%20%20%20%20%20%20%20%20%7D%29%3B%0A%0A%0A%20%20%20%20%0A%20%20%20%20var%20tile_layer_d9f124998ac4447abcb3f2bc2de4da01%20%3D%20L.tileLayer%28%0A%20%20%20%20%20%20%20%20%27https%3A//%7Bs%7D.tile.openstreetmap.org/%7Bz%7D/%7Bx%7D/%7By%7D.png%27%2C%0A%20%20%20%20%20%20%20%20%7B%0A%20%20%20%20%20%20%20%20%22attribution%22%3A%20null%2C%0A%20%20%20%20%20%20%20%20%22detectRetina%22%3A%20false%2C%0A%20%20%20%20%20%20%20%20%22maxNativeZoom%22%3A%2018%2C%0A%20%20%20%20%20%20%20%20%22maxZoom%22%3A%2018%2C%0A%20%20%20%20%20%20%20%20%22minZoom%22%3A%200%2C%0A%20%20%20%20%20%20%20%20%22noWrap%22%3A%20false%2C%0A%20%20%20%20%20%20%20%20%22opacity%22%3A%201%2C%0A%20%20%20%20%20%20%20%20%22subdomains%22%3A%20%22abc%22%2C%0A%20%20%20%20%20%20%20%20%22tms%22%3A%20false%0A%7D%29.addTo%28map_d058e3d1b71f462bb2674bbdcc57df1f%29%3B%0A%20%20%20%20var%20tile_layer_4d2de2756b7840eaae3976997e2fbb08%20%3D%20L.tileLayer%28%0A%20%20%20%20%20%20%20%20%27https%3A//earthengine.googleapis.com/v1alpha/projects/earthengine-legacy/maps/e2aa45124491a7187acaa476dceac26d-0e712301921d64cb2f4ed540b97ff08e/tiles/%7Bz%7D/%7Bx%7D/%7By%7D%27%2C%0A%20%20%20%20%20%20%20%20%7B%0A%20%20%20%20%20%20%20%20%22attribution%22%3A%20%22Google%20Earth%20Engine%22%2C%0A%20%20%20%20%20%20%20%20%22detectRetina%22%3A%20false%2C%0A%20%20%20%20%20%20%20%20%22maxNativeZoom%22%3A%2018%2C%0A%20%20%20%20%20%20%20%20%22maxZoom%22%3A%2018%2C%0A%20%20%20%20%20%20%20%20%22minZoom%22%3A%200%2C%0A%20%20%20%20%20%20%20%20%22noWrap%22%3A%20false%2C%0A%20%20%20%20%20%20%20%20%22opacity%22%3A%201%2C%0A%20%20%20%20%20%20%20%20%22subdomains%22%3A%20%22abc%22%2C%0A%20%20%20%20%20%20%20%20%22tms%22%3A%20false%0A%7D%29.addTo%28map_d058e3d1b71f462bb2674bbdcc57df1f%29%3B%0A%3C/script%3E onload=\"this.contentDocument.open();this.contentDocument.write(    decodeURIComponent(this.getAttribute('data-html')));this.contentDocument.close();\" allowfullscreen webkitallowfullscreen mozallowfullscreen></iframe></div></div>"
            ],
            "text/plain": [
              "<folium.folium.Map at 0x7fa7b592bb90>"
            ]
          },
          "metadata": {},
          "execution_count": 19
        }
      ]
    },
    {
      "cell_type": "markdown",
      "metadata": {
        "id": "68VT0FPibafK"
      },
      "source": [
        "## Clipping"
      ]
    },
    {
      "cell_type": "markdown",
      "metadata": {
        "id": "mF1AW7KGzHNM"
      },
      "source": [
        "The `image.clip()` method is useful for achieving cartographic effects. The following example clips the mosaic built in the previous section to an arbitrary buffer zone:"
      ]
    },
    {
      "cell_type": "code",
      "metadata": {
        "id": "fKuTDP7DzWyI",
        "colab": {
          "base_uri": "https://localhost:8080/",
          "height": 712
        },
        "outputId": "2978ceae-e7f4-4bbc-e75f-edb929a663ba"
      },
      "source": [
        "# Create a circle by drawing a 20,000 meter buffer around a point.\n",
        "roi = ee.Geometry.Point([0.3, 6]).buffer(20000)\n",
        "\n",
        "# Display a clipped version of the mosaic.\n",
        "map.addLayer(mosaic.clip(roi),{'min': 0, 'max': 2000, 'bands':['B4','B3','B2']},'cropped')\n",
        "# Adding layer control to be able to activate/deactivate layers\n",
        "folium.LayerControl().add_to(map)\n",
        "# Show me\n",
        "map"
      ],
      "execution_count": null,
      "outputs": [
        {
          "output_type": "execute_result",
          "data": {
            "text/html": [
              "<div style=\"width:100%;\"><div style=\"position:relative;width:100%;height:0;padding-bottom:60%;\"><span style=\"color:#565656\">Make this Notebook Trusted to load map: File -> Trust Notebook</span><iframe src=\"about:blank\" style=\"position:absolute;width:100%;height:100%;left:0;top:0;border:none !important;\" data-html=%3C%21DOCTYPE%20html%3E%0A%3Chead%3E%20%20%20%20%0A%20%20%20%20%3Cmeta%20http-equiv%3D%22content-type%22%20content%3D%22text/html%3B%20charset%3DUTF-8%22%20/%3E%0A%20%20%20%20%3Cscript%3EL_PREFER_CANVAS%3Dfalse%3B%20L_NO_TOUCH%3Dfalse%3B%20L_DISABLE_3D%3Dfalse%3B%3C/script%3E%0A%20%20%20%20%3Cscript%20src%3D%22https%3A//cdn.jsdelivr.net/npm/leaflet%401.4.0/dist/leaflet.js%22%3E%3C/script%3E%0A%20%20%20%20%3Cscript%20src%3D%22https%3A//code.jquery.com/jquery-1.12.4.min.js%22%3E%3C/script%3E%0A%20%20%20%20%3Cscript%20src%3D%22https%3A//maxcdn.bootstrapcdn.com/bootstrap/3.2.0/js/bootstrap.min.js%22%3E%3C/script%3E%0A%20%20%20%20%3Cscript%20src%3D%22https%3A//cdnjs.cloudflare.com/ajax/libs/Leaflet.awesome-markers/2.0.2/leaflet.awesome-markers.js%22%3E%3C/script%3E%0A%20%20%20%20%3Clink%20rel%3D%22stylesheet%22%20href%3D%22https%3A//cdn.jsdelivr.net/npm/leaflet%401.4.0/dist/leaflet.css%22/%3E%0A%20%20%20%20%3Clink%20rel%3D%22stylesheet%22%20href%3D%22https%3A//maxcdn.bootstrapcdn.com/bootstrap/3.2.0/css/bootstrap.min.css%22/%3E%0A%20%20%20%20%3Clink%20rel%3D%22stylesheet%22%20href%3D%22https%3A//maxcdn.bootstrapcdn.com/bootstrap/3.2.0/css/bootstrap-theme.min.css%22/%3E%0A%20%20%20%20%3Clink%20rel%3D%22stylesheet%22%20href%3D%22https%3A//maxcdn.bootstrapcdn.com/font-awesome/4.6.3/css/font-awesome.min.css%22/%3E%0A%20%20%20%20%3Clink%20rel%3D%22stylesheet%22%20href%3D%22https%3A//cdnjs.cloudflare.com/ajax/libs/Leaflet.awesome-markers/2.0.2/leaflet.awesome-markers.css%22/%3E%0A%20%20%20%20%3Clink%20rel%3D%22stylesheet%22%20href%3D%22https%3A//rawcdn.githack.com/python-visualization/folium/master/folium/templates/leaflet.awesome.rotate.css%22/%3E%0A%20%20%20%20%3Cstyle%3Ehtml%2C%20body%20%7Bwidth%3A%20100%25%3Bheight%3A%20100%25%3Bmargin%3A%200%3Bpadding%3A%200%3B%7D%3C/style%3E%0A%20%20%20%20%3Cstyle%3E%23map%20%7Bposition%3Aabsolute%3Btop%3A0%3Bbottom%3A0%3Bright%3A0%3Bleft%3A0%3B%7D%3C/style%3E%0A%20%20%20%20%0A%20%20%20%20%3Cmeta%20name%3D%22viewport%22%20content%3D%22width%3Ddevice-width%2C%0A%20%20%20%20%20%20%20%20initial-scale%3D1.0%2C%20maximum-scale%3D1.0%2C%20user-scalable%3Dno%22%20/%3E%0A%20%20%20%20%3Cstyle%3E%23map_d058e3d1b71f462bb2674bbdcc57df1f%20%7B%0A%20%20%20%20%20%20%20%20position%3A%20relative%3B%0A%20%20%20%20%20%20%20%20width%3A%20100.0%25%3B%0A%20%20%20%20%20%20%20%20height%3A%20100.0%25%3B%0A%20%20%20%20%20%20%20%20left%3A%200.0%25%3B%0A%20%20%20%20%20%20%20%20top%3A%200.0%25%3B%0A%20%20%20%20%20%20%20%20%7D%0A%20%20%20%20%3C/style%3E%0A%3C/head%3E%0A%3Cbody%3E%20%20%20%20%0A%20%20%20%20%0A%20%20%20%20%3Cdiv%20class%3D%22folium-map%22%20id%3D%22map_d058e3d1b71f462bb2674bbdcc57df1f%22%20%3E%3C/div%3E%0A%3C/body%3E%0A%3Cscript%3E%20%20%20%20%0A%20%20%20%20%0A%20%20%20%20%0A%20%20%20%20%20%20%20%20var%20bounds%20%3D%20null%3B%0A%20%20%20%20%0A%0A%20%20%20%20var%20map_d058e3d1b71f462bb2674bbdcc57df1f%20%3D%20L.map%28%0A%20%20%20%20%20%20%20%20%27map_d058e3d1b71f462bb2674bbdcc57df1f%27%2C%20%7B%0A%20%20%20%20%20%20%20%20center%3A%20%5B6%2C%200.9%5D%2C%0A%20%20%20%20%20%20%20%20zoom%3A%2010%2C%0A%20%20%20%20%20%20%20%20maxBounds%3A%20bounds%2C%0A%20%20%20%20%20%20%20%20layers%3A%20%5B%5D%2C%0A%20%20%20%20%20%20%20%20worldCopyJump%3A%20false%2C%0A%20%20%20%20%20%20%20%20crs%3A%20L.CRS.EPSG3857%2C%0A%20%20%20%20%20%20%20%20zoomControl%3A%20true%2C%0A%20%20%20%20%20%20%20%20%7D%29%3B%0A%0A%0A%20%20%20%20%0A%20%20%20%20var%20tile_layer_d9f124998ac4447abcb3f2bc2de4da01%20%3D%20L.tileLayer%28%0A%20%20%20%20%20%20%20%20%27https%3A//%7Bs%7D.tile.openstreetmap.org/%7Bz%7D/%7Bx%7D/%7By%7D.png%27%2C%0A%20%20%20%20%20%20%20%20%7B%0A%20%20%20%20%20%20%20%20%22attribution%22%3A%20null%2C%0A%20%20%20%20%20%20%20%20%22detectRetina%22%3A%20false%2C%0A%20%20%20%20%20%20%20%20%22maxNativeZoom%22%3A%2018%2C%0A%20%20%20%20%20%20%20%20%22maxZoom%22%3A%2018%2C%0A%20%20%20%20%20%20%20%20%22minZoom%22%3A%200%2C%0A%20%20%20%20%20%20%20%20%22noWrap%22%3A%20false%2C%0A%20%20%20%20%20%20%20%20%22opacity%22%3A%201%2C%0A%20%20%20%20%20%20%20%20%22subdomains%22%3A%20%22abc%22%2C%0A%20%20%20%20%20%20%20%20%22tms%22%3A%20false%0A%7D%29.addTo%28map_d058e3d1b71f462bb2674bbdcc57df1f%29%3B%0A%20%20%20%20var%20tile_layer_4d2de2756b7840eaae3976997e2fbb08%20%3D%20L.tileLayer%28%0A%20%20%20%20%20%20%20%20%27https%3A//earthengine.googleapis.com/v1alpha/projects/earthengine-legacy/maps/e2aa45124491a7187acaa476dceac26d-0e712301921d64cb2f4ed540b97ff08e/tiles/%7Bz%7D/%7Bx%7D/%7By%7D%27%2C%0A%20%20%20%20%20%20%20%20%7B%0A%20%20%20%20%20%20%20%20%22attribution%22%3A%20%22Google%20Earth%20Engine%22%2C%0A%20%20%20%20%20%20%20%20%22detectRetina%22%3A%20false%2C%0A%20%20%20%20%20%20%20%20%22maxNativeZoom%22%3A%2018%2C%0A%20%20%20%20%20%20%20%20%22maxZoom%22%3A%2018%2C%0A%20%20%20%20%20%20%20%20%22minZoom%22%3A%200%2C%0A%20%20%20%20%20%20%20%20%22noWrap%22%3A%20false%2C%0A%20%20%20%20%20%20%20%20%22opacity%22%3A%201%2C%0A%20%20%20%20%20%20%20%20%22subdomains%22%3A%20%22abc%22%2C%0A%20%20%20%20%20%20%20%20%22tms%22%3A%20false%0A%7D%29.addTo%28map_d058e3d1b71f462bb2674bbdcc57df1f%29%3B%0A%20%20%20%20var%20tile_layer_66db8511c2594d1a8c190993266f5d6f%20%3D%20L.tileLayer%28%0A%20%20%20%20%20%20%20%20%27https%3A//earthengine.googleapis.com/v1alpha/projects/earthengine-legacy/maps/c17098af81f0b08fe01a7669829e3b1e-f4a8b2ccbd3d433b87a131d8c3bd1a96/tiles/%7Bz%7D/%7Bx%7D/%7By%7D%27%2C%0A%20%20%20%20%20%20%20%20%7B%0A%20%20%20%20%20%20%20%20%22attribution%22%3A%20%22Google%20Earth%20Engine%22%2C%0A%20%20%20%20%20%20%20%20%22detectRetina%22%3A%20false%2C%0A%20%20%20%20%20%20%20%20%22maxNativeZoom%22%3A%2018%2C%0A%20%20%20%20%20%20%20%20%22maxZoom%22%3A%2018%2C%0A%20%20%20%20%20%20%20%20%22minZoom%22%3A%200%2C%0A%20%20%20%20%20%20%20%20%22noWrap%22%3A%20false%2C%0A%20%20%20%20%20%20%20%20%22opacity%22%3A%201%2C%0A%20%20%20%20%20%20%20%20%22subdomains%22%3A%20%22abc%22%2C%0A%20%20%20%20%20%20%20%20%22tms%22%3A%20false%0A%7D%29.addTo%28map_d058e3d1b71f462bb2674bbdcc57df1f%29%3B%0A%20%20%20%20%0A%20%20%20%20%20%20%20%20%20%20%20%20var%20layer_control_f7fa4666e7ce49fcab1727a5c3625f66%20%3D%20%7B%0A%20%20%20%20%20%20%20%20%20%20%20%20%20%20%20%20base_layers%20%3A%20%7B%20%22openstreetmap%22%20%3A%20tile_layer_d9f124998ac4447abcb3f2bc2de4da01%2C%20%7D%2C%0A%20%20%20%20%20%20%20%20%20%20%20%20%20%20%20%20overlays%20%3A%20%7B%20%22mosaic%22%20%3A%20tile_layer_4d2de2756b7840eaae3976997e2fbb08%2C%22cropped%22%20%3A%20tile_layer_66db8511c2594d1a8c190993266f5d6f%2C%20%7D%0A%20%20%20%20%20%20%20%20%20%20%20%20%20%20%20%20%7D%3B%0A%20%20%20%20%20%20%20%20%20%20%20%20L.control.layers%28%0A%20%20%20%20%20%20%20%20%20%20%20%20%20%20%20%20layer_control_f7fa4666e7ce49fcab1727a5c3625f66.base_layers%2C%0A%20%20%20%20%20%20%20%20%20%20%20%20%20%20%20%20layer_control_f7fa4666e7ce49fcab1727a5c3625f66.overlays%2C%0A%20%20%20%20%20%20%20%20%20%20%20%20%20%20%20%20%7Bposition%3A%20%27topright%27%2C%0A%20%20%20%20%20%20%20%20%20%20%20%20%20%20%20%20%20collapsed%3A%20true%2C%0A%20%20%20%20%20%20%20%20%20%20%20%20%20%20%20%20%20autoZIndex%3A%20true%0A%20%20%20%20%20%20%20%20%20%20%20%20%20%20%20%20%7D%29.addTo%28map_d058e3d1b71f462bb2674bbdcc57df1f%29%3B%0A%20%20%20%20%20%20%20%20%20%20%20%20%0A%20%20%20%20%20%20%20%20%0A%3C/script%3E onload=\"this.contentDocument.open();this.contentDocument.write(    decodeURIComponent(this.getAttribute('data-html')));this.contentDocument.close();\" allowfullscreen webkitallowfullscreen mozallowfullscreen></iframe></div></div>"
            ],
            "text/plain": [
              "<folium.folium.Map at 0x7fa7b592bb90>"
            ]
          },
          "metadata": {},
          "execution_count": 20
        }
      ]
    },
    {
      "cell_type": "markdown",
      "metadata": {
        "id": "b5_cTHAcbafL"
      },
      "source": [
        "## Image information and metadata"
      ]
    },
    {
      "cell_type": "markdown",
      "metadata": {
        "id": "K6l72ebK31dN"
      },
      "source": [
        "To explore image bands and properties in the Code Editor, print() the image and inspect the output."
      ]
    },
    {
      "cell_type": "code",
      "metadata": {
        "id": "D3DXXiOx3aM7",
        "colab": {
          "base_uri": "https://localhost:8080/"
        },
        "outputId": "bbfcc9a7-dac8-4e40-f0f3-a62203e847f5"
      },
      "source": [
        "#Get information about the bands as a list.\n",
        "bandNames = image.bandNames()\n",
        "print('Band names: '+str(bandNames.getInfo())) # ee.List of band names\n",
        "\n",
        "#Get projection information from band 1.\n",
        "b1proj = image.select('B1').projection()\n",
        "print('Band 1 projection: '+str(b1proj.getInfo())) # ee.Projection object\n",
        "\n",
        "#Get scale (in meters) information from band 1.\n",
        "b1scale = image.select('B1').projection().nominalScale()\n",
        "print('Band 1 scale: '+str(b1scale.getInfo())) # ee.Number\n",
        "\n",
        "#Note that different bands can have different projections and scale.\n",
        "b8scale = image.select('B8').projection().nominalScale()\n",
        "print('Band 8 scale: '+str(b8scale.getInfo())) # ee.Number\n",
        "\n",
        "#Get a list of all metadata properties.\n",
        "properties = image.propertyNames()\n",
        "print('Metadata properties: '+str(properties.getInfo())) # ee.List of metadata properties\n",
        "\n",
        "#Get a specific metadata property.\n",
        "cloudiness = image.get('CLOUD_COVER')\n",
        "print('CLOUD_COVER: '+str(cloudiness.getInfo())) # ee.Number\n",
        "\n",
        "#Get the timestamp and convert it to a date.\n",
        "date = ee.Date(image.get('system:time_start'))\n",
        "print('Timestamp: '+str(date.getInfo())) # ee.Date"
      ],
      "execution_count": null,
      "outputs": [
        {
          "output_type": "stream",
          "name": "stdout",
          "text": [
            "Band names: ['B1', 'B2', 'B3', 'B4', 'B5', 'B6', 'B7', 'B8', 'B9', 'B10', 'B11', 'BQA']\n",
            "Band 1 projection: {'type': 'Projection', 'crs': 'EPSG:32610', 'transform': [30, 0, 460785, 0, -30, 4264215]}\n",
            "Band 1 scale: 30\n",
            "Band 8 scale: 15\n",
            "Metadata properties: ['system:version', 'system:id', 'RADIANCE_MULT_BAND_5', 'RADIANCE_MULT_BAND_6', 'RADIANCE_MULT_BAND_3', 'RADIANCE_MULT_BAND_4', 'RADIANCE_MULT_BAND_1', 'RADIANCE_MULT_BAND_2', 'K2_CONSTANT_BAND_11', 'K2_CONSTANT_BAND_10', 'system:footprint', 'REFLECTIVE_SAMPLES', 'SUN_AZIMUTH', 'CPF_NAME', 'DATE_ACQUIRED', 'ELLIPSOID', 'google:registration_offset_x', 'google:registration_offset_y', 'STATION_ID', 'RESAMPLING_OPTION', 'ORIENTATION', 'WRS_ROW', 'RADIANCE_MULT_BAND_9', 'TARGET_WRS_ROW', 'RADIANCE_MULT_BAND_7', 'RADIANCE_MULT_BAND_8', 'IMAGE_QUALITY_TIRS', 'TRUNCATION_OLI', 'CLOUD_COVER', 'GEOMETRIC_RMSE_VERIFY', 'COLLECTION_CATEGORY', 'GRID_CELL_SIZE_REFLECTIVE', 'CLOUD_COVER_LAND', 'GEOMETRIC_RMSE_MODEL', 'COLLECTION_NUMBER', 'IMAGE_QUALITY_OLI', 'LANDSAT_SCENE_ID', 'WRS_PATH', 'google:registration_count', 'PANCHROMATIC_SAMPLES', 'PANCHROMATIC_LINES', 'GEOMETRIC_RMSE_MODEL_Y', 'REFLECTIVE_LINES', 'TIRS_STRAY_LIGHT_CORRECTION_SOURCE', 'GEOMETRIC_RMSE_MODEL_X', 'system:asset_size', 'system:index', 'REFLECTANCE_ADD_BAND_1', 'REFLECTANCE_ADD_BAND_2', 'DATUM', 'REFLECTANCE_ADD_BAND_3', 'REFLECTANCE_ADD_BAND_4', 'RLUT_FILE_NAME', 'REFLECTANCE_ADD_BAND_5', 'REFLECTANCE_ADD_BAND_6', 'REFLECTANCE_ADD_BAND_7', 'REFLECTANCE_ADD_BAND_8', 'BPF_NAME_TIRS', 'GROUND_CONTROL_POINTS_VERSION', 'DATA_TYPE', 'UTM_ZONE', 'LANDSAT_PRODUCT_ID', 'REFLECTANCE_ADD_BAND_9', 'google:registration_ratio', 'GRID_CELL_SIZE_PANCHROMATIC', 'RADIANCE_ADD_BAND_4', 'REFLECTANCE_MULT_BAND_7', 'system:time_start', 'RADIANCE_ADD_BAND_5', 'REFLECTANCE_MULT_BAND_6', 'RADIANCE_ADD_BAND_6', 'REFLECTANCE_MULT_BAND_9', 'PROCESSING_SOFTWARE_VERSION', 'RADIANCE_ADD_BAND_7', 'REFLECTANCE_MULT_BAND_8', 'RADIANCE_ADD_BAND_1', 'RADIANCE_ADD_BAND_2', 'RADIANCE_ADD_BAND_3', 'REFLECTANCE_MULT_BAND_1', 'RADIANCE_ADD_BAND_8', 'REFLECTANCE_MULT_BAND_3', 'RADIANCE_ADD_BAND_9', 'REFLECTANCE_MULT_BAND_2', 'REFLECTANCE_MULT_BAND_5', 'REFLECTANCE_MULT_BAND_4', 'THERMAL_LINES', 'TIRS_SSM_POSITION_STATUS', 'GRID_CELL_SIZE_THERMAL', 'NADIR_OFFNADIR', 'RADIANCE_ADD_BAND_11', 'REQUEST_ID', 'EARTH_SUN_DISTANCE', 'TIRS_SSM_MODEL', 'FILE_DATE', 'SCENE_CENTER_TIME', 'SUN_ELEVATION', 'BPF_NAME_OLI', 'RADIANCE_ADD_BAND_10', 'ROLL_ANGLE', 'K1_CONSTANT_BAND_10', 'SATURATION_BAND_1', 'SATURATION_BAND_2', 'SATURATION_BAND_3', 'SATURATION_BAND_4', 'SATURATION_BAND_5', 'MAP_PROJECTION', 'SATURATION_BAND_6', 'SENSOR_ID', 'SATURATION_BAND_7', 'K1_CONSTANT_BAND_11', 'SATURATION_BAND_8', 'SATURATION_BAND_9', 'TARGET_WRS_PATH', 'RADIANCE_MULT_BAND_11', 'RADIANCE_MULT_BAND_10', 'GROUND_CONTROL_POINTS_MODEL', 'SPACECRAFT_ID', 'ELEVATION_SOURCE', 'THERMAL_SAMPLES', 'GROUND_CONTROL_POINTS_VERIFY', 'system:bands', 'system:band_names']\n",
            "CLOUD_COVER: 0.05999999865889549\n",
            "Timestamp: {'type': 'Date', 'value': 1395168392050}\n"
          ]
        }
      ]
    },
    {
      "cell_type": "markdown",
      "metadata": {
        "id": "EXS97OzBbafL"
      },
      "source": [
        "## Mathematical operators"
      ]
    },
    {
      "cell_type": "markdown",
      "metadata": {
        "id": "BlUl4XVq4opG"
      },
      "source": [
        "Earth Engine supports many basic mathematical operators. They share some common features. Earth Engine performs math operations per pixel. When an operator is applied to an image, it's applied to each unmasked pixel of each band. In the case of operations on two images, the operation is only applied at the locations where pixels in both images are unmasked. Earth Engine automatically matches bands between images. When an operator is applied to two images, the images are expected to have the same number of bands so they can be matched pairwise. However, if one of the images has only a single band, it is matched with all of the bands in the other image, essentially replicating that band enough times to match the other image.\n",
        "\n",
        "For a simple example, consider the task of creating the Normalized Difference Vegetation Index (NDVI) using Landsat imagery:"
      ]
    },
    {
      "cell_type": "code",
      "metadata": {
        "id": "Z8-5JmMV4qos",
        "colab": {
          "base_uri": "https://localhost:8080/"
        },
        "outputId": "8ca6712f-2c13-46dd-f8ae-eb2d5566a61b"
      },
      "source": [
        "!pip install pprint\n",
        "import pprint\n",
        "\n",
        "# Configure the pretty printing output & initialize earthengine.\n",
        "pp = pprint.PrettyPrinter(depth=4) # depth - nesting output to make viewing info easier\n",
        "\n",
        "# Load two 5-year Landsat 7 composites.\n",
        "landsat1999 = ee.Image('LANDSAT/LE7_TOA_5YEAR/1999_2003')\n",
        "landsat2008 = ee.Image('LANDSAT/LE7_TOA_5YEAR/2008_2012')\n",
        "\n",
        "# Compute NDVI the hard way.\n",
        "ndvi1999 = (landsat1999.select('B4').subtract(landsat1999.select('B3'))\n",
        "    .divide(landsat1999.select('B4').add(landsat1999.select('B3'))).rename(['NDVI']))\n",
        "\n",
        "# Compute NDVI the easy way.\n",
        "ndvi2008 = landsat2008.normalizedDifference(['B4', 'B3']).rename(['NDVI'])\n",
        "\n",
        "print('NDVI 1999')\n",
        "pp.pprint(ndvi1999.getInfo())\n",
        "\n",
        "print('\\n'+'NDVI 2008')\n",
        "pp.pprint(ndvi2008.getInfo())"
      ],
      "execution_count": null,
      "outputs": [
        {
          "output_type": "stream",
          "name": "stdout",
          "text": [
            "\u001b[31mERROR: Could not find a version that satisfies the requirement pprint (from versions: none)\u001b[0m\n",
            "\u001b[31mERROR: No matching distribution found for pprint\u001b[0m\n",
            "NDVI 1999\n",
            "{'bands': [{'crs': 'EPSG:4326',\n",
            "            'crs_transform': [0.00026949456294719256,\n",
            "                              0,\n",
            "                              -180,\n",
            "                              0,\n",
            "                              -0.00026949456294719256,\n",
            "                              86.0000269494563],\n",
            "            'data_type': {'precision': 'float', 'type': 'PixelType'},\n",
            "            'id': 'NDVI'}],\n",
            " 'type': 'Image'}\n",
            "\n",
            "NDVI 2008\n",
            "{'bands': [{'crs': 'EPSG:4326',\n",
            "            'crs_transform': [0.00026949456294719256,\n",
            "                              0,\n",
            "                              -180,\n",
            "                              0,\n",
            "                              -0.00026949456294719256,\n",
            "                              86.0000269494563],\n",
            "            'data_type': {'max': 1,\n",
            "                          'min': -1,\n",
            "                          'precision': 'float',\n",
            "                          'type': 'PixelType'},\n",
            "            'dimensions': [1335834, 638232],\n",
            "            'id': 'NDVI'}],\n",
            " 'type': 'Image'}\n"
          ]
        }
      ]
    },
    {
      "cell_type": "code",
      "metadata": {
        "id": "FCY_T1NX50KH",
        "colab": {
          "base_uri": "https://localhost:8080/",
          "height": 712
        },
        "outputId": "5c1aabbf-9379-4b2d-b21c-bf7ef78a848e"
      },
      "source": [
        "ndvi_diff = ndvi2008.subtract(ndvi1999)\n",
        "map2 = folium.Map()\n",
        "map2.addLayer(ndvi_diff, {'min': -0.1, 'max': 0.1, 'palette': ['ffffcc', '800026'],}, 'ndvi_diff') # Palette code for YlOrRd_09: min=ffffcc, max= 800026\n",
        "\n",
        "# Colour map\n",
        "import branca.colormap as cm\n",
        "colormap = cm.linear.YlOrRd_09.scale(-0.1, 0.1)\n",
        "colormap.caption = 'NDVI Difference 2008 - 1999'\n",
        "map2.add_child(colormap)\n",
        "map2"
      ],
      "execution_count": null,
      "outputs": [
        {
          "output_type": "execute_result",
          "data": {
            "text/html": [
              "<div style=\"width:100%;\"><div style=\"position:relative;width:100%;height:0;padding-bottom:60%;\"><span style=\"color:#565656\">Make this Notebook Trusted to load map: File -> Trust Notebook</span><iframe src=\"about:blank\" style=\"position:absolute;width:100%;height:100%;left:0;top:0;border:none !important;\" data-html=%3C%21DOCTYPE%20html%3E%0A%3Chead%3E%20%20%20%20%0A%20%20%20%20%3Cmeta%20http-equiv%3D%22content-type%22%20content%3D%22text/html%3B%20charset%3DUTF-8%22%20/%3E%0A%20%20%20%20%3Cscript%3EL_PREFER_CANVAS%3Dfalse%3B%20L_NO_TOUCH%3Dfalse%3B%20L_DISABLE_3D%3Dfalse%3B%3C/script%3E%0A%20%20%20%20%3Cscript%20src%3D%22https%3A//cdn.jsdelivr.net/npm/leaflet%401.4.0/dist/leaflet.js%22%3E%3C/script%3E%0A%20%20%20%20%3Cscript%20src%3D%22https%3A//code.jquery.com/jquery-1.12.4.min.js%22%3E%3C/script%3E%0A%20%20%20%20%3Cscript%20src%3D%22https%3A//maxcdn.bootstrapcdn.com/bootstrap/3.2.0/js/bootstrap.min.js%22%3E%3C/script%3E%0A%20%20%20%20%3Cscript%20src%3D%22https%3A//cdnjs.cloudflare.com/ajax/libs/Leaflet.awesome-markers/2.0.2/leaflet.awesome-markers.js%22%3E%3C/script%3E%0A%20%20%20%20%3Clink%20rel%3D%22stylesheet%22%20href%3D%22https%3A//cdn.jsdelivr.net/npm/leaflet%401.4.0/dist/leaflet.css%22/%3E%0A%20%20%20%20%3Clink%20rel%3D%22stylesheet%22%20href%3D%22https%3A//maxcdn.bootstrapcdn.com/bootstrap/3.2.0/css/bootstrap.min.css%22/%3E%0A%20%20%20%20%3Clink%20rel%3D%22stylesheet%22%20href%3D%22https%3A//maxcdn.bootstrapcdn.com/bootstrap/3.2.0/css/bootstrap-theme.min.css%22/%3E%0A%20%20%20%20%3Clink%20rel%3D%22stylesheet%22%20href%3D%22https%3A//maxcdn.bootstrapcdn.com/font-awesome/4.6.3/css/font-awesome.min.css%22/%3E%0A%20%20%20%20%3Clink%20rel%3D%22stylesheet%22%20href%3D%22https%3A//cdnjs.cloudflare.com/ajax/libs/Leaflet.awesome-markers/2.0.2/leaflet.awesome-markers.css%22/%3E%0A%20%20%20%20%3Clink%20rel%3D%22stylesheet%22%20href%3D%22https%3A//rawcdn.githack.com/python-visualization/folium/master/folium/templates/leaflet.awesome.rotate.css%22/%3E%0A%20%20%20%20%3Cstyle%3Ehtml%2C%20body%20%7Bwidth%3A%20100%25%3Bheight%3A%20100%25%3Bmargin%3A%200%3Bpadding%3A%200%3B%7D%3C/style%3E%0A%20%20%20%20%3Cstyle%3E%23map%20%7Bposition%3Aabsolute%3Btop%3A0%3Bbottom%3A0%3Bright%3A0%3Bleft%3A0%3B%7D%3C/style%3E%0A%20%20%20%20%0A%20%20%20%20%3Cmeta%20name%3D%22viewport%22%20content%3D%22width%3Ddevice-width%2C%0A%20%20%20%20%20%20%20%20initial-scale%3D1.0%2C%20maximum-scale%3D1.0%2C%20user-scalable%3Dno%22%20/%3E%0A%20%20%20%20%3Cstyle%3E%23map_96c1e5bc0ecb4ff2915cdce47f2418ee%20%7B%0A%20%20%20%20%20%20%20%20position%3A%20relative%3B%0A%20%20%20%20%20%20%20%20width%3A%20100.0%25%3B%0A%20%20%20%20%20%20%20%20height%3A%20100.0%25%3B%0A%20%20%20%20%20%20%20%20left%3A%200.0%25%3B%0A%20%20%20%20%20%20%20%20top%3A%200.0%25%3B%0A%20%20%20%20%20%20%20%20%7D%0A%20%20%20%20%3C/style%3E%0A%20%20%20%20%3Cscript%20src%3D%22https%3A//cdnjs.cloudflare.com/ajax/libs/d3/3.5.5/d3.min.js%22%3E%3C/script%3E%0A%3C/head%3E%0A%3Cbody%3E%20%20%20%20%0A%20%20%20%20%0A%20%20%20%20%3Cdiv%20class%3D%22folium-map%22%20id%3D%22map_96c1e5bc0ecb4ff2915cdce47f2418ee%22%20%3E%3C/div%3E%0A%3C/body%3E%0A%3Cscript%3E%20%20%20%20%0A%20%20%20%20%0A%20%20%20%20%0A%20%20%20%20%20%20%20%20var%20bounds%20%3D%20null%3B%0A%20%20%20%20%0A%0A%20%20%20%20var%20map_96c1e5bc0ecb4ff2915cdce47f2418ee%20%3D%20L.map%28%0A%20%20%20%20%20%20%20%20%27map_96c1e5bc0ecb4ff2915cdce47f2418ee%27%2C%20%7B%0A%20%20%20%20%20%20%20%20center%3A%20%5B0%2C%200%5D%2C%0A%20%20%20%20%20%20%20%20zoom%3A%201%2C%0A%20%20%20%20%20%20%20%20maxBounds%3A%20bounds%2C%0A%20%20%20%20%20%20%20%20layers%3A%20%5B%5D%2C%0A%20%20%20%20%20%20%20%20worldCopyJump%3A%20false%2C%0A%20%20%20%20%20%20%20%20crs%3A%20L.CRS.EPSG3857%2C%0A%20%20%20%20%20%20%20%20zoomControl%3A%20true%2C%0A%20%20%20%20%20%20%20%20%7D%29%3B%0A%0A%0A%20%20%20%20%0A%20%20%20%20var%20tile_layer_dbfbe33d86b94463b3af27c79b075f51%20%3D%20L.tileLayer%28%0A%20%20%20%20%20%20%20%20%27https%3A//%7Bs%7D.tile.openstreetmap.org/%7Bz%7D/%7Bx%7D/%7By%7D.png%27%2C%0A%20%20%20%20%20%20%20%20%7B%0A%20%20%20%20%20%20%20%20%22attribution%22%3A%20null%2C%0A%20%20%20%20%20%20%20%20%22detectRetina%22%3A%20false%2C%0A%20%20%20%20%20%20%20%20%22maxNativeZoom%22%3A%2018%2C%0A%20%20%20%20%20%20%20%20%22maxZoom%22%3A%2018%2C%0A%20%20%20%20%20%20%20%20%22minZoom%22%3A%200%2C%0A%20%20%20%20%20%20%20%20%22noWrap%22%3A%20false%2C%0A%20%20%20%20%20%20%20%20%22opacity%22%3A%201%2C%0A%20%20%20%20%20%20%20%20%22subdomains%22%3A%20%22abc%22%2C%0A%20%20%20%20%20%20%20%20%22tms%22%3A%20false%0A%7D%29.addTo%28map_96c1e5bc0ecb4ff2915cdce47f2418ee%29%3B%0A%20%20%20%20var%20tile_layer_2b5f1168bdab435487a5afa4efb350b5%20%3D%20L.tileLayer%28%0A%20%20%20%20%20%20%20%20%27https%3A//earthengine.googleapis.com/v1alpha/projects/earthengine-legacy/maps/ce17ed474842c68fdca6a787757c4b38-8435e398ef0b54104a9252bf3ce58985/tiles/%7Bz%7D/%7Bx%7D/%7By%7D%27%2C%0A%20%20%20%20%20%20%20%20%7B%0A%20%20%20%20%20%20%20%20%22attribution%22%3A%20%22Google%20Earth%20Engine%22%2C%0A%20%20%20%20%20%20%20%20%22detectRetina%22%3A%20false%2C%0A%20%20%20%20%20%20%20%20%22maxNativeZoom%22%3A%2018%2C%0A%20%20%20%20%20%20%20%20%22maxZoom%22%3A%2018%2C%0A%20%20%20%20%20%20%20%20%22minZoom%22%3A%200%2C%0A%20%20%20%20%20%20%20%20%22noWrap%22%3A%20false%2C%0A%20%20%20%20%20%20%20%20%22opacity%22%3A%201%2C%0A%20%20%20%20%20%20%20%20%22subdomains%22%3A%20%22abc%22%2C%0A%20%20%20%20%20%20%20%20%22tms%22%3A%20false%0A%7D%29.addTo%28map_96c1e5bc0ecb4ff2915cdce47f2418ee%29%3B%0A%20%20%20%20%0A%20%20%20%20var%20color_map_755deea7679b49c7ae6c13e58119015f%20%3D%20%7B%7D%3B%0A%0A%20%20%20%20%0A%20%20%20%20color_map_755deea7679b49c7ae6c13e58119015f.color%20%3D%20d3.scale.threshold%28%29%0A%20%20%20%20%20%20%20%20%20%20%20%20%20%20.domain%28%5B-0.1%2C%20-0.0995991983967936%2C%20-0.09919839679358718%2C%20-0.09879759519038077%2C%20-0.09839679358717436%2C%20-0.09799599198396794%2C%20-0.09759519038076153%2C%20-0.09719438877755511%2C%20-0.0967935871743487%2C%20-0.0963927855711423%2C%20-0.09599198396793587%2C%20-0.09559118236472947%2C%20-0.09519038076152306%2C%20-0.09478957915831664%2C%20-0.09438877755511023%2C%20-0.09398797595190381%2C%20-0.0935871743486974%2C%20-0.09318637274549099%2C%20-0.09278557114228457%2C%20-0.09238476953907816%2C%20-0.09198396793587175%2C%20-0.09158316633266533%2C%20-0.09118236472945893%2C%20-0.0907815631262525%2C%20-0.0903807615230461%2C%20-0.08997995991983969%2C%20-0.08957915831663327%2C%20-0.08917835671342686%2C%20-0.08877755511022045%2C%20-0.08837675350701403%2C%20-0.08797595190380762%2C%20-0.0875751503006012%2C%20-0.0871743486973948%2C%20-0.08677354709418839%2C%20-0.08637274549098196%2C%20-0.08597194388777556%2C%20-0.08557114228456915%2C%20-0.08517034068136273%2C%20-0.08476953907815632%2C%20-0.08436873747494991%2C%20-0.08396793587174349%2C%20-0.08356713426853708%2C%20-0.08316633266533066%2C%20-0.08276553106212425%2C%20-0.08236472945891785%2C%20-0.08196392785571142%2C%20-0.08156312625250502%2C%20-0.0811623246492986%2C%20-0.08076152304609219%2C%20-0.08036072144288578%2C%20-0.07995991983967937%2C%20-0.07955911823647295%2C%20-0.07915831663326654%2C%20-0.07875751503006012%2C%20-0.07835671342685371%2C%20-0.0779559118236473%2C%20-0.07755511022044088%2C%20-0.07715430861723448%2C%20-0.07675350701402806%2C%20-0.07635270541082165%2C%20-0.07595190380761524%2C%20-0.07555110220440882%2C%20-0.07515030060120241%2C%20-0.07474949899799599%2C%20-0.07434869739478958%2C%20-0.07394789579158317%2C%20-0.07354709418837675%2C%20-0.07314629258517034%2C%20-0.07274549098196392%2C%20-0.07234468937875752%2C%20-0.07194388777555111%2C%20-0.0715430861723447%2C%20-0.07114228456913828%2C%20-0.07074148296593187%2C%20-0.07034068136272545%2C%20-0.06993987975951904%2C%20-0.06953907815631263%2C%20-0.06913827655310621%2C%20-0.0687374749498998%2C%20-0.06833667334669338%2C%20-0.06793587174348698%2C%20-0.06753507014028057%2C%20-0.06713426853707416%2C%20-0.06673346693386774%2C%20-0.06633266533066132%2C%20-0.06593186372745491%2C%20-0.0655310621242485%2C%20-0.0651302605210421%2C%20-0.06472945891783567%2C%20-0.06432865731462926%2C%20-0.06392785571142284%2C%20-0.06352705410821644%2C%20-0.06312625250501003%2C%20-0.06272545090180362%2C%20-0.0623246492985972%2C%20-0.061923847695390784%2C%20-0.06152304609218437%2C%20-0.061122244488977955%2C%20-0.06072144288577155%2C%20-0.06032064128256513%2C%20-0.059919839679358725%2C%20-0.0595190380761523%2C%20-0.059118236472945895%2C%20-0.05871743486973948%2C%20-0.05831663326653307%2C%20-0.05791583166332666%2C%20-0.05751503006012024%2C%20-0.05711422845691383%2C%20-0.056713426853707415%2C%20-0.05631262525050101%2C%20-0.05591182364729459%2C%20-0.05551102204408818%2C%20-0.05511022044088176%2C%20-0.054709418837675355%2C%20-0.05430861723446894%2C%20-0.05390781563126253%2C%20-0.05350701402805611%2C%20-0.053106212424849704%2C%20-0.05270541082164329%2C%20-0.052304609218436875%2C%20-0.05190380761523047%2C%20-0.051503006012024045%2C%20-0.05110220440881764%2C%20-0.05070140280561122%2C%20-0.050300601202404815%2C%20-0.0498997995991984%2C%20-0.049498997995991986%2C%20-0.04909819639278557%2C%20-0.048697394789579164%2C%20-0.04829659318637275%2C%20-0.04789579158316634%2C%20-0.04749498997995992%2C%20-0.047094188376753505%2C%20-0.0466933867735471%2C%20-0.04629258517034068%2C%20-0.045891783567134276%2C%20-0.045490981963927854%2C%20-0.045090180360721446%2C%20-0.04468937875751503%2C%20-0.044288577154308624%2C%20-0.04388777555110221%2C%20-0.043486973947895795%2C%20-0.04308617234468938%2C%20-0.042685370741482966%2C%20-0.04228456913827656%2C%20-0.04188376753507014%2C%20-0.04148296593186373%2C%20-0.041082164328657314%2C%20-0.040681362725450906%2C%20-0.04028056112224449%2C%20-0.039879759519038084%2C%20-0.03947895791583166%2C%20-0.039078156312625255%2C%20-0.03867735470941884%2C%20-0.038276553106212426%2C%20-0.03787575150300602%2C%20-0.0374749498997996%2C%20-0.03707414829659318%2C%20-0.036673346693386774%2C%20-0.036272545090180366%2C%20-0.03587174348697396%2C%20-0.03547094188376754%2C%20-0.03507014028056113%2C%20-0.03466933867735471%2C%20-0.0342685370741483%2C%20-0.03386773547094189%2C%20-0.03346693386773547%2C%20-0.03306613226452906%2C%20-0.03266533066132264%2C%20-0.032264529058116234%2C%20-0.031863727454909826%2C%20-0.031462925851703405%2C%20-0.031062124248496997%2C%20-0.03066132264529059%2C%20-0.030260521042084168%2C%20-0.02985971943887776%2C%20-0.02945891783567134%2C%20-0.029058116232464945%2C%20-0.028657314629258523%2C%20-0.028256513026052102%2C%20-0.027855711422845694%2C%20-0.027454909819639273%2C%20-0.02705410821643288%2C%20-0.026653306613226457%2C%20-0.026252505010020036%2C%20-0.025851703406813628%2C%20-0.02545090180360722%2C%20-0.025050100200400813%2C%20-0.02464929859719439%2C%20-0.02424849699398797%2C%20-0.023847695390781562%2C%20-0.023446893787575154%2C%20-0.023046092184368733%2C%20-0.022645290581162325%2C%20-0.022244488977955904%2C%20-0.02184368737474951%2C%20-0.021442885771543088%2C%20-0.021042084168336667%2C%20-0.02064128256513026%2C%20-0.02024048096192385%2C%20-0.019839679358717444%2C%20-0.019438877755511022%2C%20-0.0190380761523046%2C%20-0.018637274549098193%2C%20-0.018236472945891785%2C%20-0.017835671342685377%2C%20-0.017434869739478956%2C%20-0.017034068136272534%2C%20-0.01663326653306614%2C%20-0.01623246492985972%2C%20-0.01583166332665331%2C%20-0.01543086172344689%2C%20-0.015030060120240468%2C%20-0.014629258517034074%2C%20-0.014228456913827653%2C%20-0.013827655310621245%2C%20-0.013426853707414824%2C%20-0.013026052104208416%2C%20-0.012625250501002008%2C%20-0.012224448897795587%2C%20-0.011823647294589179%2C%20-0.011422845691382771%2C%20-0.01102204408817635%2C%20-0.010621242484969942%2C%20-0.01022044088176352%2C%20-0.009819639278557113%2C%20-0.009418837675350705%2C%20-0.009018036072144284%2C%20-0.008617234468937876%2C%20-0.008216432865731454%2C%20-0.00781563126252506%2C%20-0.007414829659318639%2C%20-0.007014028056112218%2C%20-0.00661322645290581%2C%20-0.006212424849699402%2C%20-0.0058116232464929946%2C%20-0.005410821643286573%2C%20-0.0050100200400801514%2C%20-0.004609218436873744%2C%20-0.004208416833667336%2C%20-0.0038076152304609284%2C%20-0.003406813627254507%2C%20-0.0030060120240480853%2C%20-0.0026052104208416915%2C%20-0.00220440881763527%2C%20-0.0018036072144288623%2C%20-0.0014028056112224407%2C%20-0.001002004008016033%2C%20-0.0006012024048096254%2C%20-0.00020040080160320384%2C%200.00020040080160320384%2C%200.0006012024048096254%2C%200.001002004008016033%2C%200.0014028056112224407%2C%200.0018036072144288623%2C%200.00220440881763527%2C%200.0026052104208416776%2C%200.003006012024048099%2C%200.003406813627254507%2C%200.0038076152304609284%2C%200.004208416833667322%2C%200.004609218436873744%2C%200.005010020040080165%2C%200.005410821643286573%2C%200.0058116232464929946%2C%200.006212424849699388%2C%200.00661322645290581%2C%200.0070140280561122315%2C%200.007414829659318639%2C%200.007815631262525047%2C%200.008216432865731454%2C%200.008617234468937876%2C%200.009018036072144298%2C%200.009418837675350705%2C%200.009819639278557113%2C%200.01022044088176352%2C%200.010621242484969942%2C%200.011022044088176364%2C%200.011422845691382758%2C%200.011823647294589179%2C%200.012224448897795587%2C%200.012625250501002008%2C%200.013026052104208416%2C%200.013426853707414824%2C%200.013827655310621245%2C%200.014228456913827653%2C%200.014629258517034074%2C%200.015030060120240482%2C%200.01543086172344689%2C%200.01583166332665331%2C%200.01623246492985972%2C%200.016633266533066127%2C%200.017034068136272548%2C%200.017434869739478956%2C%200.017835671342685377%2C%200.01823647294589177%2C%200.018637274549098193%2C%200.019038076152304614%2C%200.019438877755511022%2C%200.019839679358717444%2C%200.020240480961923837%2C%200.02064128256513026%2C%200.02104208416833668%2C%200.021442885771543088%2C%200.021843687374749496%2C%200.022244488977955904%2C%200.022645290581162325%2C%200.023046092184368747%2C%200.023446893787575154%2C%200.023847695390781562%2C%200.02424849699398797%2C%200.02464929859719439%2C%200.0250501002004008%2C%200.025450901803607207%2C%200.025851703406813642%2C%200.026252505010020022%2C%200.026653306613226457%2C%200.027054108216432865%2C%200.027454909819639273%2C%200.027855711422845708%2C%200.028256513026052088%2C%200.028657314629258523%2C%200.02905811623246493%2C%200.029458917835671367%2C%200.029859719438877746%2C%200.030260521042084154%2C%200.03066132264529059%2C%200.031062124248496997%2C%200.031462925851703405%2C%200.03186372745490981%2C%200.03226452905811622%2C%200.032665330661322656%2C%200.03306613226452906%2C%200.03346693386773547%2C%200.03386773547094188%2C%200.034268537074148286%2C%200.03466933867735472%2C%200.03507014028056113%2C%200.03547094188376754%2C%200.035871743486973945%2C%200.03627254509018035%2C%200.03667334669338676%2C%200.037074148296593196%2C%200.0374749498997996%2C%200.03787575150300601%2C%200.03827655310621242%2C%200.038677354709418826%2C%200.03907815631262526%2C%200.03947895791583167%2C%200.03987975951903808%2C%200.040280561122244485%2C%200.04068136272545089%2C%200.04108216432865733%2C%200.041482965931863736%2C%200.041883767535070116%2C%200.04228456913827655%2C%200.04268537074148296%2C%200.043086172344689394%2C%200.0434869739478958%2C%200.04388777555110218%2C%200.04428857715430862%2C%200.044689378757515025%2C%200.04509018036072146%2C%200.04549098196392787%2C%200.04589178356713425%2C%200.04629258517034068%2C%200.04669338677354709%2C%200.047094188376753526%2C%200.047494989979959934%2C%200.047895791583166314%2C%200.04829659318637275%2C%200.04869739478957916%2C%200.049098196392785565%2C%200.049498997995992%2C%200.04989979959919838%2C%200.050300601202404815%2C%200.05070140280561122%2C%200.05110220440881763%2C%200.051503006012024066%2C%200.051903807615230446%2C%200.05230460921843688%2C%200.05270541082164329%2C%200.0531062124248497%2C%200.05350701402805613%2C%200.05390781563126254%2C%200.05430861723446892%2C%200.054709418837675355%2C%200.05511022044088176%2C%200.0555110220440882%2C%200.055911823647294606%2C%200.056312625250500986%2C%200.05671342685370742%2C%200.05711422845691383%2C%200.057515030060120265%2C%200.05791583166332667%2C%200.05831663326653305%2C%200.05871743486973949%2C%200.059118236472945895%2C%200.0595190380761523%2C%200.05991983967935874%2C%200.06032064128256512%2C%200.060721442885771554%2C%200.06112224448897796%2C%200.06152304609218437%2C%200.061923847695390805%2C%200.062324649298597184%2C%200.06272545090180362%2C%200.06312625250501003%2C%200.06352705410821644%2C%200.06392785571142287%2C%200.06432865731462925%2C%200.06472945891783566%2C%200.0651302605210421%2C%200.0655310621242485%2C%200.06593186372745494%2C%200.06633266533066132%2C%200.06673346693386772%2C%200.06713426853707416%2C%200.06753507014028057%2C%200.067935871743487%2C%200.06833667334669338%2C%200.06873747494989979%2C%200.06913827655310623%2C%200.06953907815631263%2C%200.06993987975951907%2C%200.07034068136272545%2C%200.07074148296593186%2C%200.07114228456913829%2C%200.0715430861723447%2C%200.07194388777555111%2C%200.07234468937875752%2C%200.07274549098196392%2C%200.07314629258517036%2C%200.07354709418837677%2C%200.07394789579158317%2C%200.07434869739478958%2C%200.07474949899799599%2C%200.07515030060120242%2C%200.07555110220440883%2C%200.07595190380761524%2C%200.07635270541082165%2C%200.07675350701402806%2C%200.07715430861723446%2C%200.0775551102204409%2C%200.0779559118236473%2C%200.07835671342685371%2C%200.07875751503006012%2C%200.07915831663326653%2C%200.07955911823647296%2C%200.07995991983967937%2C%200.08036072144288578%2C%200.08076152304609219%2C%200.0811623246492986%2C%200.08156312625250503%2C%200.08196392785571144%2C%200.08236472945891782%2C%200.08276553106212425%2C%200.08316633266533066%2C%200.0835671342685371%2C%200.0839679358717435%2C%200.08436873747494988%2C%200.08476953907815632%2C%200.08517034068136273%2C%200.08557114228456916%2C%200.08597194388777557%2C%200.08637274549098195%2C%200.08677354709418839%2C%200.0871743486973948%2C%200.0875751503006012%2C%200.08797595190380764%2C%200.08837675350701402%2C%200.08877755511022045%2C%200.08917835671342686%2C%200.08957915831663327%2C%200.0899799599198397%2C%200.09038076152304608%2C%200.09078156312625252%2C%200.09118236472945893%2C%200.09158316633266533%2C%200.09198396793587177%2C%200.09238476953907815%2C%200.09278557114228456%2C%200.09318637274549099%2C%200.0935871743486974%2C%200.09398797595190383%2C%200.09438877755511021%2C%200.09478957915831662%2C%200.09519038076152306%2C%200.09559118236472947%2C%200.0959919839679359%2C%200.09639278557114228%2C%200.09679358717434869%2C%200.09719438877755512%2C%200.09759519038076153%2C%200.09799599198396794%2C%200.09839679358717435%2C%200.09879759519038075%2C%200.09919839679358719%2C%200.0995991983967936%2C%200.1%5D%29%0A%20%20%20%20%20%20%20%20%20%20%20%20%20%20.range%28%5B%27%23ffffccff%27%2C%20%27%23ffffccff%27%2C%20%27%23ffffcbff%27%2C%20%27%23ffffcaff%27%2C%20%27%23fffec9ff%27%2C%20%27%23fffec9ff%27%2C%20%27%23fffec8ff%27%2C%20%27%23fffdc7ff%27%2C%20%27%23fffdc7ff%27%2C%20%27%23fffdc6ff%27%2C%20%27%23fffdc5ff%27%2C%20%27%23fffcc5ff%27%2C%20%27%23fffcc4ff%27%2C%20%27%23fffcc3ff%27%2C%20%27%23fffbc2ff%27%2C%20%27%23fffbc2ff%27%2C%20%27%23fffbc1ff%27%2C%20%27%23fffbc0ff%27%2C%20%27%23fffac0ff%27%2C%20%27%23fffabfff%27%2C%20%27%23fffabeff%27%2C%20%27%23fff9bdff%27%2C%20%27%23fff9bdff%27%2C%20%27%23fff9bcff%27%2C%20%27%23fff9bbff%27%2C%20%27%23fff8bbff%27%2C%20%27%23fff8baff%27%2C%20%27%23fff8b9ff%27%2C%20%27%23fff7b8ff%27%2C%20%27%23fff7b8ff%27%2C%20%27%23fff7b7ff%27%2C%20%27%23fff7b6ff%27%2C%20%27%23fff6b6ff%27%2C%20%27%23fff6b5ff%27%2C%20%27%23fff6b4ff%27%2C%20%27%23fff5b4ff%27%2C%20%27%23fff5b3ff%27%2C%20%27%23fff5b2ff%27%2C%20%27%23fff4b1ff%27%2C%20%27%23fff4b1ff%27%2C%20%27%23fff4b0ff%27%2C%20%27%23fff4afff%27%2C%20%27%23fff3afff%27%2C%20%27%23fff3aeff%27%2C%20%27%23fff3adff%27%2C%20%27%23fff2acff%27%2C%20%27%23fff2acff%27%2C%20%27%23fff2abff%27%2C%20%27%23fff2aaff%27%2C%20%27%23fff1aaff%27%2C%20%27%23fff1a9ff%27%2C%20%27%23fff1a8ff%27%2C%20%27%23fff0a7ff%27%2C%20%27%23fff0a7ff%27%2C%20%27%23fff0a6ff%27%2C%20%27%23fff0a5ff%27%2C%20%27%23ffefa5ff%27%2C%20%27%23ffefa4ff%27%2C%20%27%23ffefa3ff%27%2C%20%27%23ffeea3ff%27%2C%20%27%23ffeea2ff%27%2C%20%27%23ffeea1ff%27%2C%20%27%23ffeea0ff%27%2C%20%27%23ffeda0ff%27%2C%20%27%23ffed9fff%27%2C%20%27%23ffed9eff%27%2C%20%27%23ffec9eff%27%2C%20%27%23ffec9dff%27%2C%20%27%23ffec9cff%27%2C%20%27%23ffeb9cff%27%2C%20%27%23ffeb9bff%27%2C%20%27%23ffeb9aff%27%2C%20%27%23ffea9aff%27%2C%20%27%23ffea99ff%27%2C%20%27%23ffea98ff%27%2C%20%27%23ffe998ff%27%2C%20%27%23ffe997ff%27%2C%20%27%23ffe996ff%27%2C%20%27%23ffe896ff%27%2C%20%27%23ffe895ff%27%2C%20%27%23ffe894ff%27%2C%20%27%23ffe794ff%27%2C%20%27%23ffe793ff%27%2C%20%27%23ffe792ff%27%2C%20%27%23ffe692ff%27%2C%20%27%23ffe691ff%27%2C%20%27%23ffe690ff%27%2C%20%27%23ffe68fff%27%2C%20%27%23ffe58fff%27%2C%20%27%23ffe58eff%27%2C%20%27%23ffe58dff%27%2C%20%27%23ffe48dff%27%2C%20%27%23ffe48cff%27%2C%20%27%23ffe48bff%27%2C%20%27%23ffe38bff%27%2C%20%27%23ffe38aff%27%2C%20%27%23ffe389ff%27%2C%20%27%23ffe289ff%27%2C%20%27%23ffe288ff%27%2C%20%27%23ffe287ff%27%2C%20%27%23ffe187ff%27%2C%20%27%23ffe186ff%27%2C%20%27%23ffe185ff%27%2C%20%27%23ffe085ff%27%2C%20%27%23ffe084ff%27%2C%20%27%23ffe083ff%27%2C%20%27%23ffdf83ff%27%2C%20%27%23ffdf82ff%27%2C%20%27%23ffdf81ff%27%2C%20%27%23ffde81ff%27%2C%20%27%23ffde80ff%27%2C%20%27%23ffde7fff%27%2C%20%27%23ffdd7fff%27%2C%20%27%23ffdd7eff%27%2C%20%27%23ffdd7dff%27%2C%20%27%23ffdc7dff%27%2C%20%27%23ffdc7cff%27%2C%20%27%23ffdc7bff%27%2C%20%27%23ffdc7bff%27%2C%20%27%23ffdb7aff%27%2C%20%27%23ffdb79ff%27%2C%20%27%23ffdb78ff%27%2C%20%27%23ffda78ff%27%2C%20%27%23ffda77ff%27%2C%20%27%23ffda76ff%27%2C%20%27%23fed976ff%27%2C%20%27%23fed975ff%27%2C%20%27%23fed874ff%27%2C%20%27%23fed774ff%27%2C%20%27%23fed773ff%27%2C%20%27%23fed672ff%27%2C%20%27%23fed572ff%27%2C%20%27%23fed571ff%27%2C%20%27%23fed470ff%27%2C%20%27%23fed470ff%27%2C%20%27%23fed36fff%27%2C%20%27%23fed26eff%27%2C%20%27%23fed26eff%27%2C%20%27%23fed16dff%27%2C%20%27%23fed06cff%27%2C%20%27%23fed06cff%27%2C%20%27%23fecf6bff%27%2C%20%27%23fecf6aff%27%2C%20%27%23fece6aff%27%2C%20%27%23fecd69ff%27%2C%20%27%23fecd68ff%27%2C%20%27%23fecc68ff%27%2C%20%27%23fecb67ff%27%2C%20%27%23fecb66ff%27%2C%20%27%23feca66ff%27%2C%20%27%23feca65ff%27%2C%20%27%23fec964ff%27%2C%20%27%23fec864ff%27%2C%20%27%23fec863ff%27%2C%20%27%23fec762ff%27%2C%20%27%23fec662ff%27%2C%20%27%23fec661ff%27%2C%20%27%23fec560ff%27%2C%20%27%23fec45fff%27%2C%20%27%23fec45fff%27%2C%20%27%23fec35eff%27%2C%20%27%23fec35dff%27%2C%20%27%23fec25dff%27%2C%20%27%23fec15cff%27%2C%20%27%23fec15bff%27%2C%20%27%23fec05bff%27%2C%20%27%23febf5aff%27%2C%20%27%23febf59ff%27%2C%20%27%23febe59ff%27%2C%20%27%23febe58ff%27%2C%20%27%23febd57ff%27%2C%20%27%23febc57ff%27%2C%20%27%23febc56ff%27%2C%20%27%23febb55ff%27%2C%20%27%23feba55ff%27%2C%20%27%23feba54ff%27%2C%20%27%23feb953ff%27%2C%20%27%23feb953ff%27%2C%20%27%23feb852ff%27%2C%20%27%23feb751ff%27%2C%20%27%23feb751ff%27%2C%20%27%23feb650ff%27%2C%20%27%23feb54fff%27%2C%20%27%23feb54fff%27%2C%20%27%23feb44eff%27%2C%20%27%23feb44dff%27%2C%20%27%23feb34dff%27%2C%20%27%23feb24cff%27%2C%20%27%23feb24cff%27%2C%20%27%23feb14bff%27%2C%20%27%23feb04bff%27%2C%20%27%23feb04bff%27%2C%20%27%23feaf4bff%27%2C%20%27%23feaf4aff%27%2C%20%27%23feae4aff%27%2C%20%27%23feae4aff%27%2C%20%27%23fead4aff%27%2C%20%27%23feac49ff%27%2C%20%27%23feac49ff%27%2C%20%27%23feab49ff%27%2C%20%27%23feab48ff%27%2C%20%27%23feaa48ff%27%2C%20%27%23fea948ff%27%2C%20%27%23fea948ff%27%2C%20%27%23fea847ff%27%2C%20%27%23fea847ff%27%2C%20%27%23fea747ff%27%2C%20%27%23fea647ff%27%2C%20%27%23fea646ff%27%2C%20%27%23fea546ff%27%2C%20%27%23fea546ff%27%2C%20%27%23fea446ff%27%2C%20%27%23fea345ff%27%2C%20%27%23fea345ff%27%2C%20%27%23fea245ff%27%2C%20%27%23fea245ff%27%2C%20%27%23fea144ff%27%2C%20%27%23fea044ff%27%2C%20%27%23fea044ff%27%2C%20%27%23fe9f44ff%27%2C%20%27%23fe9f43ff%27%2C%20%27%23fe9e43ff%27%2C%20%27%23fe9d43ff%27%2C%20%27%23fe9d43ff%27%2C%20%27%23fe9c42ff%27%2C%20%27%23fe9c42ff%27%2C%20%27%23fe9b42ff%27%2C%20%27%23fe9a42ff%27%2C%20%27%23fe9a41ff%27%2C%20%27%23fe9941ff%27%2C%20%27%23fe9941ff%27%2C%20%27%23fe9840ff%27%2C%20%27%23fe9740ff%27%2C%20%27%23fe9740ff%27%2C%20%27%23fe9640ff%27%2C%20%27%23fe963fff%27%2C%20%27%23fe953fff%27%2C%20%27%23fe943fff%27%2C%20%27%23fe943fff%27%2C%20%27%23fe933eff%27%2C%20%27%23fe933eff%27%2C%20%27%23fe923eff%27%2C%20%27%23fe923eff%27%2C%20%27%23fe913dff%27%2C%20%27%23fe903dff%27%2C%20%27%23fe903dff%27%2C%20%27%23fe8f3dff%27%2C%20%27%23fe8f3cff%27%2C%20%27%23fe8e3cff%27%2C%20%27%23fe8d3cff%27%2C%20%27%23fd8d3cff%27%2C%20%27%23fd8c3bff%27%2C%20%27%23fd8b3bff%27%2C%20%27%23fd8a3bff%27%2C%20%27%23fd883aff%27%2C%20%27%23fd873aff%27%2C%20%27%23fd863aff%27%2C%20%27%23fd853aff%27%2C%20%27%23fd8439ff%27%2C%20%27%23fd8339ff%27%2C%20%27%23fd8239ff%27%2C%20%27%23fd8138ff%27%2C%20%27%23fd8038ff%27%2C%20%27%23fd7f38ff%27%2C%20%27%23fd7e38ff%27%2C%20%27%23fd7d37ff%27%2C%20%27%23fd7c37ff%27%2C%20%27%23fd7b37ff%27%2C%20%27%23fd7a36ff%27%2C%20%27%23fd7936ff%27%2C%20%27%23fd7836ff%27%2C%20%27%23fd7736ff%27%2C%20%27%23fd7635ff%27%2C%20%27%23fd7535ff%27%2C%20%27%23fd7435ff%27%2C%20%27%23fd7334ff%27%2C%20%27%23fd7234ff%27%2C%20%27%23fd7134ff%27%2C%20%27%23fd7033ff%27%2C%20%27%23fd6f33ff%27%2C%20%27%23fd6e33ff%27%2C%20%27%23fd6d33ff%27%2C%20%27%23fd6c32ff%27%2C%20%27%23fd6b32ff%27%2C%20%27%23fd6a32ff%27%2C%20%27%23fd6931ff%27%2C%20%27%23fd6831ff%27%2C%20%27%23fd6731ff%27%2C%20%27%23fd6631ff%27%2C%20%27%23fd6530ff%27%2C%20%27%23fd6430ff%27%2C%20%27%23fd6330ff%27%2C%20%27%23fd622fff%27%2C%20%27%23fd612fff%27%2C%20%27%23fd602fff%27%2C%20%27%23fd5f2fff%27%2C%20%27%23fd5e2eff%27%2C%20%27%23fd5d2eff%27%2C%20%27%23fd5c2eff%27%2C%20%27%23fd5b2dff%27%2C%20%27%23fd5a2dff%27%2C%20%27%23fd592dff%27%2C%20%27%23fd582dff%27%2C%20%27%23fd572cff%27%2C%20%27%23fd562cff%27%2C%20%27%23fd552cff%27%2C%20%27%23fd542bff%27%2C%20%27%23fd532bff%27%2C%20%27%23fd522bff%27%2C%20%27%23fd512aff%27%2C%20%27%23fd502aff%27%2C%20%27%23fd4f2aff%27%2C%20%27%23fc4e2aff%27%2C%20%27%23fc4d29ff%27%2C%20%27%23fc4c29ff%27%2C%20%27%23fb4b29ff%27%2C%20%27%23fb4a29ff%27%2C%20%27%23fa4a29ff%27%2C%20%27%23fa4928ff%27%2C%20%27%23fa4828ff%27%2C%20%27%23f94728ff%27%2C%20%27%23f94628ff%27%2C%20%27%23f84527ff%27%2C%20%27%23f84427ff%27%2C%20%27%23f84427ff%27%2C%20%27%23f74327ff%27%2C%20%27%23f74226ff%27%2C%20%27%23f64126ff%27%2C%20%27%23f64026ff%27%2C%20%27%23f63f26ff%27%2C%20%27%23f53f26ff%27%2C%20%27%23f53e25ff%27%2C%20%27%23f43d25ff%27%2C%20%27%23f43c25ff%27%2C%20%27%23f43b25ff%27%2C%20%27%23f33a24ff%27%2C%20%27%23f33a24ff%27%2C%20%27%23f23924ff%27%2C%20%27%23f23824ff%27%2C%20%27%23f23724ff%27%2C%20%27%23f13623ff%27%2C%20%27%23f13523ff%27%2C%20%27%23f03523ff%27%2C%20%27%23f03423ff%27%2C%20%27%23f03322ff%27%2C%20%27%23ef3222ff%27%2C%20%27%23ef3122ff%27%2C%20%27%23ee3022ff%27%2C%20%27%23ee3022ff%27%2C%20%27%23ee2f21ff%27%2C%20%27%23ed2e21ff%27%2C%20%27%23ed2d21ff%27%2C%20%27%23ec2c21ff%27%2C%20%27%23ec2b20ff%27%2C%20%27%23ec2b20ff%27%2C%20%27%23eb2a20ff%27%2C%20%27%23eb2920ff%27%2C%20%27%23ea281fff%27%2C%20%27%23ea271fff%27%2C%20%27%23ea261fff%27%2C%20%27%23e9261fff%27%2C%20%27%23e9251fff%27%2C%20%27%23e8241eff%27%2C%20%27%23e8231eff%27%2C%20%27%23e8221eff%27%2C%20%27%23e7211eff%27%2C%20%27%23e7211dff%27%2C%20%27%23e6201dff%27%2C%20%27%23e61f1dff%27%2C%20%27%23e61e1dff%27%2C%20%27%23e51d1dff%27%2C%20%27%23e51c1cff%27%2C%20%27%23e41b1cff%27%2C%20%27%23e41b1cff%27%2C%20%27%23e31a1cff%27%2C%20%27%23e3191cff%27%2C%20%27%23e2191cff%27%2C%20%27%23e2181cff%27%2C%20%27%23e1181cff%27%2C%20%27%23e0181cff%27%2C%20%27%23e0171dff%27%2C%20%27%23df171dff%27%2C%20%27%23df161dff%27%2C%20%27%23de161dff%27%2C%20%27%23dd161dff%27%2C%20%27%23dd151dff%27%2C%20%27%23dc151eff%27%2C%20%27%23dc141eff%27%2C%20%27%23db141eff%27%2C%20%27%23da131eff%27%2C%20%27%23da131eff%27%2C%20%27%23d9131eff%27%2C%20%27%23d9121eff%27%2C%20%27%23d8121fff%27%2C%20%27%23d7111fff%27%2C%20%27%23d7111fff%27%2C%20%27%23d6111fff%27%2C%20%27%23d5101fff%27%2C%20%27%23d5101fff%27%2C%20%27%23d40f20ff%27%2C%20%27%23d40f20ff%27%2C%20%27%23d30e20ff%27%2C%20%27%23d20e20ff%27%2C%20%27%23d20e20ff%27%2C%20%27%23d10d20ff%27%2C%20%27%23d10d21ff%27%2C%20%27%23d00c21ff%27%2C%20%27%23cf0c21ff%27%2C%20%27%23cf0b21ff%27%2C%20%27%23ce0b21ff%27%2C%20%27%23ce0b21ff%27%2C%20%27%23cd0a22ff%27%2C%20%27%23cc0a22ff%27%2C%20%27%23cc0922ff%27%2C%20%27%23cb0922ff%27%2C%20%27%23ca0922ff%27%2C%20%27%23ca0822ff%27%2C%20%27%23c90822ff%27%2C%20%27%23c90723ff%27%2C%20%27%23c80723ff%27%2C%20%27%23c70623ff%27%2C%20%27%23c70623ff%27%2C%20%27%23c60623ff%27%2C%20%27%23c60523ff%27%2C%20%27%23c50524ff%27%2C%20%27%23c40424ff%27%2C%20%27%23c40424ff%27%2C%20%27%23c30424ff%27%2C%20%27%23c30324ff%27%2C%20%27%23c20324ff%27%2C%20%27%23c10225ff%27%2C%20%27%23c10225ff%27%2C%20%27%23c00125ff%27%2C%20%27%23bf0125ff%27%2C%20%27%23bf0125ff%27%2C%20%27%23be0025ff%27%2C%20%27%23be0026ff%27%2C%20%27%23bd0026ff%27%2C%20%27%23bc0026ff%27%2C%20%27%23bb0026ff%27%2C%20%27%23ba0026ff%27%2C%20%27%23b90026ff%27%2C%20%27%23b80026ff%27%2C%20%27%23b70026ff%27%2C%20%27%23b60026ff%27%2C%20%27%23b50026ff%27%2C%20%27%23b40026ff%27%2C%20%27%23b30026ff%27%2C%20%27%23b20026ff%27%2C%20%27%23b10026ff%27%2C%20%27%23b00026ff%27%2C%20%27%23af0026ff%27%2C%20%27%23ae0026ff%27%2C%20%27%23ad0026ff%27%2C%20%27%23ac0026ff%27%2C%20%27%23ab0026ff%27%2C%20%27%23aa0026ff%27%2C%20%27%23a90026ff%27%2C%20%27%23a80026ff%27%2C%20%27%23a70026ff%27%2C%20%27%23a60026ff%27%2C%20%27%23a50026ff%27%2C%20%27%23a40026ff%27%2C%20%27%23a30026ff%27%2C%20%27%23a20026ff%27%2C%20%27%23a10026ff%27%2C%20%27%23a00026ff%27%2C%20%27%239f0026ff%27%2C%20%27%239e0026ff%27%2C%20%27%239d0026ff%27%2C%20%27%239c0026ff%27%2C%20%27%239b0026ff%27%2C%20%27%239b0026ff%27%2C%20%27%239a0026ff%27%2C%20%27%23990026ff%27%2C%20%27%23980026ff%27%2C%20%27%23970026ff%27%2C%20%27%23960026ff%27%2C%20%27%23950026ff%27%2C%20%27%23940026ff%27%2C%20%27%23930026ff%27%2C%20%27%23920026ff%27%2C%20%27%23910026ff%27%2C%20%27%23900026ff%27%2C%20%27%238f0026ff%27%2C%20%27%238e0026ff%27%2C%20%27%238d0026ff%27%2C%20%27%238c0026ff%27%2C%20%27%238b0026ff%27%2C%20%27%238a0026ff%27%2C%20%27%23890026ff%27%2C%20%27%23880026ff%27%2C%20%27%23870026ff%27%2C%20%27%23860026ff%27%2C%20%27%23850026ff%27%2C%20%27%23840026ff%27%2C%20%27%23830026ff%27%2C%20%27%23820026ff%27%2C%20%27%23810026ff%27%2C%20%27%23800026ff%27%5D%29%3B%0A%20%20%20%20%0A%0A%20%20%20%20color_map_755deea7679b49c7ae6c13e58119015f.x%20%3D%20d3.scale.linear%28%29%0A%20%20%20%20%20%20%20%20%20%20%20%20%20%20.domain%28%5B-0.1%2C%200.1%5D%29%0A%20%20%20%20%20%20%20%20%20%20%20%20%20%20.range%28%5B0%2C%20400%5D%29%3B%0A%0A%20%20%20%20color_map_755deea7679b49c7ae6c13e58119015f.legend%20%3D%20L.control%28%7Bposition%3A%20%27topright%27%7D%29%3B%0A%20%20%20%20color_map_755deea7679b49c7ae6c13e58119015f.legend.onAdd%20%3D%20function%20%28map%29%20%7Bvar%20div%20%3D%20L.DomUtil.create%28%27div%27%2C%20%27legend%27%29%3B%20return%20div%7D%3B%0A%20%20%20%20color_map_755deea7679b49c7ae6c13e58119015f.legend.addTo%28map_96c1e5bc0ecb4ff2915cdce47f2418ee%29%3B%0A%0A%20%20%20%20color_map_755deea7679b49c7ae6c13e58119015f.xAxis%20%3D%20d3.svg.axis%28%29%0A%20%20%20%20%20%20%20%20.scale%28color_map_755deea7679b49c7ae6c13e58119015f.x%29%0A%20%20%20%20%20%20%20%20.orient%28%22top%22%29%0A%20%20%20%20%20%20%20%20.tickSize%281%29%0A%20%20%20%20%20%20%20%20.tickValues%28%5B-0.1%2C%20-0.07500000000000001%2C%20-0.05%2C%20-0.024999999999999994%2C%200.0%2C%200.024999999999999994%2C%200.05000000000000002%2C%200.07500000000000001%2C%200.1%5D%29%3B%0A%0A%20%20%20%20color_map_755deea7679b49c7ae6c13e58119015f.svg%20%3D%20d3.select%28%22.legend.leaflet-control%22%29.append%28%22svg%22%29%0A%20%20%20%20%20%20%20%20.attr%28%22id%22%2C%20%27legend%27%29%0A%20%20%20%20%20%20%20%20.attr%28%22width%22%2C%20450%29%0A%20%20%20%20%20%20%20%20.attr%28%22height%22%2C%2040%29%3B%0A%0A%20%20%20%20color_map_755deea7679b49c7ae6c13e58119015f.g%20%3D%20color_map_755deea7679b49c7ae6c13e58119015f.svg.append%28%22g%22%29%0A%20%20%20%20%20%20%20%20.attr%28%22class%22%2C%20%22key%22%29%0A%20%20%20%20%20%20%20%20.attr%28%22transform%22%2C%20%22translate%2825%2C16%29%22%29%3B%0A%0A%20%20%20%20color_map_755deea7679b49c7ae6c13e58119015f.g.selectAll%28%22rect%22%29%0A%20%20%20%20%20%20%20%20.data%28color_map_755deea7679b49c7ae6c13e58119015f.color.range%28%29.map%28function%28d%2C%20i%29%20%7B%0A%20%20%20%20%20%20%20%20%20%20return%20%7B%0A%20%20%20%20%20%20%20%20%20%20%20%20x0%3A%20i%20%3F%20color_map_755deea7679b49c7ae6c13e58119015f.x%28color_map_755deea7679b49c7ae6c13e58119015f.color.domain%28%29%5Bi%20-%201%5D%29%20%3A%20color_map_755deea7679b49c7ae6c13e58119015f.x.range%28%29%5B0%5D%2C%0A%20%20%20%20%20%20%20%20%20%20%20%20x1%3A%20i%20%3C%20color_map_755deea7679b49c7ae6c13e58119015f.color.domain%28%29.length%20%3F%20color_map_755deea7679b49c7ae6c13e58119015f.x%28color_map_755deea7679b49c7ae6c13e58119015f.color.domain%28%29%5Bi%5D%29%20%3A%20color_map_755deea7679b49c7ae6c13e58119015f.x.range%28%29%5B1%5D%2C%0A%20%20%20%20%20%20%20%20%20%20%20%20z%3A%20d%0A%20%20%20%20%20%20%20%20%20%20%7D%3B%0A%20%20%20%20%20%20%20%20%7D%29%29%0A%20%20%20%20%20%20.enter%28%29.append%28%22rect%22%29%0A%20%20%20%20%20%20%20%20.attr%28%22height%22%2C%2010%29%0A%20%20%20%20%20%20%20%20.attr%28%22x%22%2C%20function%28d%29%20%7B%20return%20d.x0%3B%20%7D%29%0A%20%20%20%20%20%20%20%20.attr%28%22width%22%2C%20function%28d%29%20%7B%20return%20d.x1%20-%20d.x0%3B%20%7D%29%0A%20%20%20%20%20%20%20%20.style%28%22fill%22%2C%20function%28d%29%20%7B%20return%20d.z%3B%20%7D%29%3B%0A%0A%20%20%20%20color_map_755deea7679b49c7ae6c13e58119015f.g.call%28color_map_755deea7679b49c7ae6c13e58119015f.xAxis%29.append%28%22text%22%29%0A%20%20%20%20%20%20%20%20.attr%28%22class%22%2C%20%22caption%22%29%0A%20%20%20%20%20%20%20%20.attr%28%22y%22%2C%2021%29%0A%20%20%20%20%20%20%20%20.text%28%27NDVI%20Difference%202008%20-%201999%27%29%3B%0A%3C/script%3E onload=\"this.contentDocument.open();this.contentDocument.write(    decodeURIComponent(this.getAttribute('data-html')));this.contentDocument.close();\" allowfullscreen webkitallowfullscreen mozallowfullscreen></iframe></div></div>"
            ],
            "text/plain": [
              "<folium.folium.Map at 0x7fa7b58361d0>"
            ]
          },
          "metadata": {},
          "execution_count": 23
        }
      ]
    },
    {
      "cell_type": "markdown",
      "metadata": {
        "id": "io4h4GIb5gi1"
      },
      "source": [
        "Mathematical operators perform basic arithmetic operations on image bands. The normalized difference operation is so common in remote sensing, Earth Engine provides a shortcut method, as shown in the second part of the example. Subtracting the images in this example results in a \"change vector\" for each pixel. Bands are matched automatically to perform the difference:"
      ]
    },
    {
      "cell_type": "code",
      "metadata": {
        "id": "uvxfl35V5nN9",
        "colab": {
          "base_uri": "https://localhost:8080/"
        },
        "outputId": "c1899e21-726c-4edd-b876-09f4bc0fe298"
      },
      "source": [
        "# Load two 5-year Landsat 7 composites get only 3bands from them\n",
        "landsat1999 = ee.Image('LANDSAT/LE7_TOA_5YEAR/1999_2003').select(['B4', 'B3', 'B2'])\n",
        "landsat2008 = ee.Image('LANDSAT/LE7_TOA_5YEAR/2008_2012').select(['B4', 'B3', 'B2'])\n",
        "\n",
        "# Compute the multi-band difference image.\n",
        "diff = landsat2008.subtract(landsat1999)\n",
        "print('Difference')\n",
        "pp.pprint(diff.getInfo())\n",
        "\n",
        "\n",
        "# Compute the squared difference in each band.\n",
        "squaredDifference = diff.pow(2)\n",
        "print('\\n'+'Squared Difference')\n",
        "pp.pprint(squaredDifference.getInfo())"
      ],
      "execution_count": null,
      "outputs": [
        {
          "output_type": "stream",
          "name": "stdout",
          "text": [
            "Difference\n",
            "{'bands': [{'crs': 'EPSG:4326',\n",
            "            'crs_transform': [0.00026949456294719256,\n",
            "                              0,\n",
            "                              -180,\n",
            "                              0,\n",
            "                              -0.00026949456294719256,\n",
            "                              86.0000269494563],\n",
            "            'data_type': {'max': 255,\n",
            "                          'min': -255,\n",
            "                          'precision': 'int',\n",
            "                          'type': 'PixelType'},\n",
            "            'id': 'B4'},\n",
            "           {'crs': 'EPSG:4326',\n",
            "            'crs_transform': [0.00026949456294719256,\n",
            "                              0,\n",
            "                              -180,\n",
            "                              0,\n",
            "                              -0.00026949456294719256,\n",
            "                              86.0000269494563],\n",
            "            'data_type': {'max': 255,\n",
            "                          'min': -255,\n",
            "                          'precision': 'int',\n",
            "                          'type': 'PixelType'},\n",
            "            'id': 'B3'},\n",
            "           {'crs': 'EPSG:4326',\n",
            "            'crs_transform': [0.00026949456294719256,\n",
            "                              0,\n",
            "                              -180,\n",
            "                              0,\n",
            "                              -0.00026949456294719256,\n",
            "                              86.0000269494563],\n",
            "            'data_type': {'max': 255,\n",
            "                          'min': -255,\n",
            "                          'precision': 'int',\n",
            "                          'type': 'PixelType'},\n",
            "            'id': 'B2'}],\n",
            " 'type': 'Image'}\n",
            "\n",
            "Squared Difference\n",
            "{'bands': [{'crs': 'EPSG:4326',\n",
            "            'crs_transform': [0.00026949456294719256,\n",
            "                              0,\n",
            "                              -180,\n",
            "                              0,\n",
            "                              -0.00026949456294719256,\n",
            "                              86.0000269494563],\n",
            "            'data_type': {'precision': 'float', 'type': 'PixelType'},\n",
            "            'id': 'B4'},\n",
            "           {'crs': 'EPSG:4326',\n",
            "            'crs_transform': [0.00026949456294719256,\n",
            "                              0,\n",
            "                              -180,\n",
            "                              0,\n",
            "                              -0.00026949456294719256,\n",
            "                              86.0000269494563],\n",
            "            'data_type': {'precision': 'float', 'type': 'PixelType'},\n",
            "            'id': 'B3'},\n",
            "           {'crs': 'EPSG:4326',\n",
            "            'crs_transform': [0.00026949456294719256,\n",
            "                              0,\n",
            "                              -180,\n",
            "                              0,\n",
            "                              -0.00026949456294719256,\n",
            "                              86.0000269494563],\n",
            "            'data_type': {'precision': 'float', 'type': 'PixelType'},\n",
            "            'id': 'B2'}],\n",
            " 'type': 'Image'}\n"
          ]
        }
      ]
    },
    {
      "cell_type": "markdown",
      "metadata": {
        "id": "se_322KvBS3D"
      },
      "source": [
        "## Expressions"
      ]
    },
    {
      "cell_type": "markdown",
      "metadata": {
        "id": "tTW42SgjBUxY"
      },
      "source": [
        "To implement more complex mathematical expressions, consider using image.`expression()`, which parses a text representation of a math operation. The following example uses `expression()` to compute the Enhanced Vegetation Index (EVI):"
      ]
    },
    {
      "cell_type": "code",
      "metadata": {
        "id": "0nYrZSAKBMZH",
        "colab": {
          "base_uri": "https://localhost:8080/",
          "height": 712
        },
        "outputId": "3bdd3035-d5b9-476d-a8f5-d8f466c350c7"
      },
      "source": [
        "# testing getting data for Borneo\n",
        "image6 = ee.ImageCollection('COPERNICUS/S2_SR').filterBounds(ee.Geometry.Point(114, 0)).filterDate('2019-01-01', '2019-03-31').sort('CLOUDY_PIXEL_PERCENTAGE').first()    \n",
        "image7 = ee.ImageCollection('COPERNICUS/S2_SR').filterBounds(ee.Geometry.Point(114.5, 0)).filterDate('2019-01-01', '2019-03-31').sort('CLOUDY_PIXEL_PERCENTAGE').first()    \n",
        "image8 = ee.ImageCollection('COPERNICUS/S2_SR').filterBounds(ee.Geometry.Point(117, 0)).filterDate('2019-01-01', '2019-03-31').sort('CLOUDY_PIXEL_PERCENTAGE').first()    \n",
        "image9 = ee.ImageCollection('COPERNICUS/S2_SR').filterBounds(ee.Geometry.Point(116, 0)).filterDate('2019-01-01', '2019-03-31').sort('CLOUDY_PIXEL_PERCENTAGE').first()    \n",
        "# pp.pprint(image6.getInfo())\n",
        "# Image(url=image6.getThumbUrl({'min': 0, 'max': 2000, 'bands':['B4','B3','B2'],'dimensions': 512}))\n",
        "mosaic_borneo = ee.ImageCollection([image6, image7,image8,image9]).mosaic()\n",
        "map3 = folium.Map(location=[0,115],zoom_start=8)\n",
        "map3.addLayer(mosaic_borneo, {'min': 0, 'max': 2000, 'bands':['B4','B3','B2'],}, 'image6') # Palette code for YlOrRd_09: min=ffffcc, max= 800026\n",
        "\n",
        "map3"
      ],
      "execution_count": null,
      "outputs": [
        {
          "output_type": "execute_result",
          "data": {
            "text/html": [
              "<div style=\"width:100%;\"><div style=\"position:relative;width:100%;height:0;padding-bottom:60%;\"><span style=\"color:#565656\">Make this Notebook Trusted to load map: File -> Trust Notebook</span><iframe src=\"about:blank\" style=\"position:absolute;width:100%;height:100%;left:0;top:0;border:none !important;\" data-html=%3C%21DOCTYPE%20html%3E%0A%3Chead%3E%20%20%20%20%0A%20%20%20%20%3Cmeta%20http-equiv%3D%22content-type%22%20content%3D%22text/html%3B%20charset%3DUTF-8%22%20/%3E%0A%20%20%20%20%3Cscript%3EL_PREFER_CANVAS%3Dfalse%3B%20L_NO_TOUCH%3Dfalse%3B%20L_DISABLE_3D%3Dfalse%3B%3C/script%3E%0A%20%20%20%20%3Cscript%20src%3D%22https%3A//cdn.jsdelivr.net/npm/leaflet%401.4.0/dist/leaflet.js%22%3E%3C/script%3E%0A%20%20%20%20%3Cscript%20src%3D%22https%3A//code.jquery.com/jquery-1.12.4.min.js%22%3E%3C/script%3E%0A%20%20%20%20%3Cscript%20src%3D%22https%3A//maxcdn.bootstrapcdn.com/bootstrap/3.2.0/js/bootstrap.min.js%22%3E%3C/script%3E%0A%20%20%20%20%3Cscript%20src%3D%22https%3A//cdnjs.cloudflare.com/ajax/libs/Leaflet.awesome-markers/2.0.2/leaflet.awesome-markers.js%22%3E%3C/script%3E%0A%20%20%20%20%3Clink%20rel%3D%22stylesheet%22%20href%3D%22https%3A//cdn.jsdelivr.net/npm/leaflet%401.4.0/dist/leaflet.css%22/%3E%0A%20%20%20%20%3Clink%20rel%3D%22stylesheet%22%20href%3D%22https%3A//maxcdn.bootstrapcdn.com/bootstrap/3.2.0/css/bootstrap.min.css%22/%3E%0A%20%20%20%20%3Clink%20rel%3D%22stylesheet%22%20href%3D%22https%3A//maxcdn.bootstrapcdn.com/bootstrap/3.2.0/css/bootstrap-theme.min.css%22/%3E%0A%20%20%20%20%3Clink%20rel%3D%22stylesheet%22%20href%3D%22https%3A//maxcdn.bootstrapcdn.com/font-awesome/4.6.3/css/font-awesome.min.css%22/%3E%0A%20%20%20%20%3Clink%20rel%3D%22stylesheet%22%20href%3D%22https%3A//cdnjs.cloudflare.com/ajax/libs/Leaflet.awesome-markers/2.0.2/leaflet.awesome-markers.css%22/%3E%0A%20%20%20%20%3Clink%20rel%3D%22stylesheet%22%20href%3D%22https%3A//rawcdn.githack.com/python-visualization/folium/master/folium/templates/leaflet.awesome.rotate.css%22/%3E%0A%20%20%20%20%3Cstyle%3Ehtml%2C%20body%20%7Bwidth%3A%20100%25%3Bheight%3A%20100%25%3Bmargin%3A%200%3Bpadding%3A%200%3B%7D%3C/style%3E%0A%20%20%20%20%3Cstyle%3E%23map%20%7Bposition%3Aabsolute%3Btop%3A0%3Bbottom%3A0%3Bright%3A0%3Bleft%3A0%3B%7D%3C/style%3E%0A%20%20%20%20%0A%20%20%20%20%3Cmeta%20name%3D%22viewport%22%20content%3D%22width%3Ddevice-width%2C%0A%20%20%20%20%20%20%20%20initial-scale%3D1.0%2C%20maximum-scale%3D1.0%2C%20user-scalable%3Dno%22%20/%3E%0A%20%20%20%20%3Cstyle%3E%23map_609907433712493d996d43884e6ad880%20%7B%0A%20%20%20%20%20%20%20%20position%3A%20relative%3B%0A%20%20%20%20%20%20%20%20width%3A%20100.0%25%3B%0A%20%20%20%20%20%20%20%20height%3A%20100.0%25%3B%0A%20%20%20%20%20%20%20%20left%3A%200.0%25%3B%0A%20%20%20%20%20%20%20%20top%3A%200.0%25%3B%0A%20%20%20%20%20%20%20%20%7D%0A%20%20%20%20%3C/style%3E%0A%3C/head%3E%0A%3Cbody%3E%20%20%20%20%0A%20%20%20%20%0A%20%20%20%20%3Cdiv%20class%3D%22folium-map%22%20id%3D%22map_609907433712493d996d43884e6ad880%22%20%3E%3C/div%3E%0A%3C/body%3E%0A%3Cscript%3E%20%20%20%20%0A%20%20%20%20%0A%20%20%20%20%0A%20%20%20%20%20%20%20%20var%20bounds%20%3D%20null%3B%0A%20%20%20%20%0A%0A%20%20%20%20var%20map_609907433712493d996d43884e6ad880%20%3D%20L.map%28%0A%20%20%20%20%20%20%20%20%27map_609907433712493d996d43884e6ad880%27%2C%20%7B%0A%20%20%20%20%20%20%20%20center%3A%20%5B0%2C%20115%5D%2C%0A%20%20%20%20%20%20%20%20zoom%3A%208%2C%0A%20%20%20%20%20%20%20%20maxBounds%3A%20bounds%2C%0A%20%20%20%20%20%20%20%20layers%3A%20%5B%5D%2C%0A%20%20%20%20%20%20%20%20worldCopyJump%3A%20false%2C%0A%20%20%20%20%20%20%20%20crs%3A%20L.CRS.EPSG3857%2C%0A%20%20%20%20%20%20%20%20zoomControl%3A%20true%2C%0A%20%20%20%20%20%20%20%20%7D%29%3B%0A%0A%0A%20%20%20%20%0A%20%20%20%20var%20tile_layer_ee5c2befcdae43bb844fd32dab362616%20%3D%20L.tileLayer%28%0A%20%20%20%20%20%20%20%20%27https%3A//%7Bs%7D.tile.openstreetmap.org/%7Bz%7D/%7Bx%7D/%7By%7D.png%27%2C%0A%20%20%20%20%20%20%20%20%7B%0A%20%20%20%20%20%20%20%20%22attribution%22%3A%20null%2C%0A%20%20%20%20%20%20%20%20%22detectRetina%22%3A%20false%2C%0A%20%20%20%20%20%20%20%20%22maxNativeZoom%22%3A%2018%2C%0A%20%20%20%20%20%20%20%20%22maxZoom%22%3A%2018%2C%0A%20%20%20%20%20%20%20%20%22minZoom%22%3A%200%2C%0A%20%20%20%20%20%20%20%20%22noWrap%22%3A%20false%2C%0A%20%20%20%20%20%20%20%20%22opacity%22%3A%201%2C%0A%20%20%20%20%20%20%20%20%22subdomains%22%3A%20%22abc%22%2C%0A%20%20%20%20%20%20%20%20%22tms%22%3A%20false%0A%7D%29.addTo%28map_609907433712493d996d43884e6ad880%29%3B%0A%20%20%20%20var%20tile_layer_4124f0886e1a448584b408f8aedcf056%20%3D%20L.tileLayer%28%0A%20%20%20%20%20%20%20%20%27https%3A//earthengine.googleapis.com/v1alpha/projects/earthengine-legacy/maps/7b5e399aa07d3d49a0cccd50d8dfd1cb-75315611e343d8967c55993e907b9f3a/tiles/%7Bz%7D/%7Bx%7D/%7By%7D%27%2C%0A%20%20%20%20%20%20%20%20%7B%0A%20%20%20%20%20%20%20%20%22attribution%22%3A%20%22Google%20Earth%20Engine%22%2C%0A%20%20%20%20%20%20%20%20%22detectRetina%22%3A%20false%2C%0A%20%20%20%20%20%20%20%20%22maxNativeZoom%22%3A%2018%2C%0A%20%20%20%20%20%20%20%20%22maxZoom%22%3A%2018%2C%0A%20%20%20%20%20%20%20%20%22minZoom%22%3A%200%2C%0A%20%20%20%20%20%20%20%20%22noWrap%22%3A%20false%2C%0A%20%20%20%20%20%20%20%20%22opacity%22%3A%201%2C%0A%20%20%20%20%20%20%20%20%22subdomains%22%3A%20%22abc%22%2C%0A%20%20%20%20%20%20%20%20%22tms%22%3A%20false%0A%7D%29.addTo%28map_609907433712493d996d43884e6ad880%29%3B%0A%3C/script%3E onload=\"this.contentDocument.open();this.contentDocument.write(    decodeURIComponent(this.getAttribute('data-html')));this.contentDocument.close();\" allowfullscreen webkitallowfullscreen mozallowfullscreen></iframe></div></div>"
            ],
            "text/plain": [
              "<folium.folium.Map at 0x7fa7b559b710>"
            ]
          },
          "metadata": {},
          "execution_count": 49
        }
      ]
    },
    {
      "cell_type": "code",
      "metadata": {
        "id": "MfAgoyzsBabT",
        "colab": {
          "base_uri": "https://localhost:8080/",
          "height": 533
        },
        "outputId": "8cf6626c-157d-466e-b9ce-7984357c1c00"
      },
      "source": [
        "# Load a Landsat 8 image.\n",
        "image5 = ee.Image('LANDSAT/LC08/C01/T1_TOA/LC08_044034_20200505');\n",
        "\n",
        "# Compute the EVI using an expression.\n",
        "evi = image5.expression(\n",
        "    '2.5 * ((NIR - RED) / (NIR + 6 * RED - 7.5 * BLUE + 1))', {\n",
        "      'NIR': image5.select('B5'),\n",
        "      'RED': image5.select('B4'),\n",
        "      'BLUE': image5.select('B2')\n",
        "})\n",
        "\n",
        "Image(url=evi.getThumbUrl({'min': -1, 'max': 1, 'palette':  ['FF0000', '00FF00'],'dimensions': 512}))"
      ],
      "execution_count": null,
      "outputs": [
        {
          "output_type": "execute_result",
          "data": {
            "text/html": [
              "<img src=\"https://earthengine.googleapis.com/v1alpha/projects/earthengine-legacy/thumbnails/b65fc4148d566573fd8617a7e4dd27bd-0ecab2b1c508b7f5dd4bc5d67604f5f4:getPixels\"/>"
            ],
            "text/plain": [
              "<IPython.core.display.Image object>"
            ]
          },
          "metadata": {},
          "execution_count": 25
        }
      ]
    },
    {
      "cell_type": "markdown",
      "metadata": {
        "id": "FVRnc-R3bafN"
      },
      "source": [
        "## Relational, conditional and Boolean operations"
      ]
    },
    {
      "cell_type": "markdown",
      "metadata": {
        "id": "oEd9aDn9IP3x"
      },
      "source": [
        "To perform per-pixel comparisons between images, use relational operators. To extract urbanized areas in an image, this example uses relational operators to threshold spectral indices, combining the thresholds with and():"
      ]
    },
    {
      "cell_type": "code",
      "metadata": {
        "id": "RXxGRebuIPGm",
        "colab": {
          "base_uri": "https://localhost:8080/"
        },
        "outputId": "3e78b778-3a69-4c82-dd5b-4f863d98090b"
      },
      "source": [
        "# Create NDVI and NDWI spectral indices.\n",
        "ndvi = image.normalizedDifference(['B5', 'B4'])\n",
        "ndwi = image.normalizedDifference(['B3', 'B5'])\n",
        "\n",
        "# Create a binary layer using logical operations.\n",
        "bare = ndvi.lt(0.2) and (ndwi.lt(0))\n",
        "\n",
        "print('Bare')\n",
        "pp.pprint(bare.getInfo())"
      ],
      "execution_count": null,
      "outputs": [
        {
          "output_type": "stream",
          "name": "stdout",
          "text": [
            "Bare\n",
            "{'bands': [{'crs': 'EPSG:32610',\n",
            "            'crs_transform': [30, 0, 460785, 0, -30, 4264215],\n",
            "            'data_type': {'max': 1,\n",
            "                          'min': 0,\n",
            "                          'precision': 'int',\n",
            "                          'type': 'PixelType'},\n",
            "            'dimensions': [7661, 7801],\n",
            "            'id': 'nd'}],\n",
            " 'type': 'Image'}\n"
          ]
        }
      ]
    },
    {
      "cell_type": "code",
      "metadata": {
        "id": "7pNnbgXtIim6",
        "colab": {
          "base_uri": "https://localhost:8080/",
          "height": 533
        },
        "outputId": "4a5dffc3-6bdb-4b47-8625-da5249a169cf"
      },
      "source": [
        "Image(url=bare.getThumbUrl({'min': 0, 'max': 1, 'palette':  ['C0C0C0', '000000'],'dimensions': 512})) # Min is silver, max is black"
      ],
      "execution_count": null,
      "outputs": [
        {
          "output_type": "execute_result",
          "data": {
            "text/html": [
              "<img src=\"https://earthengine.googleapis.com/v1alpha/projects/earthengine-legacy/thumbnails/4224df6d7a41953846651951f255d85b-452b944799393f905aeee66cde1dc3f0:getPixels\"/>"
            ],
            "text/plain": [
              "<IPython.core.display.Image object>"
            ]
          },
          "metadata": {},
          "execution_count": 27
        }
      ]
    },
    {
      "cell_type": "code",
      "metadata": {
        "id": "7hr_CjUZI5rb",
        "colab": {
          "base_uri": "https://localhost:8080/",
          "height": 712
        },
        "outputId": "87d46a18-108e-4a11-aa28-7ddfc0cd02d4"
      },
      "source": [
        "# Mask the image with itslef to obtain only the land (pixels with value==1 (or TRUE))\n",
        "map3 = folium.Map(location=[37.5010,-122.1899],zoom_start=8)\n",
        "newbare = bare.updateMask(bare)\n",
        "map3.addLayer(newbare, {'min': 0, 'max': 0.1, 'palette': ['FF0000', '00FF00']}, 'Water vs land') \n",
        "map3"
      ],
      "execution_count": null,
      "outputs": [
        {
          "output_type": "execute_result",
          "data": {
            "text/html": [
              "<div style=\"width:100%;\"><div style=\"position:relative;width:100%;height:0;padding-bottom:60%;\"><span style=\"color:#565656\">Make this Notebook Trusted to load map: File -> Trust Notebook</span><iframe src=\"about:blank\" style=\"position:absolute;width:100%;height:100%;left:0;top:0;border:none !important;\" data-html=%3C%21DOCTYPE%20html%3E%0A%3Chead%3E%20%20%20%20%0A%20%20%20%20%3Cmeta%20http-equiv%3D%22content-type%22%20content%3D%22text/html%3B%20charset%3DUTF-8%22%20/%3E%0A%20%20%20%20%3Cscript%3EL_PREFER_CANVAS%3Dfalse%3B%20L_NO_TOUCH%3Dfalse%3B%20L_DISABLE_3D%3Dfalse%3B%3C/script%3E%0A%20%20%20%20%3Cscript%20src%3D%22https%3A//cdn.jsdelivr.net/npm/leaflet%401.4.0/dist/leaflet.js%22%3E%3C/script%3E%0A%20%20%20%20%3Cscript%20src%3D%22https%3A//code.jquery.com/jquery-1.12.4.min.js%22%3E%3C/script%3E%0A%20%20%20%20%3Cscript%20src%3D%22https%3A//maxcdn.bootstrapcdn.com/bootstrap/3.2.0/js/bootstrap.min.js%22%3E%3C/script%3E%0A%20%20%20%20%3Cscript%20src%3D%22https%3A//cdnjs.cloudflare.com/ajax/libs/Leaflet.awesome-markers/2.0.2/leaflet.awesome-markers.js%22%3E%3C/script%3E%0A%20%20%20%20%3Clink%20rel%3D%22stylesheet%22%20href%3D%22https%3A//cdn.jsdelivr.net/npm/leaflet%401.4.0/dist/leaflet.css%22/%3E%0A%20%20%20%20%3Clink%20rel%3D%22stylesheet%22%20href%3D%22https%3A//maxcdn.bootstrapcdn.com/bootstrap/3.2.0/css/bootstrap.min.css%22/%3E%0A%20%20%20%20%3Clink%20rel%3D%22stylesheet%22%20href%3D%22https%3A//maxcdn.bootstrapcdn.com/bootstrap/3.2.0/css/bootstrap-theme.min.css%22/%3E%0A%20%20%20%20%3Clink%20rel%3D%22stylesheet%22%20href%3D%22https%3A//maxcdn.bootstrapcdn.com/font-awesome/4.6.3/css/font-awesome.min.css%22/%3E%0A%20%20%20%20%3Clink%20rel%3D%22stylesheet%22%20href%3D%22https%3A//cdnjs.cloudflare.com/ajax/libs/Leaflet.awesome-markers/2.0.2/leaflet.awesome-markers.css%22/%3E%0A%20%20%20%20%3Clink%20rel%3D%22stylesheet%22%20href%3D%22https%3A//rawcdn.githack.com/python-visualization/folium/master/folium/templates/leaflet.awesome.rotate.css%22/%3E%0A%20%20%20%20%3Cstyle%3Ehtml%2C%20body%20%7Bwidth%3A%20100%25%3Bheight%3A%20100%25%3Bmargin%3A%200%3Bpadding%3A%200%3B%7D%3C/style%3E%0A%20%20%20%20%3Cstyle%3E%23map%20%7Bposition%3Aabsolute%3Btop%3A0%3Bbottom%3A0%3Bright%3A0%3Bleft%3A0%3B%7D%3C/style%3E%0A%20%20%20%20%0A%20%20%20%20%3Cmeta%20name%3D%22viewport%22%20content%3D%22width%3Ddevice-width%2C%0A%20%20%20%20%20%20%20%20initial-scale%3D1.0%2C%20maximum-scale%3D1.0%2C%20user-scalable%3Dno%22%20/%3E%0A%20%20%20%20%3Cstyle%3E%23map_31357507efda4d538d016b67daaba6d9%20%7B%0A%20%20%20%20%20%20%20%20position%3A%20relative%3B%0A%20%20%20%20%20%20%20%20width%3A%20100.0%25%3B%0A%20%20%20%20%20%20%20%20height%3A%20100.0%25%3B%0A%20%20%20%20%20%20%20%20left%3A%200.0%25%3B%0A%20%20%20%20%20%20%20%20top%3A%200.0%25%3B%0A%20%20%20%20%20%20%20%20%7D%0A%20%20%20%20%3C/style%3E%0A%3C/head%3E%0A%3Cbody%3E%20%20%20%20%0A%20%20%20%20%0A%20%20%20%20%3Cdiv%20class%3D%22folium-map%22%20id%3D%22map_31357507efda4d538d016b67daaba6d9%22%20%3E%3C/div%3E%0A%3C/body%3E%0A%3Cscript%3E%20%20%20%20%0A%20%20%20%20%0A%20%20%20%20%0A%20%20%20%20%20%20%20%20var%20bounds%20%3D%20null%3B%0A%20%20%20%20%0A%0A%20%20%20%20var%20map_31357507efda4d538d016b67daaba6d9%20%3D%20L.map%28%0A%20%20%20%20%20%20%20%20%27map_31357507efda4d538d016b67daaba6d9%27%2C%20%7B%0A%20%20%20%20%20%20%20%20center%3A%20%5B37.501%2C%20-122.1899%5D%2C%0A%20%20%20%20%20%20%20%20zoom%3A%208%2C%0A%20%20%20%20%20%20%20%20maxBounds%3A%20bounds%2C%0A%20%20%20%20%20%20%20%20layers%3A%20%5B%5D%2C%0A%20%20%20%20%20%20%20%20worldCopyJump%3A%20false%2C%0A%20%20%20%20%20%20%20%20crs%3A%20L.CRS.EPSG3857%2C%0A%20%20%20%20%20%20%20%20zoomControl%3A%20true%2C%0A%20%20%20%20%20%20%20%20%7D%29%3B%0A%0A%0A%20%20%20%20%0A%20%20%20%20var%20tile_layer_ae73269075494eaaac43746025cb924c%20%3D%20L.tileLayer%28%0A%20%20%20%20%20%20%20%20%27https%3A//%7Bs%7D.tile.openstreetmap.org/%7Bz%7D/%7Bx%7D/%7By%7D.png%27%2C%0A%20%20%20%20%20%20%20%20%7B%0A%20%20%20%20%20%20%20%20%22attribution%22%3A%20null%2C%0A%20%20%20%20%20%20%20%20%22detectRetina%22%3A%20false%2C%0A%20%20%20%20%20%20%20%20%22maxNativeZoom%22%3A%2018%2C%0A%20%20%20%20%20%20%20%20%22maxZoom%22%3A%2018%2C%0A%20%20%20%20%20%20%20%20%22minZoom%22%3A%200%2C%0A%20%20%20%20%20%20%20%20%22noWrap%22%3A%20false%2C%0A%20%20%20%20%20%20%20%20%22opacity%22%3A%201%2C%0A%20%20%20%20%20%20%20%20%22subdomains%22%3A%20%22abc%22%2C%0A%20%20%20%20%20%20%20%20%22tms%22%3A%20false%0A%7D%29.addTo%28map_31357507efda4d538d016b67daaba6d9%29%3B%0A%20%20%20%20var%20tile_layer_f869bda867e84211832fa15850a53da9%20%3D%20L.tileLayer%28%0A%20%20%20%20%20%20%20%20%27https%3A//earthengine.googleapis.com/v1alpha/projects/earthengine-legacy/maps/d78177e8a775f55e3b1a397a3ce55ab2-4fd58c6ae5da18a752676e3695bfa427/tiles/%7Bz%7D/%7Bx%7D/%7By%7D%27%2C%0A%20%20%20%20%20%20%20%20%7B%0A%20%20%20%20%20%20%20%20%22attribution%22%3A%20%22Google%20Earth%20Engine%22%2C%0A%20%20%20%20%20%20%20%20%22detectRetina%22%3A%20false%2C%0A%20%20%20%20%20%20%20%20%22maxNativeZoom%22%3A%2018%2C%0A%20%20%20%20%20%20%20%20%22maxZoom%22%3A%2018%2C%0A%20%20%20%20%20%20%20%20%22minZoom%22%3A%200%2C%0A%20%20%20%20%20%20%20%20%22noWrap%22%3A%20false%2C%0A%20%20%20%20%20%20%20%20%22opacity%22%3A%201%2C%0A%20%20%20%20%20%20%20%20%22subdomains%22%3A%20%22abc%22%2C%0A%20%20%20%20%20%20%20%20%22tms%22%3A%20false%0A%7D%29.addTo%28map_31357507efda4d538d016b67daaba6d9%29%3B%0A%3C/script%3E onload=\"this.contentDocument.open();this.contentDocument.write(    decodeURIComponent(this.getAttribute('data-html')));this.contentDocument.close();\" allowfullscreen webkitallowfullscreen mozallowfullscreen></iframe></div></div>"
            ],
            "text/plain": [
              "<folium.folium.Map at 0x7fa7b5882710>"
            ]
          },
          "metadata": {},
          "execution_count": 28
        }
      ]
    },
    {
      "cell_type": "code",
      "metadata": {
        "id": "VwSlpouOKaWe",
        "colab": {
          "base_uri": "https://localhost:8080/",
          "height": 712
        },
        "outputId": "7a619885-2e63-4685-c6f2-45262f33e8b9"
      },
      "source": [
        "# Mask the image with pixels with value==0 \n",
        "map4 = folium.Map(location=[37.5010,-122.1899],zoom_start=8)\n",
        "opp_bare = bare.updateMask(bare.eq(0))\n",
        "map4.addLayer(opp_bare, {'min': 0, 'max': 0.1, 'palette': ['FF0000', '00FF00']}, 'Water vs land') \n",
        "map4"
      ],
      "execution_count": null,
      "outputs": [
        {
          "output_type": "execute_result",
          "data": {
            "text/html": [
              "<div style=\"width:100%;\"><div style=\"position:relative;width:100%;height:0;padding-bottom:60%;\"><span style=\"color:#565656\">Make this Notebook Trusted to load map: File -> Trust Notebook</span><iframe src=\"about:blank\" style=\"position:absolute;width:100%;height:100%;left:0;top:0;border:none !important;\" data-html=%3C%21DOCTYPE%20html%3E%0A%3Chead%3E%20%20%20%20%0A%20%20%20%20%3Cmeta%20http-equiv%3D%22content-type%22%20content%3D%22text/html%3B%20charset%3DUTF-8%22%20/%3E%0A%20%20%20%20%3Cscript%3EL_PREFER_CANVAS%3Dfalse%3B%20L_NO_TOUCH%3Dfalse%3B%20L_DISABLE_3D%3Dfalse%3B%3C/script%3E%0A%20%20%20%20%3Cscript%20src%3D%22https%3A//cdn.jsdelivr.net/npm/leaflet%401.4.0/dist/leaflet.js%22%3E%3C/script%3E%0A%20%20%20%20%3Cscript%20src%3D%22https%3A//code.jquery.com/jquery-1.12.4.min.js%22%3E%3C/script%3E%0A%20%20%20%20%3Cscript%20src%3D%22https%3A//maxcdn.bootstrapcdn.com/bootstrap/3.2.0/js/bootstrap.min.js%22%3E%3C/script%3E%0A%20%20%20%20%3Cscript%20src%3D%22https%3A//cdnjs.cloudflare.com/ajax/libs/Leaflet.awesome-markers/2.0.2/leaflet.awesome-markers.js%22%3E%3C/script%3E%0A%20%20%20%20%3Clink%20rel%3D%22stylesheet%22%20href%3D%22https%3A//cdn.jsdelivr.net/npm/leaflet%401.4.0/dist/leaflet.css%22/%3E%0A%20%20%20%20%3Clink%20rel%3D%22stylesheet%22%20href%3D%22https%3A//maxcdn.bootstrapcdn.com/bootstrap/3.2.0/css/bootstrap.min.css%22/%3E%0A%20%20%20%20%3Clink%20rel%3D%22stylesheet%22%20href%3D%22https%3A//maxcdn.bootstrapcdn.com/bootstrap/3.2.0/css/bootstrap-theme.min.css%22/%3E%0A%20%20%20%20%3Clink%20rel%3D%22stylesheet%22%20href%3D%22https%3A//maxcdn.bootstrapcdn.com/font-awesome/4.6.3/css/font-awesome.min.css%22/%3E%0A%20%20%20%20%3Clink%20rel%3D%22stylesheet%22%20href%3D%22https%3A//cdnjs.cloudflare.com/ajax/libs/Leaflet.awesome-markers/2.0.2/leaflet.awesome-markers.css%22/%3E%0A%20%20%20%20%3Clink%20rel%3D%22stylesheet%22%20href%3D%22https%3A//rawcdn.githack.com/python-visualization/folium/master/folium/templates/leaflet.awesome.rotate.css%22/%3E%0A%20%20%20%20%3Cstyle%3Ehtml%2C%20body%20%7Bwidth%3A%20100%25%3Bheight%3A%20100%25%3Bmargin%3A%200%3Bpadding%3A%200%3B%7D%3C/style%3E%0A%20%20%20%20%3Cstyle%3E%23map%20%7Bposition%3Aabsolute%3Btop%3A0%3Bbottom%3A0%3Bright%3A0%3Bleft%3A0%3B%7D%3C/style%3E%0A%20%20%20%20%0A%20%20%20%20%3Cmeta%20name%3D%22viewport%22%20content%3D%22width%3Ddevice-width%2C%0A%20%20%20%20%20%20%20%20initial-scale%3D1.0%2C%20maximum-scale%3D1.0%2C%20user-scalable%3Dno%22%20/%3E%0A%20%20%20%20%3Cstyle%3E%23map_aff693e2dcee4d97882bc261ef118931%20%7B%0A%20%20%20%20%20%20%20%20position%3A%20relative%3B%0A%20%20%20%20%20%20%20%20width%3A%20100.0%25%3B%0A%20%20%20%20%20%20%20%20height%3A%20100.0%25%3B%0A%20%20%20%20%20%20%20%20left%3A%200.0%25%3B%0A%20%20%20%20%20%20%20%20top%3A%200.0%25%3B%0A%20%20%20%20%20%20%20%20%7D%0A%20%20%20%20%3C/style%3E%0A%3C/head%3E%0A%3Cbody%3E%20%20%20%20%0A%20%20%20%20%0A%20%20%20%20%3Cdiv%20class%3D%22folium-map%22%20id%3D%22map_aff693e2dcee4d97882bc261ef118931%22%20%3E%3C/div%3E%0A%3C/body%3E%0A%3Cscript%3E%20%20%20%20%0A%20%20%20%20%0A%20%20%20%20%0A%20%20%20%20%20%20%20%20var%20bounds%20%3D%20null%3B%0A%20%20%20%20%0A%0A%20%20%20%20var%20map_aff693e2dcee4d97882bc261ef118931%20%3D%20L.map%28%0A%20%20%20%20%20%20%20%20%27map_aff693e2dcee4d97882bc261ef118931%27%2C%20%7B%0A%20%20%20%20%20%20%20%20center%3A%20%5B37.501%2C%20-122.1899%5D%2C%0A%20%20%20%20%20%20%20%20zoom%3A%208%2C%0A%20%20%20%20%20%20%20%20maxBounds%3A%20bounds%2C%0A%20%20%20%20%20%20%20%20layers%3A%20%5B%5D%2C%0A%20%20%20%20%20%20%20%20worldCopyJump%3A%20false%2C%0A%20%20%20%20%20%20%20%20crs%3A%20L.CRS.EPSG3857%2C%0A%20%20%20%20%20%20%20%20zoomControl%3A%20true%2C%0A%20%20%20%20%20%20%20%20%7D%29%3B%0A%0A%0A%20%20%20%20%0A%20%20%20%20var%20tile_layer_14d06b4b6b5e46f9b67a6c72a49ac8d2%20%3D%20L.tileLayer%28%0A%20%20%20%20%20%20%20%20%27https%3A//%7Bs%7D.tile.openstreetmap.org/%7Bz%7D/%7Bx%7D/%7By%7D.png%27%2C%0A%20%20%20%20%20%20%20%20%7B%0A%20%20%20%20%20%20%20%20%22attribution%22%3A%20null%2C%0A%20%20%20%20%20%20%20%20%22detectRetina%22%3A%20false%2C%0A%20%20%20%20%20%20%20%20%22maxNativeZoom%22%3A%2018%2C%0A%20%20%20%20%20%20%20%20%22maxZoom%22%3A%2018%2C%0A%20%20%20%20%20%20%20%20%22minZoom%22%3A%200%2C%0A%20%20%20%20%20%20%20%20%22noWrap%22%3A%20false%2C%0A%20%20%20%20%20%20%20%20%22opacity%22%3A%201%2C%0A%20%20%20%20%20%20%20%20%22subdomains%22%3A%20%22abc%22%2C%0A%20%20%20%20%20%20%20%20%22tms%22%3A%20false%0A%7D%29.addTo%28map_aff693e2dcee4d97882bc261ef118931%29%3B%0A%20%20%20%20var%20tile_layer_661123c6ed6e434ea6ae75b656ebac01%20%3D%20L.tileLayer%28%0A%20%20%20%20%20%20%20%20%27https%3A//earthengine.googleapis.com/v1alpha/projects/earthengine-legacy/maps/728f7cb73c248162d30c894bc81988a9-568caef562c877619f8850decb0285c2/tiles/%7Bz%7D/%7Bx%7D/%7By%7D%27%2C%0A%20%20%20%20%20%20%20%20%7B%0A%20%20%20%20%20%20%20%20%22attribution%22%3A%20%22Google%20Earth%20Engine%22%2C%0A%20%20%20%20%20%20%20%20%22detectRetina%22%3A%20false%2C%0A%20%20%20%20%20%20%20%20%22maxNativeZoom%22%3A%2018%2C%0A%20%20%20%20%20%20%20%20%22maxZoom%22%3A%2018%2C%0A%20%20%20%20%20%20%20%20%22minZoom%22%3A%200%2C%0A%20%20%20%20%20%20%20%20%22noWrap%22%3A%20false%2C%0A%20%20%20%20%20%20%20%20%22opacity%22%3A%201%2C%0A%20%20%20%20%20%20%20%20%22subdomains%22%3A%20%22abc%22%2C%0A%20%20%20%20%20%20%20%20%22tms%22%3A%20false%0A%7D%29.addTo%28map_aff693e2dcee4d97882bc261ef118931%29%3B%0A%3C/script%3E onload=\"this.contentDocument.open();this.contentDocument.write(    decodeURIComponent(this.getAttribute('data-html')));this.contentDocument.close();\" allowfullscreen webkitallowfullscreen mozallowfullscreen></iframe></div></div>"
            ],
            "text/plain": [
              "<folium.folium.Map at 0x7fa7b5875710>"
            ]
          },
          "metadata": {},
          "execution_count": 29
        }
      ]
    }
  ]
}