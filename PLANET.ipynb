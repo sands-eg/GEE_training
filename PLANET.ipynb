{
  "nbformat": 4,
  "nbformat_minor": 0,
  "metadata": {
    "colab": {
      "name": "Untitled0.ipynb",
      "provenance": [],
      "collapsed_sections": [],
      "authorship_tag": "ABX9TyMoNTLeBq0P5BJ7fVU6MHVH",
      "include_colab_link": true
    },
    "kernelspec": {
      "name": "python3",
      "display_name": "Python 3"
    },
    "language_info": {
      "name": "python"
    }
  },
  "cells": [
    {
      "cell_type": "markdown",
      "metadata": {
        "id": "view-in-github",
        "colab_type": "text"
      },
      "source": [
        "<a href=\"https://colab.research.google.com/github/sands-eg/GEE_training/blob/main/PLANET.ipynb\" target=\"_parent\"><img src=\"https://colab.research.google.com/assets/colab-badge.svg\" alt=\"Open In Colab\"/></a>"
      ]
    },
    {
      "cell_type": "markdown",
      "metadata": {
        "id": "cJrSVaXLoh3I"
      },
      "source": [
        "# Classificating PLANET data"
      ]
    },
    {
      "cell_type": "code",
      "metadata": {
        "id": "ccf6t9VnokVt"
      },
      "source": [
        "import ee"
      ],
      "execution_count": 2,
      "outputs": []
    },
    {
      "cell_type": "code",
      "metadata": {
        "colab": {
          "base_uri": "https://localhost:8080/"
        },
        "id": "ey4ZHQyvoo9T",
        "outputId": "8e7419b1-72c2-4fd0-8944-9ea21e88c5c4"
      },
      "source": [
        "ee.Authenticate()\n",
        "ee.Initialize()"
      ],
      "execution_count": 3,
      "outputs": [
        {
          "output_type": "stream",
          "name": "stdout",
          "text": [
            "To authorize access needed by Earth Engine, open the following URL in a web browser and follow the instructions. If the web browser does not start automatically, please manually browse the URL below.\n",
            "\n",
            "    https://accounts.google.com/o/oauth2/auth?client_id=517222506229-vsmmajv00ul0bs7p89v5m89qs8eb9359.apps.googleusercontent.com&scope=https%3A%2F%2Fwww.googleapis.com%2Fauth%2Fearthengine+https%3A%2F%2Fwww.googleapis.com%2Fauth%2Fdevstorage.full_control&redirect_uri=urn%3Aietf%3Awg%3Aoauth%3A2.0%3Aoob&response_type=code&code_challenge=9HNF_mUOMYElN_LfY4-xuN1peabvHsLMVd6myIt6dhU&code_challenge_method=S256\n",
            "\n",
            "The authorization workflow will generate a code, which you should paste in the box below. \n",
            "Enter verification code: 4/1AX4XfWja1mxY5MqKTQbzUkneQa85FeEHBiamgtuHkxj658R34zcb8OSRokc\n",
            "\n",
            "Successfully saved authorization token.\n"
          ]
        }
      ]
    },
    {
      "cell_type": "code",
      "metadata": {
        "id": "lfmGNXXcwJYE"
      },
      "source": [
        "import pprint\n",
        "import folium\n",
        "!pip install geehydro # Life saver for plotting GEE stuff with Python!\n",
        "import geehydro"
      ],
      "execution_count": 17,
      "outputs": []
    },
    {
      "cell_type": "code",
      "metadata": {
        "id": "6rjqjFANos98"
      },
      "source": [
        "# loading an image \n",
        "PL2021 = ee.ImageCollection(\"projects/planet-nicfi/assets/basemaps/asia\").filterBounds(ee.Geometry.Rectangle([[117.586,0.668],[117.756,0.805]])).filterDate('2021-01-01', '2021-12-31').first()\n",
        "# loading an image \n",
        "PL2020 = ee.ImageCollection(\"projects/planet-nicfi/assets/basemaps/asia\").filterBounds(ee.Geometry.Rectangle([[117.586,0.668],[117.756,0.805]])).filterDate('2020-01-01', '2020-12-31').first()\n",
        "# loading an image \n",
        "PL2019 = ee.ImageCollection(\"projects/planet-nicfi/assets/basemaps/asia\").filterBounds(ee.Geometry.Rectangle([[117.586,0.668],[117.756,0.805]])).filterDate('2019-01-01', '2019-12-31').first()\n",
        "# loading an image \n",
        "PL2018 = ee.ImageCollection(\"projects/planet-nicfi/assets/basemaps/asia\").filterBounds(ee.Geometry.Rectangle([[117.586,0.668],[117.756,0.805]])).filterDate('2018-01-01', '2018-12-31').first()\n",
        "# loading an image \n",
        "PL2017 = ee.ImageCollection(\"projects/planet-nicfi/assets/basemaps/asia\").filterBounds(ee.Geometry.Rectangle([[117.586,0.668],[117.756,0.805]])).filterDate('2017-01-01', '2017-12-31').first()\n",
        "# loading an image \n",
        "PL2016 = ee.ImageCollection(\"projects/planet-nicfi/assets/basemaps/asia\").filterBounds(ee.Geometry.Rectangle([[117.586,0.668],[117.756,0.805]])).filterDate('2016-01-01', '2016-12-31').first()\n",
        "# loading an image \n",
        "PL2015 = ee.ImageCollection(\"projects/planet-nicfi/assets/basemaps/asia\").filterBounds(ee.Geometry.Rectangle([[117.586,0.668],[117.756,0.805]])).filterDate('2015-01-01', '2015-12-31').first()\n"
      ],
      "execution_count": 10,
      "outputs": []
    },
    {
      "cell_type": "code",
      "metadata": {
        "id": "XdQquNnRvuoh"
      },
      "source": [
        "planet = [PL2015, PL2016, PL2017, PL2018, PL2019, PL2020, PL2021]\n",
        "study = ee.Geometry.Rectangle([[117.586,0.668],[117.756,0.805]])"
      ],
      "execution_count": 27,
      "outputs": []
    },
    {
      "cell_type": "code",
      "metadata": {
        "id": "HG-MDqwjwWc_"
      },
      "source": [
        "pp = pprint.PrettyPrinter(depth=8)"
      ],
      "execution_count": 20,
      "outputs": []
    },
    {
      "cell_type": "code",
      "metadata": {
        "colab": {
          "base_uri": "https://localhost:8080/"
        },
        "id": "ZUlWm2rStXTL",
        "outputId": "3ca4ff4c-c9d6-4e33-dcab-5a99a953ab90"
      },
      "source": [
        "for i in planet:\n",
        "  pp.pprint(i.getInfo())\n",
        "\n"
      ],
      "execution_count": 21,
      "outputs": [
        {
          "output_type": "stream",
          "name": "stdout",
          "text": [
            "{'bands': [{'crs': 'EPSG:3857',\n",
            "            'crs_transform': [4.777314267159966,\n",
            "                              0,\n",
            "                              -20037508.33999997,\n",
            "                              0,\n",
            "                              -4.777314267159966,\n",
            "                              3522218.2628979366],\n",
            "            'data_type': {'max': 65535,\n",
            "                          'min': 0,\n",
            "                          'precision': 'int',\n",
            "                          'type': 'PixelType'},\n",
            "            'dimensions': [8388608, 1413120],\n",
            "            'id': 'B'},\n",
            "           {'crs': 'EPSG:3857',\n",
            "            'crs_transform': [4.777314267159966,\n",
            "                              0,\n",
            "                              -20037508.33999997,\n",
            "                              0,\n",
            "                              -4.777314267159966,\n",
            "                              3522218.2628979366],\n",
            "            'data_type': {'max': 65535,\n",
            "                          'min': 0,\n",
            "                          'precision': 'int',\n",
            "                          'type': 'PixelType'},\n",
            "            'dimensions': [8388608, 1413120],\n",
            "            'id': 'G'},\n",
            "           {'crs': 'EPSG:3857',\n",
            "            'crs_transform': [4.777314267159966,\n",
            "                              0,\n",
            "                              -20037508.33999997,\n",
            "                              0,\n",
            "                              -4.777314267159966,\n",
            "                              3522218.2628979366],\n",
            "            'data_type': {'max': 65535,\n",
            "                          'min': 0,\n",
            "                          'precision': 'int',\n",
            "                          'type': 'PixelType'},\n",
            "            'dimensions': [8388608, 1413120],\n",
            "            'id': 'R'},\n",
            "           {'crs': 'EPSG:3857',\n",
            "            'crs_transform': [4.777314267159966,\n",
            "                              0,\n",
            "                              -20037508.33999997,\n",
            "                              0,\n",
            "                              -4.777314267159966,\n",
            "                              3522218.2628979366],\n",
            "            'data_type': {'max': 65535,\n",
            "                          'min': 0,\n",
            "                          'precision': 'int',\n",
            "                          'type': 'PixelType'},\n",
            "            'dimensions': [8388608, 1413120],\n",
            "            'id': 'N'}],\n",
            " 'id': 'projects/planet-nicfi/assets/basemaps/asia/planet_medres_normalized_analytic_2015-12_2016-05_mosaic',\n",
            " 'properties': {'cadence': 'biannual',\n",
            "                'system:asset_size': 3191140147278,\n",
            "                'system:footprint': {'coordinates': [[-180, -90],\n",
            "                                                     [180, -90],\n",
            "                                                     [180, 90],\n",
            "                                                     [-180, 90],\n",
            "                                                     [-180, -90]],\n",
            "                                     'type': 'LinearRing'},\n",
            "                'system:index': 'planet_medres_normalized_analytic_2015-12_2016-05_mosaic',\n",
            "                'system:time_end': 1464739200000,\n",
            "                'system:time_start': 1448928000000},\n",
            " 'type': 'Image',\n",
            " 'version': 1624008632190192}\n",
            "{'bands': [{'crs': 'EPSG:3857',\n",
            "            'crs_transform': [4.777314267159966,\n",
            "                              0,\n",
            "                              -20037508.33999997,\n",
            "                              0,\n",
            "                              -4.777314267159966,\n",
            "                              3522218.2628979366],\n",
            "            'data_type': {'max': 65535,\n",
            "                          'min': 0,\n",
            "                          'precision': 'int',\n",
            "                          'type': 'PixelType'},\n",
            "            'dimensions': [8388608, 1413120],\n",
            "            'id': 'B'},\n",
            "           {'crs': 'EPSG:3857',\n",
            "            'crs_transform': [4.777314267159966,\n",
            "                              0,\n",
            "                              -20037508.33999997,\n",
            "                              0,\n",
            "                              -4.777314267159966,\n",
            "                              3522218.2628979366],\n",
            "            'data_type': {'max': 65535,\n",
            "                          'min': 0,\n",
            "                          'precision': 'int',\n",
            "                          'type': 'PixelType'},\n",
            "            'dimensions': [8388608, 1413120],\n",
            "            'id': 'G'},\n",
            "           {'crs': 'EPSG:3857',\n",
            "            'crs_transform': [4.777314267159966,\n",
            "                              0,\n",
            "                              -20037508.33999997,\n",
            "                              0,\n",
            "                              -4.777314267159966,\n",
            "                              3522218.2628979366],\n",
            "            'data_type': {'max': 65535,\n",
            "                          'min': 0,\n",
            "                          'precision': 'int',\n",
            "                          'type': 'PixelType'},\n",
            "            'dimensions': [8388608, 1413120],\n",
            "            'id': 'R'},\n",
            "           {'crs': 'EPSG:3857',\n",
            "            'crs_transform': [4.777314267159966,\n",
            "                              0,\n",
            "                              -20037508.33999997,\n",
            "                              0,\n",
            "                              -4.777314267159966,\n",
            "                              3522218.2628979366],\n",
            "            'data_type': {'max': 65535,\n",
            "                          'min': 0,\n",
            "                          'precision': 'int',\n",
            "                          'type': 'PixelType'},\n",
            "            'dimensions': [8388608, 1413120],\n",
            "            'id': 'N'}],\n",
            " 'id': 'projects/planet-nicfi/assets/basemaps/asia/planet_medres_normalized_analytic_2016-06_2016-11_mosaic',\n",
            " 'properties': {'cadence': 'biannual',\n",
            "                'system:asset_size': 3372186871166,\n",
            "                'system:footprint': {'coordinates': [[-180, -90],\n",
            "                                                     [180, -90],\n",
            "                                                     [180, 90],\n",
            "                                                     [-180, 90],\n",
            "                                                     [-180, -90]],\n",
            "                                     'type': 'LinearRing'},\n",
            "                'system:index': 'planet_medres_normalized_analytic_2016-06_2016-11_mosaic',\n",
            "                'system:time_end': 1480550400000,\n",
            "                'system:time_start': 1464739200000},\n",
            " 'type': 'Image',\n",
            " 'version': 1624016759137859}\n",
            "{'bands': [{'crs': 'EPSG:3857',\n",
            "            'crs_transform': [4.777314267159966,\n",
            "                              0,\n",
            "                              -20037508.339999963,\n",
            "                              0,\n",
            "                              -4.777314267159966,\n",
            "                              3522218.2628979394],\n",
            "            'data_type': {'max': 65535,\n",
            "                          'min': 0,\n",
            "                          'precision': 'int',\n",
            "                          'type': 'PixelType'},\n",
            "            'dimensions': [8388608, 1302528],\n",
            "            'id': 'B'},\n",
            "           {'crs': 'EPSG:3857',\n",
            "            'crs_transform': [4.777314267159966,\n",
            "                              0,\n",
            "                              -20037508.339999963,\n",
            "                              0,\n",
            "                              -4.777314267159966,\n",
            "                              3522218.2628979394],\n",
            "            'data_type': {'max': 65535,\n",
            "                          'min': 0,\n",
            "                          'precision': 'int',\n",
            "                          'type': 'PixelType'},\n",
            "            'dimensions': [8388608, 1302528],\n",
            "            'id': 'G'},\n",
            "           {'crs': 'EPSG:3857',\n",
            "            'crs_transform': [4.777314267159966,\n",
            "                              0,\n",
            "                              -20037508.339999963,\n",
            "                              0,\n",
            "                              -4.777314267159966,\n",
            "                              3522218.2628979394],\n",
            "            'data_type': {'max': 65535,\n",
            "                          'min': 0,\n",
            "                          'precision': 'int',\n",
            "                          'type': 'PixelType'},\n",
            "            'dimensions': [8388608, 1302528],\n",
            "            'id': 'R'},\n",
            "           {'crs': 'EPSG:3857',\n",
            "            'crs_transform': [4.777314267159966,\n",
            "                              0,\n",
            "                              -20037508.339999963,\n",
            "                              0,\n",
            "                              -4.777314267159966,\n",
            "                              3522218.2628979394],\n",
            "            'data_type': {'max': 65535,\n",
            "                          'min': 0,\n",
            "                          'precision': 'int',\n",
            "                          'type': 'PixelType'},\n",
            "            'dimensions': [8388608, 1302528],\n",
            "            'id': 'N'}],\n",
            " 'id': 'projects/planet-nicfi/assets/basemaps/asia/planet_medres_normalized_analytic_2017-06_2017-11_mosaic',\n",
            " 'properties': {'cadence': 'biannual',\n",
            "                'system:asset_size': 3369995789138,\n",
            "                'system:footprint': {'coordinates': [[-180, -90],\n",
            "                                                     [180, -90],\n",
            "                                                     [180, 90],\n",
            "                                                     [-180, 90],\n",
            "                                                     [-180, -90]],\n",
            "                                     'type': 'LinearRing'},\n",
            "                'system:index': 'planet_medres_normalized_analytic_2017-06_2017-11_mosaic',\n",
            "                'system:time_end': 1512086400000,\n",
            "                'system:time_start': 1496275200000},\n",
            " 'type': 'Image',\n",
            " 'version': 1624047226534899}\n",
            "{'bands': [{'crs': 'EPSG:3857',\n",
            "            'crs_transform': [4.777314267159966,\n",
            "                              0,\n",
            "                              -20037508.33999997,\n",
            "                              0,\n",
            "                              -4.777314267159966,\n",
            "                              3522218.2628979366],\n",
            "            'data_type': {'max': 65535,\n",
            "                          'min': 0,\n",
            "                          'precision': 'int',\n",
            "                          'type': 'PixelType'},\n",
            "            'dimensions': [8388608, 1413120],\n",
            "            'id': 'B'},\n",
            "           {'crs': 'EPSG:3857',\n",
            "            'crs_transform': [4.777314267159966,\n",
            "                              0,\n",
            "                              -20037508.33999997,\n",
            "                              0,\n",
            "                              -4.777314267159966,\n",
            "                              3522218.2628979366],\n",
            "            'data_type': {'max': 65535,\n",
            "                          'min': 0,\n",
            "                          'precision': 'int',\n",
            "                          'type': 'PixelType'},\n",
            "            'dimensions': [8388608, 1413120],\n",
            "            'id': 'G'},\n",
            "           {'crs': 'EPSG:3857',\n",
            "            'crs_transform': [4.777314267159966,\n",
            "                              0,\n",
            "                              -20037508.33999997,\n",
            "                              0,\n",
            "                              -4.777314267159966,\n",
            "                              3522218.2628979366],\n",
            "            'data_type': {'max': 65535,\n",
            "                          'min': 0,\n",
            "                          'precision': 'int',\n",
            "                          'type': 'PixelType'},\n",
            "            'dimensions': [8388608, 1413120],\n",
            "            'id': 'R'},\n",
            "           {'crs': 'EPSG:3857',\n",
            "            'crs_transform': [4.777314267159966,\n",
            "                              0,\n",
            "                              -20037508.33999997,\n",
            "                              0,\n",
            "                              -4.777314267159966,\n",
            "                              3522218.2628979366],\n",
            "            'data_type': {'max': 65535,\n",
            "                          'min': 0,\n",
            "                          'precision': 'int',\n",
            "                          'type': 'PixelType'},\n",
            "            'dimensions': [8388608, 1413120],\n",
            "            'id': 'N'}],\n",
            " 'id': 'projects/planet-nicfi/assets/basemaps/asia/planet_medres_normalized_analytic_2018-06_2018-11_mosaic',\n",
            " 'properties': {'cadence': 'biannual',\n",
            "                'system:asset_size': 3402031906613,\n",
            "                'system:footprint': {'coordinates': [[-180, -90],\n",
            "                                                     [180, -90],\n",
            "                                                     [180, 90],\n",
            "                                                     [-180, 90],\n",
            "                                                     [-180, -90]],\n",
            "                                     'type': 'LinearRing'},\n",
            "                'system:index': 'planet_medres_normalized_analytic_2018-06_2018-11_mosaic',\n",
            "                'system:time_end': 1543622400000,\n",
            "                'system:time_start': 1527811200000},\n",
            " 'type': 'Image',\n",
            " 'version': 1624064921514317}\n",
            "{'bands': [{'crs': 'EPSG:3857',\n",
            "            'crs_transform': [4.777314267160193,\n",
            "                              0,\n",
            "                              -20037508.340000007,\n",
            "                              0,\n",
            "                              -4.777314267160193,\n",
            "                              3522218.2628982645],\n",
            "            'data_type': {'max': 65535,\n",
            "                          'min': 0,\n",
            "                          'precision': 'int',\n",
            "                          'type': 'PixelType'},\n",
            "            'dimensions': [8388608, 1458176],\n",
            "            'id': 'B'},\n",
            "           {'crs': 'EPSG:3857',\n",
            "            'crs_transform': [4.777314267160193,\n",
            "                              0,\n",
            "                              -20037508.340000007,\n",
            "                              0,\n",
            "                              -4.777314267160193,\n",
            "                              3522218.2628982645],\n",
            "            'data_type': {'max': 65535,\n",
            "                          'min': 0,\n",
            "                          'precision': 'int',\n",
            "                          'type': 'PixelType'},\n",
            "            'dimensions': [8388608, 1458176],\n",
            "            'id': 'G'},\n",
            "           {'crs': 'EPSG:3857',\n",
            "            'crs_transform': [4.777314267160193,\n",
            "                              0,\n",
            "                              -20037508.340000007,\n",
            "                              0,\n",
            "                              -4.777314267160193,\n",
            "                              3522218.2628982645],\n",
            "            'data_type': {'max': 65535,\n",
            "                          'min': 0,\n",
            "                          'precision': 'int',\n",
            "                          'type': 'PixelType'},\n",
            "            'dimensions': [8388608, 1458176],\n",
            "            'id': 'R'},\n",
            "           {'crs': 'EPSG:3857',\n",
            "            'crs_transform': [4.777314267160193,\n",
            "                              0,\n",
            "                              -20037508.340000007,\n",
            "                              0,\n",
            "                              -4.777314267160193,\n",
            "                              3522218.2628982645],\n",
            "            'data_type': {'max': 65535,\n",
            "                          'min': 0,\n",
            "                          'precision': 'int',\n",
            "                          'type': 'PixelType'},\n",
            "            'dimensions': [8388608, 1458176],\n",
            "            'id': 'N'}],\n",
            " 'id': 'projects/planet-nicfi/assets/basemaps/asia/planet_medres_normalized_analytic_2019-06_2019-11_mosaic',\n",
            " 'properties': {'cadence': 'biannual',\n",
            "                'system:asset_size': 3382434170526,\n",
            "                'system:footprint': {'coordinates': [[-180, -90],\n",
            "                                                     [180, -90],\n",
            "                                                     [180, 90],\n",
            "                                                     [-180, 90],\n",
            "                                                     [-180, -90]],\n",
            "                                     'type': 'LinearRing'},\n",
            "                'system:index': 'planet_medres_normalized_analytic_2019-06_2019-11_mosaic',\n",
            "                'system:time_end': 1575158400000,\n",
            "                'system:time_start': 1559347200000},\n",
            " 'type': 'Image',\n",
            " 'version': 1624084346804670.0}\n",
            "{'bands': [{'crs': 'EPSG:3857',\n",
            "            'crs_transform': [4.777314267160193,\n",
            "                              0,\n",
            "                              -20037508.340000007,\n",
            "                              0,\n",
            "                              -4.777314267160193,\n",
            "                              3522218.2628982645],\n",
            "            'data_type': {'max': 65535,\n",
            "                          'min': 0,\n",
            "                          'precision': 'int',\n",
            "                          'type': 'PixelType'},\n",
            "            'dimensions': [8388608, 1458176],\n",
            "            'id': 'B'},\n",
            "           {'crs': 'EPSG:3857',\n",
            "            'crs_transform': [4.777314267160193,\n",
            "                              0,\n",
            "                              -20037508.340000007,\n",
            "                              0,\n",
            "                              -4.777314267160193,\n",
            "                              3522218.2628982645],\n",
            "            'data_type': {'max': 65535,\n",
            "                          'min': 0,\n",
            "                          'precision': 'int',\n",
            "                          'type': 'PixelType'},\n",
            "            'dimensions': [8388608, 1458176],\n",
            "            'id': 'G'},\n",
            "           {'crs': 'EPSG:3857',\n",
            "            'crs_transform': [4.777314267160193,\n",
            "                              0,\n",
            "                              -20037508.340000007,\n",
            "                              0,\n",
            "                              -4.777314267160193,\n",
            "                              3522218.2628982645],\n",
            "            'data_type': {'max': 65535,\n",
            "                          'min': 0,\n",
            "                          'precision': 'int',\n",
            "                          'type': 'PixelType'},\n",
            "            'dimensions': [8388608, 1458176],\n",
            "            'id': 'R'},\n",
            "           {'crs': 'EPSG:3857',\n",
            "            'crs_transform': [4.777314267160193,\n",
            "                              0,\n",
            "                              -20037508.340000007,\n",
            "                              0,\n",
            "                              -4.777314267160193,\n",
            "                              3522218.2628982645],\n",
            "            'data_type': {'max': 65535,\n",
            "                          'min': 0,\n",
            "                          'precision': 'int',\n",
            "                          'type': 'PixelType'},\n",
            "            'dimensions': [8388608, 1458176],\n",
            "            'id': 'N'}],\n",
            " 'id': 'projects/planet-nicfi/assets/basemaps/asia/planet_medres_normalized_analytic_2020-06_2020-08_mosaic',\n",
            " 'properties': {'cadence': 'biannual',\n",
            "                'system:asset_size': 3389378384595,\n",
            "                'system:footprint': {'coordinates': [[-180, -90],\n",
            "                                                     [180, -90],\n",
            "                                                     [180, 90],\n",
            "                                                     [-180, 90],\n",
            "                                                     [-180, -90]],\n",
            "                                     'type': 'LinearRing'},\n",
            "                'system:index': 'planet_medres_normalized_analytic_2020-06_2020-08_mosaic',\n",
            "                'system:time_end': 1598918400000,\n",
            "                'system:time_start': 1590969600000},\n",
            " 'type': 'Image',\n",
            " 'version': 1624104752056368}\n",
            "{'bands': [{'crs': 'EPSG:3857',\n",
            "            'crs_transform': [4.777314267160193,\n",
            "                              0,\n",
            "                              -20037508.340000007,\n",
            "                              0,\n",
            "                              -4.777314267160193,\n",
            "                              3522218.2628982645],\n",
            "            'data_type': {'max': 65535,\n",
            "                          'min': 0,\n",
            "                          'precision': 'int',\n",
            "                          'type': 'PixelType'},\n",
            "            'dimensions': [8388608, 1458176],\n",
            "            'id': 'B'},\n",
            "           {'crs': 'EPSG:3857',\n",
            "            'crs_transform': [4.777314267160193,\n",
            "                              0,\n",
            "                              -20037508.340000007,\n",
            "                              0,\n",
            "                              -4.777314267160193,\n",
            "                              3522218.2628982645],\n",
            "            'data_type': {'max': 65535,\n",
            "                          'min': 0,\n",
            "                          'precision': 'int',\n",
            "                          'type': 'PixelType'},\n",
            "            'dimensions': [8388608, 1458176],\n",
            "            'id': 'G'},\n",
            "           {'crs': 'EPSG:3857',\n",
            "            'crs_transform': [4.777314267160193,\n",
            "                              0,\n",
            "                              -20037508.340000007,\n",
            "                              0,\n",
            "                              -4.777314267160193,\n",
            "                              3522218.2628982645],\n",
            "            'data_type': {'max': 65535,\n",
            "                          'min': 0,\n",
            "                          'precision': 'int',\n",
            "                          'type': 'PixelType'},\n",
            "            'dimensions': [8388608, 1458176],\n",
            "            'id': 'R'},\n",
            "           {'crs': 'EPSG:3857',\n",
            "            'crs_transform': [4.777314267160193,\n",
            "                              0,\n",
            "                              -20037508.340000007,\n",
            "                              0,\n",
            "                              -4.777314267160193,\n",
            "                              3522218.2628982645],\n",
            "            'data_type': {'max': 65535,\n",
            "                          'min': 0,\n",
            "                          'precision': 'int',\n",
            "                          'type': 'PixelType'},\n",
            "            'dimensions': [8388608, 1458176],\n",
            "            'id': 'N'}],\n",
            " 'id': 'projects/planet-nicfi/assets/basemaps/asia/planet_medres_normalized_analytic_2021-01_mosaic',\n",
            " 'properties': {'cadence': 'monthly',\n",
            "                'system:asset_size': 3355027587587,\n",
            "                'system:footprint': {'coordinates': [[-180, -90],\n",
            "                                                     [180, -90],\n",
            "                                                     [180, 90],\n",
            "                                                     [-180, 90],\n",
            "                                                     [-180, -90]],\n",
            "                                     'type': 'LinearRing'},\n",
            "                'system:index': 'planet_medres_normalized_analytic_2021-01_mosaic',\n",
            "                'system:time_end': 1612137600000,\n",
            "                'system:time_start': 1609459200000},\n",
            " 'type': 'Image',\n",
            " 'version': 1623941268010086}\n"
          ]
        }
      ]
    },
    {
      "cell_type": "code",
      "metadata": {
        "colab": {
          "base_uri": "https://localhost:8080/",
          "height": 712
        },
        "id": "5uLeZSjRsYAb",
        "outputId": "ce67aa78-9ef5-4af4-884a-f0dccf8c73db"
      },
      "source": [
        "# Use folium to visualize the imagery.\n",
        "map = folium.Map(location=[0.75, 117.7],zoom_start=12) #  note switch between latitude and longitude in folium as opposed to ee.Geometry.Point\n",
        "#map.setOptions('HYBRID') # To see GE map underneath\n",
        "\n",
        "for i, y in enumerate(planet):\n",
        "    map.addLayer(y, {'min': 64, 'max': 5454, 'gamma':1.8, 'bands':['R','G','B']}, f'{i}')\n",
        "map.addLayer(study,{},'study area')\n",
        "folium.LayerControl().add_to(map)\n",
        "map"
      ],
      "execution_count": 40,
      "outputs": [
        {
          "output_type": "execute_result",
          "data": {
            "text/html": [
              "<div style=\"width:100%;\"><div style=\"position:relative;width:100%;height:0;padding-bottom:60%;\"><span style=\"color:#565656\">Make this Notebook Trusted to load map: File -> Trust Notebook</span><iframe src=\"about:blank\" style=\"position:absolute;width:100%;height:100%;left:0;top:0;border:none !important;\" data-html=%3C%21DOCTYPE%20html%3E%0A%3Chead%3E%20%20%20%20%0A%20%20%20%20%3Cmeta%20http-equiv%3D%22content-type%22%20content%3D%22text/html%3B%20charset%3DUTF-8%22%20/%3E%0A%20%20%20%20%3Cscript%3EL_PREFER_CANVAS%3Dfalse%3B%20L_NO_TOUCH%3Dfalse%3B%20L_DISABLE_3D%3Dfalse%3B%3C/script%3E%0A%20%20%20%20%3Cscript%20src%3D%22https%3A//cdn.jsdelivr.net/npm/leaflet%401.4.0/dist/leaflet.js%22%3E%3C/script%3E%0A%20%20%20%20%3Cscript%20src%3D%22https%3A//code.jquery.com/jquery-1.12.4.min.js%22%3E%3C/script%3E%0A%20%20%20%20%3Cscript%20src%3D%22https%3A//maxcdn.bootstrapcdn.com/bootstrap/3.2.0/js/bootstrap.min.js%22%3E%3C/script%3E%0A%20%20%20%20%3Cscript%20src%3D%22https%3A//cdnjs.cloudflare.com/ajax/libs/Leaflet.awesome-markers/2.0.2/leaflet.awesome-markers.js%22%3E%3C/script%3E%0A%20%20%20%20%3Clink%20rel%3D%22stylesheet%22%20href%3D%22https%3A//cdn.jsdelivr.net/npm/leaflet%401.4.0/dist/leaflet.css%22/%3E%0A%20%20%20%20%3Clink%20rel%3D%22stylesheet%22%20href%3D%22https%3A//maxcdn.bootstrapcdn.com/bootstrap/3.2.0/css/bootstrap.min.css%22/%3E%0A%20%20%20%20%3Clink%20rel%3D%22stylesheet%22%20href%3D%22https%3A//maxcdn.bootstrapcdn.com/bootstrap/3.2.0/css/bootstrap-theme.min.css%22/%3E%0A%20%20%20%20%3Clink%20rel%3D%22stylesheet%22%20href%3D%22https%3A//maxcdn.bootstrapcdn.com/font-awesome/4.6.3/css/font-awesome.min.css%22/%3E%0A%20%20%20%20%3Clink%20rel%3D%22stylesheet%22%20href%3D%22https%3A//cdnjs.cloudflare.com/ajax/libs/Leaflet.awesome-markers/2.0.2/leaflet.awesome-markers.css%22/%3E%0A%20%20%20%20%3Clink%20rel%3D%22stylesheet%22%20href%3D%22https%3A//rawcdn.githack.com/python-visualization/folium/master/folium/templates/leaflet.awesome.rotate.css%22/%3E%0A%20%20%20%20%3Cstyle%3Ehtml%2C%20body%20%7Bwidth%3A%20100%25%3Bheight%3A%20100%25%3Bmargin%3A%200%3Bpadding%3A%200%3B%7D%3C/style%3E%0A%20%20%20%20%3Cstyle%3E%23map%20%7Bposition%3Aabsolute%3Btop%3A0%3Bbottom%3A0%3Bright%3A0%3Bleft%3A0%3B%7D%3C/style%3E%0A%20%20%20%20%0A%20%20%20%20%3Cmeta%20name%3D%22viewport%22%20content%3D%22width%3Ddevice-width%2C%0A%20%20%20%20%20%20%20%20initial-scale%3D1.0%2C%20maximum-scale%3D1.0%2C%20user-scalable%3Dno%22%20/%3E%0A%20%20%20%20%3Cstyle%3E%23map_a4a6eef3240645ab904497bf1a726342%20%7B%0A%20%20%20%20%20%20%20%20position%3A%20relative%3B%0A%20%20%20%20%20%20%20%20width%3A%20100.0%25%3B%0A%20%20%20%20%20%20%20%20height%3A%20100.0%25%3B%0A%20%20%20%20%20%20%20%20left%3A%200.0%25%3B%0A%20%20%20%20%20%20%20%20top%3A%200.0%25%3B%0A%20%20%20%20%20%20%20%20%7D%0A%20%20%20%20%3C/style%3E%0A%3C/head%3E%0A%3Cbody%3E%20%20%20%20%0A%20%20%20%20%0A%20%20%20%20%3Cdiv%20class%3D%22folium-map%22%20id%3D%22map_a4a6eef3240645ab904497bf1a726342%22%20%3E%3C/div%3E%0A%3C/body%3E%0A%3Cscript%3E%20%20%20%20%0A%20%20%20%20%0A%20%20%20%20%0A%20%20%20%20%20%20%20%20var%20bounds%20%3D%20null%3B%0A%20%20%20%20%0A%0A%20%20%20%20var%20map_a4a6eef3240645ab904497bf1a726342%20%3D%20L.map%28%0A%20%20%20%20%20%20%20%20%27map_a4a6eef3240645ab904497bf1a726342%27%2C%20%7B%0A%20%20%20%20%20%20%20%20center%3A%20%5B0.75%2C%20117.7%5D%2C%0A%20%20%20%20%20%20%20%20zoom%3A%2012%2C%0A%20%20%20%20%20%20%20%20maxBounds%3A%20bounds%2C%0A%20%20%20%20%20%20%20%20layers%3A%20%5B%5D%2C%0A%20%20%20%20%20%20%20%20worldCopyJump%3A%20false%2C%0A%20%20%20%20%20%20%20%20crs%3A%20L.CRS.EPSG3857%2C%0A%20%20%20%20%20%20%20%20zoomControl%3A%20true%2C%0A%20%20%20%20%20%20%20%20%7D%29%3B%0A%0A%0A%20%20%20%20%0A%20%20%20%20var%20tile_layer_f68bb0c10a2c4a2f889444ba95256ffc%20%3D%20L.tileLayer%28%0A%20%20%20%20%20%20%20%20%27https%3A//%7Bs%7D.tile.openstreetmap.org/%7Bz%7D/%7Bx%7D/%7By%7D.png%27%2C%0A%20%20%20%20%20%20%20%20%7B%0A%20%20%20%20%20%20%20%20%22attribution%22%3A%20null%2C%0A%20%20%20%20%20%20%20%20%22detectRetina%22%3A%20false%2C%0A%20%20%20%20%20%20%20%20%22maxNativeZoom%22%3A%2018%2C%0A%20%20%20%20%20%20%20%20%22maxZoom%22%3A%2018%2C%0A%20%20%20%20%20%20%20%20%22minZoom%22%3A%200%2C%0A%20%20%20%20%20%20%20%20%22noWrap%22%3A%20false%2C%0A%20%20%20%20%20%20%20%20%22opacity%22%3A%201%2C%0A%20%20%20%20%20%20%20%20%22subdomains%22%3A%20%22abc%22%2C%0A%20%20%20%20%20%20%20%20%22tms%22%3A%20false%0A%7D%29.addTo%28map_a4a6eef3240645ab904497bf1a726342%29%3B%0A%20%20%20%20var%20tile_layer_59171921bf6d44e5be61a328e8d82e87%20%3D%20L.tileLayer%28%0A%20%20%20%20%20%20%20%20%27https%3A//earthengine.googleapis.com/v1alpha/projects/earthengine-legacy/maps/40413e384a5290c02cfe9e1600c50ff4-ec5533da125ca766a2897e0da3fc87f7/tiles/%7Bz%7D/%7Bx%7D/%7By%7D%27%2C%0A%20%20%20%20%20%20%20%20%7B%0A%20%20%20%20%20%20%20%20%22attribution%22%3A%20%22Google%20Earth%20Engine%22%2C%0A%20%20%20%20%20%20%20%20%22detectRetina%22%3A%20false%2C%0A%20%20%20%20%20%20%20%20%22maxNativeZoom%22%3A%2018%2C%0A%20%20%20%20%20%20%20%20%22maxZoom%22%3A%2018%2C%0A%20%20%20%20%20%20%20%20%22minZoom%22%3A%200%2C%0A%20%20%20%20%20%20%20%20%22noWrap%22%3A%20false%2C%0A%20%20%20%20%20%20%20%20%22opacity%22%3A%201%2C%0A%20%20%20%20%20%20%20%20%22subdomains%22%3A%20%22abc%22%2C%0A%20%20%20%20%20%20%20%20%22tms%22%3A%20false%0A%7D%29.addTo%28map_a4a6eef3240645ab904497bf1a726342%29%3B%0A%20%20%20%20var%20tile_layer_9ced5651fdb9400f96420c9a190d77e3%20%3D%20L.tileLayer%28%0A%20%20%20%20%20%20%20%20%27https%3A//earthengine.googleapis.com/v1alpha/projects/earthengine-legacy/maps/f4997c081f3329c0fdd40c2cfab7b686-e549a263666e09971ad6ebe3dd653458/tiles/%7Bz%7D/%7Bx%7D/%7By%7D%27%2C%0A%20%20%20%20%20%20%20%20%7B%0A%20%20%20%20%20%20%20%20%22attribution%22%3A%20%22Google%20Earth%20Engine%22%2C%0A%20%20%20%20%20%20%20%20%22detectRetina%22%3A%20false%2C%0A%20%20%20%20%20%20%20%20%22maxNativeZoom%22%3A%2018%2C%0A%20%20%20%20%20%20%20%20%22maxZoom%22%3A%2018%2C%0A%20%20%20%20%20%20%20%20%22minZoom%22%3A%200%2C%0A%20%20%20%20%20%20%20%20%22noWrap%22%3A%20false%2C%0A%20%20%20%20%20%20%20%20%22opacity%22%3A%201%2C%0A%20%20%20%20%20%20%20%20%22subdomains%22%3A%20%22abc%22%2C%0A%20%20%20%20%20%20%20%20%22tms%22%3A%20false%0A%7D%29.addTo%28map_a4a6eef3240645ab904497bf1a726342%29%3B%0A%20%20%20%20var%20tile_layer_0c7b84c8405f44268fe987ac750c737f%20%3D%20L.tileLayer%28%0A%20%20%20%20%20%20%20%20%27https%3A//earthengine.googleapis.com/v1alpha/projects/earthengine-legacy/maps/d720eb61053d2a81d7fe458df1aa9276-cc3549781d73a1749029ea8f4aa46080/tiles/%7Bz%7D/%7Bx%7D/%7By%7D%27%2C%0A%20%20%20%20%20%20%20%20%7B%0A%20%20%20%20%20%20%20%20%22attribution%22%3A%20%22Google%20Earth%20Engine%22%2C%0A%20%20%20%20%20%20%20%20%22detectRetina%22%3A%20false%2C%0A%20%20%20%20%20%20%20%20%22maxNativeZoom%22%3A%2018%2C%0A%20%20%20%20%20%20%20%20%22maxZoom%22%3A%2018%2C%0A%20%20%20%20%20%20%20%20%22minZoom%22%3A%200%2C%0A%20%20%20%20%20%20%20%20%22noWrap%22%3A%20false%2C%0A%20%20%20%20%20%20%20%20%22opacity%22%3A%201%2C%0A%20%20%20%20%20%20%20%20%22subdomains%22%3A%20%22abc%22%2C%0A%20%20%20%20%20%20%20%20%22tms%22%3A%20false%0A%7D%29.addTo%28map_a4a6eef3240645ab904497bf1a726342%29%3B%0A%20%20%20%20var%20tile_layer_0435eae83f5a47549a1a55cc033626c4%20%3D%20L.tileLayer%28%0A%20%20%20%20%20%20%20%20%27https%3A//earthengine.googleapis.com/v1alpha/projects/earthengine-legacy/maps/5e528766af823a33377fa3fb7030c825-4d2c58d58b7d0c47509cccbdda6364ea/tiles/%7Bz%7D/%7Bx%7D/%7By%7D%27%2C%0A%20%20%20%20%20%20%20%20%7B%0A%20%20%20%20%20%20%20%20%22attribution%22%3A%20%22Google%20Earth%20Engine%22%2C%0A%20%20%20%20%20%20%20%20%22detectRetina%22%3A%20false%2C%0A%20%20%20%20%20%20%20%20%22maxNativeZoom%22%3A%2018%2C%0A%20%20%20%20%20%20%20%20%22maxZoom%22%3A%2018%2C%0A%20%20%20%20%20%20%20%20%22minZoom%22%3A%200%2C%0A%20%20%20%20%20%20%20%20%22noWrap%22%3A%20false%2C%0A%20%20%20%20%20%20%20%20%22opacity%22%3A%201%2C%0A%20%20%20%20%20%20%20%20%22subdomains%22%3A%20%22abc%22%2C%0A%20%20%20%20%20%20%20%20%22tms%22%3A%20false%0A%7D%29.addTo%28map_a4a6eef3240645ab904497bf1a726342%29%3B%0A%20%20%20%20var%20tile_layer_1c1ef8d268584b1bb6b564fea1c38ced%20%3D%20L.tileLayer%28%0A%20%20%20%20%20%20%20%20%27https%3A//earthengine.googleapis.com/v1alpha/projects/earthengine-legacy/maps/f3b6634742ba484c6420f593aec180c4-04dc48acc90de01eb6ab658917091b92/tiles/%7Bz%7D/%7Bx%7D/%7By%7D%27%2C%0A%20%20%20%20%20%20%20%20%7B%0A%20%20%20%20%20%20%20%20%22attribution%22%3A%20%22Google%20Earth%20Engine%22%2C%0A%20%20%20%20%20%20%20%20%22detectRetina%22%3A%20false%2C%0A%20%20%20%20%20%20%20%20%22maxNativeZoom%22%3A%2018%2C%0A%20%20%20%20%20%20%20%20%22maxZoom%22%3A%2018%2C%0A%20%20%20%20%20%20%20%20%22minZoom%22%3A%200%2C%0A%20%20%20%20%20%20%20%20%22noWrap%22%3A%20false%2C%0A%20%20%20%20%20%20%20%20%22opacity%22%3A%201%2C%0A%20%20%20%20%20%20%20%20%22subdomains%22%3A%20%22abc%22%2C%0A%20%20%20%20%20%20%20%20%22tms%22%3A%20false%0A%7D%29.addTo%28map_a4a6eef3240645ab904497bf1a726342%29%3B%0A%20%20%20%20var%20tile_layer_01e0c8f4c2444db282f4b0627fd150e4%20%3D%20L.tileLayer%28%0A%20%20%20%20%20%20%20%20%27https%3A//earthengine.googleapis.com/v1alpha/projects/earthengine-legacy/maps/7864c76d0810a93a2eb9b3e18ccbf286-e6b3689305245a743c9786b6a3ae1845/tiles/%7Bz%7D/%7Bx%7D/%7By%7D%27%2C%0A%20%20%20%20%20%20%20%20%7B%0A%20%20%20%20%20%20%20%20%22attribution%22%3A%20%22Google%20Earth%20Engine%22%2C%0A%20%20%20%20%20%20%20%20%22detectRetina%22%3A%20false%2C%0A%20%20%20%20%20%20%20%20%22maxNativeZoom%22%3A%2018%2C%0A%20%20%20%20%20%20%20%20%22maxZoom%22%3A%2018%2C%0A%20%20%20%20%20%20%20%20%22minZoom%22%3A%200%2C%0A%20%20%20%20%20%20%20%20%22noWrap%22%3A%20false%2C%0A%20%20%20%20%20%20%20%20%22opacity%22%3A%201%2C%0A%20%20%20%20%20%20%20%20%22subdomains%22%3A%20%22abc%22%2C%0A%20%20%20%20%20%20%20%20%22tms%22%3A%20false%0A%7D%29.addTo%28map_a4a6eef3240645ab904497bf1a726342%29%3B%0A%20%20%20%20var%20tile_layer_afdfb2f1fdc54a80ae25c2ebf2764584%20%3D%20L.tileLayer%28%0A%20%20%20%20%20%20%20%20%27https%3A//earthengine.googleapis.com/v1alpha/projects/earthengine-legacy/maps/6a3cb2326d8dca481682817977db0f7f-76505ccdf738172500e30dda4d06dee5/tiles/%7Bz%7D/%7Bx%7D/%7By%7D%27%2C%0A%20%20%20%20%20%20%20%20%7B%0A%20%20%20%20%20%20%20%20%22attribution%22%3A%20%22Google%20Earth%20Engine%22%2C%0A%20%20%20%20%20%20%20%20%22detectRetina%22%3A%20false%2C%0A%20%20%20%20%20%20%20%20%22maxNativeZoom%22%3A%2018%2C%0A%20%20%20%20%20%20%20%20%22maxZoom%22%3A%2018%2C%0A%20%20%20%20%20%20%20%20%22minZoom%22%3A%200%2C%0A%20%20%20%20%20%20%20%20%22noWrap%22%3A%20false%2C%0A%20%20%20%20%20%20%20%20%22opacity%22%3A%201%2C%0A%20%20%20%20%20%20%20%20%22subdomains%22%3A%20%22abc%22%2C%0A%20%20%20%20%20%20%20%20%22tms%22%3A%20false%0A%7D%29.addTo%28map_a4a6eef3240645ab904497bf1a726342%29%3B%0A%20%20%20%20var%20tile_layer_0d54fb3bd7df481e955b1b7ee31767e8%20%3D%20L.tileLayer%28%0A%20%20%20%20%20%20%20%20%27https%3A//earthengine.googleapis.com/v1alpha/projects/earthengine-legacy/maps/4dee50bb8499c209368766d213c918fd-a77786371f48e2d0d65dd0ed376bb0c5/tiles/%7Bz%7D/%7Bx%7D/%7By%7D%27%2C%0A%20%20%20%20%20%20%20%20%7B%0A%20%20%20%20%20%20%20%20%22attribution%22%3A%20%22Google%20Earth%20Engine%22%2C%0A%20%20%20%20%20%20%20%20%22detectRetina%22%3A%20false%2C%0A%20%20%20%20%20%20%20%20%22maxNativeZoom%22%3A%2018%2C%0A%20%20%20%20%20%20%20%20%22maxZoom%22%3A%2018%2C%0A%20%20%20%20%20%20%20%20%22minZoom%22%3A%200%2C%0A%20%20%20%20%20%20%20%20%22noWrap%22%3A%20false%2C%0A%20%20%20%20%20%20%20%20%22opacity%22%3A%201%2C%0A%20%20%20%20%20%20%20%20%22subdomains%22%3A%20%22abc%22%2C%0A%20%20%20%20%20%20%20%20%22tms%22%3A%20false%0A%7D%29.addTo%28map_a4a6eef3240645ab904497bf1a726342%29%3B%0A%20%20%20%20%0A%20%20%20%20%20%20%20%20%20%20%20%20var%20layer_control_979bb45dece14dfdaf3273af2ad42a18%20%3D%20%7B%0A%20%20%20%20%20%20%20%20%20%20%20%20%20%20%20%20base_layers%20%3A%20%7B%20%22openstreetmap%22%20%3A%20tile_layer_f68bb0c10a2c4a2f889444ba95256ffc%2C%20%7D%2C%0A%20%20%20%20%20%20%20%20%20%20%20%20%20%20%20%20overlays%20%3A%20%7B%20%220%22%20%3A%20tile_layer_59171921bf6d44e5be61a328e8d82e87%2C%221%22%20%3A%20tile_layer_9ced5651fdb9400f96420c9a190d77e3%2C%222%22%20%3A%20tile_layer_0c7b84c8405f44268fe987ac750c737f%2C%223%22%20%3A%20tile_layer_0435eae83f5a47549a1a55cc033626c4%2C%224%22%20%3A%20tile_layer_1c1ef8d268584b1bb6b564fea1c38ced%2C%225%22%20%3A%20tile_layer_01e0c8f4c2444db282f4b0627fd150e4%2C%226%22%20%3A%20tile_layer_afdfb2f1fdc54a80ae25c2ebf2764584%2C%22study%20area%22%20%3A%20tile_layer_0d54fb3bd7df481e955b1b7ee31767e8%2C%20%7D%0A%20%20%20%20%20%20%20%20%20%20%20%20%20%20%20%20%7D%3B%0A%20%20%20%20%20%20%20%20%20%20%20%20L.control.layers%28%0A%20%20%20%20%20%20%20%20%20%20%20%20%20%20%20%20layer_control_979bb45dece14dfdaf3273af2ad42a18.base_layers%2C%0A%20%20%20%20%20%20%20%20%20%20%20%20%20%20%20%20layer_control_979bb45dece14dfdaf3273af2ad42a18.overlays%2C%0A%20%20%20%20%20%20%20%20%20%20%20%20%20%20%20%20%7Bposition%3A%20%27topright%27%2C%0A%20%20%20%20%20%20%20%20%20%20%20%20%20%20%20%20%20collapsed%3A%20true%2C%0A%20%20%20%20%20%20%20%20%20%20%20%20%20%20%20%20%20autoZIndex%3A%20true%0A%20%20%20%20%20%20%20%20%20%20%20%20%20%20%20%20%7D%29.addTo%28map_a4a6eef3240645ab904497bf1a726342%29%3B%0A%20%20%20%20%20%20%20%20%20%20%20%20%0A%20%20%20%20%20%20%20%20%0A%3C/script%3E onload=\"this.contentDocument.open();this.contentDocument.write(    decodeURIComponent(this.getAttribute('data-html')));this.contentDocument.close();\" allowfullscreen webkitallowfullscreen mozallowfullscreen></iframe></div></div>"
            ],
            "text/plain": [
              "<folium.folium.Map at 0x7f9a6a5ad4d0>"
            ]
          },
          "metadata": {},
          "execution_count": 40
        }
      ]
    },
    {
      "cell_type": "code",
      "metadata": {
        "id": "FWXwmtDYyOJu"
      },
      "source": [
        ""
      ],
      "execution_count": null,
      "outputs": []
    },
    {
      "cell_type": "markdown",
      "metadata": {
        "id": "v2rVdEs50OpO"
      },
      "source": [
        "# Classification - unsupervised example"
      ]
    },
    {
      "cell_type": "code",
      "metadata": {
        "id": "ovW8aE4l6Ann"
      },
      "source": [
        "def classify(input, training):\n",
        "  "
      ],
      "execution_count": null,
      "outputs": []
    },
    {
      "cell_type": "code",
      "metadata": {
        "colab": {
          "base_uri": "https://localhost:8080/",
          "height": 712
        },
        "id": "NMeZtih60RvS",
        "outputId": "c88092b7-f28b-42d1-9c39-96b1bdb93e4f"
      },
      "source": [
        "# making training dataset\n",
        "input = planet[1]\n",
        "region = study\n",
        "training = input.sample(region = region, scale = 4.77, numPixels = 5000)\n",
        "\n",
        "# initiate and train clusterer\n",
        "clusterer = ee.Clusterer.wekaKMeans(6).train(training)\n",
        "\n",
        "# cluster input\n",
        "result = input.cluster(clusterer)\n",
        "\n",
        "# display (random colours)\n",
        "mapB = folium.Map(location=[0.75, 117.7],zoom_start=12) #  note switch between latitude and longitude in folium as opposed to ee.Geometry.Point\n",
        "mapB.addLayer(input, {'min': 64, 'max': 5454, 'gamma':1.8, 'bands':['R','G','B']}, 'input')\n",
        "mapB.addLayer(result.randomVisualizer(), {}, 'clusters')\n",
        "mapB.addLayer(study,{},'study area')\n",
        "folium.LayerControl().add_to(mapB)\n",
        "mapB"
      ],
      "execution_count": 48,
      "outputs": [
        {
          "output_type": "execute_result",
          "data": {
            "text/html": [
              "<div style=\"width:100%;\"><div style=\"position:relative;width:100%;height:0;padding-bottom:60%;\"><span style=\"color:#565656\">Make this Notebook Trusted to load map: File -> Trust Notebook</span><iframe src=\"about:blank\" style=\"position:absolute;width:100%;height:100%;left:0;top:0;border:none !important;\" data-html=%3C%21DOCTYPE%20html%3E%0A%3Chead%3E%20%20%20%20%0A%20%20%20%20%3Cmeta%20http-equiv%3D%22content-type%22%20content%3D%22text/html%3B%20charset%3DUTF-8%22%20/%3E%0A%20%20%20%20%3Cscript%3EL_PREFER_CANVAS%3Dfalse%3B%20L_NO_TOUCH%3Dfalse%3B%20L_DISABLE_3D%3Dfalse%3B%3C/script%3E%0A%20%20%20%20%3Cscript%20src%3D%22https%3A//cdn.jsdelivr.net/npm/leaflet%401.4.0/dist/leaflet.js%22%3E%3C/script%3E%0A%20%20%20%20%3Cscript%20src%3D%22https%3A//code.jquery.com/jquery-1.12.4.min.js%22%3E%3C/script%3E%0A%20%20%20%20%3Cscript%20src%3D%22https%3A//maxcdn.bootstrapcdn.com/bootstrap/3.2.0/js/bootstrap.min.js%22%3E%3C/script%3E%0A%20%20%20%20%3Cscript%20src%3D%22https%3A//cdnjs.cloudflare.com/ajax/libs/Leaflet.awesome-markers/2.0.2/leaflet.awesome-markers.js%22%3E%3C/script%3E%0A%20%20%20%20%3Clink%20rel%3D%22stylesheet%22%20href%3D%22https%3A//cdn.jsdelivr.net/npm/leaflet%401.4.0/dist/leaflet.css%22/%3E%0A%20%20%20%20%3Clink%20rel%3D%22stylesheet%22%20href%3D%22https%3A//maxcdn.bootstrapcdn.com/bootstrap/3.2.0/css/bootstrap.min.css%22/%3E%0A%20%20%20%20%3Clink%20rel%3D%22stylesheet%22%20href%3D%22https%3A//maxcdn.bootstrapcdn.com/bootstrap/3.2.0/css/bootstrap-theme.min.css%22/%3E%0A%20%20%20%20%3Clink%20rel%3D%22stylesheet%22%20href%3D%22https%3A//maxcdn.bootstrapcdn.com/font-awesome/4.6.3/css/font-awesome.min.css%22/%3E%0A%20%20%20%20%3Clink%20rel%3D%22stylesheet%22%20href%3D%22https%3A//cdnjs.cloudflare.com/ajax/libs/Leaflet.awesome-markers/2.0.2/leaflet.awesome-markers.css%22/%3E%0A%20%20%20%20%3Clink%20rel%3D%22stylesheet%22%20href%3D%22https%3A//rawcdn.githack.com/python-visualization/folium/master/folium/templates/leaflet.awesome.rotate.css%22/%3E%0A%20%20%20%20%3Cstyle%3Ehtml%2C%20body%20%7Bwidth%3A%20100%25%3Bheight%3A%20100%25%3Bmargin%3A%200%3Bpadding%3A%200%3B%7D%3C/style%3E%0A%20%20%20%20%3Cstyle%3E%23map%20%7Bposition%3Aabsolute%3Btop%3A0%3Bbottom%3A0%3Bright%3A0%3Bleft%3A0%3B%7D%3C/style%3E%0A%20%20%20%20%0A%20%20%20%20%3Cmeta%20name%3D%22viewport%22%20content%3D%22width%3Ddevice-width%2C%0A%20%20%20%20%20%20%20%20initial-scale%3D1.0%2C%20maximum-scale%3D1.0%2C%20user-scalable%3Dno%22%20/%3E%0A%20%20%20%20%3Cstyle%3E%23map_7e06b4c919fb45ec8a1d505587f33471%20%7B%0A%20%20%20%20%20%20%20%20position%3A%20relative%3B%0A%20%20%20%20%20%20%20%20width%3A%20100.0%25%3B%0A%20%20%20%20%20%20%20%20height%3A%20100.0%25%3B%0A%20%20%20%20%20%20%20%20left%3A%200.0%25%3B%0A%20%20%20%20%20%20%20%20top%3A%200.0%25%3B%0A%20%20%20%20%20%20%20%20%7D%0A%20%20%20%20%3C/style%3E%0A%3C/head%3E%0A%3Cbody%3E%20%20%20%20%0A%20%20%20%20%0A%20%20%20%20%3Cdiv%20class%3D%22folium-map%22%20id%3D%22map_7e06b4c919fb45ec8a1d505587f33471%22%20%3E%3C/div%3E%0A%3C/body%3E%0A%3Cscript%3E%20%20%20%20%0A%20%20%20%20%0A%20%20%20%20%0A%20%20%20%20%20%20%20%20var%20bounds%20%3D%20null%3B%0A%20%20%20%20%0A%0A%20%20%20%20var%20map_7e06b4c919fb45ec8a1d505587f33471%20%3D%20L.map%28%0A%20%20%20%20%20%20%20%20%27map_7e06b4c919fb45ec8a1d505587f33471%27%2C%20%7B%0A%20%20%20%20%20%20%20%20center%3A%20%5B0.75%2C%20117.7%5D%2C%0A%20%20%20%20%20%20%20%20zoom%3A%2012%2C%0A%20%20%20%20%20%20%20%20maxBounds%3A%20bounds%2C%0A%20%20%20%20%20%20%20%20layers%3A%20%5B%5D%2C%0A%20%20%20%20%20%20%20%20worldCopyJump%3A%20false%2C%0A%20%20%20%20%20%20%20%20crs%3A%20L.CRS.EPSG3857%2C%0A%20%20%20%20%20%20%20%20zoomControl%3A%20true%2C%0A%20%20%20%20%20%20%20%20%7D%29%3B%0A%0A%0A%20%20%20%20%0A%20%20%20%20var%20tile_layer_0ab9260868574c1b9862488806bdc0f9%20%3D%20L.tileLayer%28%0A%20%20%20%20%20%20%20%20%27https%3A//%7Bs%7D.tile.openstreetmap.org/%7Bz%7D/%7Bx%7D/%7By%7D.png%27%2C%0A%20%20%20%20%20%20%20%20%7B%0A%20%20%20%20%20%20%20%20%22attribution%22%3A%20null%2C%0A%20%20%20%20%20%20%20%20%22detectRetina%22%3A%20false%2C%0A%20%20%20%20%20%20%20%20%22maxNativeZoom%22%3A%2018%2C%0A%20%20%20%20%20%20%20%20%22maxZoom%22%3A%2018%2C%0A%20%20%20%20%20%20%20%20%22minZoom%22%3A%200%2C%0A%20%20%20%20%20%20%20%20%22noWrap%22%3A%20false%2C%0A%20%20%20%20%20%20%20%20%22opacity%22%3A%201%2C%0A%20%20%20%20%20%20%20%20%22subdomains%22%3A%20%22abc%22%2C%0A%20%20%20%20%20%20%20%20%22tms%22%3A%20false%0A%7D%29.addTo%28map_7e06b4c919fb45ec8a1d505587f33471%29%3B%0A%20%20%20%20var%20tile_layer_ad06fe4da50343758073114e832f8406%20%3D%20L.tileLayer%28%0A%20%20%20%20%20%20%20%20%27https%3A//earthengine.googleapis.com/v1alpha/projects/earthengine-legacy/maps/f4997c081f3329c0fdd40c2cfab7b686-bc88b90aee97f8dd802180610749dc99/tiles/%7Bz%7D/%7Bx%7D/%7By%7D%27%2C%0A%20%20%20%20%20%20%20%20%7B%0A%20%20%20%20%20%20%20%20%22attribution%22%3A%20%22Google%20Earth%20Engine%22%2C%0A%20%20%20%20%20%20%20%20%22detectRetina%22%3A%20false%2C%0A%20%20%20%20%20%20%20%20%22maxNativeZoom%22%3A%2018%2C%0A%20%20%20%20%20%20%20%20%22maxZoom%22%3A%2018%2C%0A%20%20%20%20%20%20%20%20%22minZoom%22%3A%200%2C%0A%20%20%20%20%20%20%20%20%22noWrap%22%3A%20false%2C%0A%20%20%20%20%20%20%20%20%22opacity%22%3A%201%2C%0A%20%20%20%20%20%20%20%20%22subdomains%22%3A%20%22abc%22%2C%0A%20%20%20%20%20%20%20%20%22tms%22%3A%20false%0A%7D%29.addTo%28map_7e06b4c919fb45ec8a1d505587f33471%29%3B%0A%20%20%20%20var%20tile_layer_e33c8b2e4e5346ccacfd65412b97e983%20%3D%20L.tileLayer%28%0A%20%20%20%20%20%20%20%20%27https%3A//earthengine.googleapis.com/v1alpha/projects/earthengine-legacy/maps/289ca191e2f4e627c93d289ec534eadf-dbe8f621a1944b8ae2ff29aa6d5f7c8b/tiles/%7Bz%7D/%7Bx%7D/%7By%7D%27%2C%0A%20%20%20%20%20%20%20%20%7B%0A%20%20%20%20%20%20%20%20%22attribution%22%3A%20%22Google%20Earth%20Engine%22%2C%0A%20%20%20%20%20%20%20%20%22detectRetina%22%3A%20false%2C%0A%20%20%20%20%20%20%20%20%22maxNativeZoom%22%3A%2018%2C%0A%20%20%20%20%20%20%20%20%22maxZoom%22%3A%2018%2C%0A%20%20%20%20%20%20%20%20%22minZoom%22%3A%200%2C%0A%20%20%20%20%20%20%20%20%22noWrap%22%3A%20false%2C%0A%20%20%20%20%20%20%20%20%22opacity%22%3A%201%2C%0A%20%20%20%20%20%20%20%20%22subdomains%22%3A%20%22abc%22%2C%0A%20%20%20%20%20%20%20%20%22tms%22%3A%20false%0A%7D%29.addTo%28map_7e06b4c919fb45ec8a1d505587f33471%29%3B%0A%20%20%20%20var%20tile_layer_1661039f22974bb08799868ddcd97dd6%20%3D%20L.tileLayer%28%0A%20%20%20%20%20%20%20%20%27https%3A//earthengine.googleapis.com/v1alpha/projects/earthengine-legacy/maps/4dee50bb8499c209368766d213c918fd-9684b20aae545a58ec5ec62ea5d447e3/tiles/%7Bz%7D/%7Bx%7D/%7By%7D%27%2C%0A%20%20%20%20%20%20%20%20%7B%0A%20%20%20%20%20%20%20%20%22attribution%22%3A%20%22Google%20Earth%20Engine%22%2C%0A%20%20%20%20%20%20%20%20%22detectRetina%22%3A%20false%2C%0A%20%20%20%20%20%20%20%20%22maxNativeZoom%22%3A%2018%2C%0A%20%20%20%20%20%20%20%20%22maxZoom%22%3A%2018%2C%0A%20%20%20%20%20%20%20%20%22minZoom%22%3A%200%2C%0A%20%20%20%20%20%20%20%20%22noWrap%22%3A%20false%2C%0A%20%20%20%20%20%20%20%20%22opacity%22%3A%201%2C%0A%20%20%20%20%20%20%20%20%22subdomains%22%3A%20%22abc%22%2C%0A%20%20%20%20%20%20%20%20%22tms%22%3A%20false%0A%7D%29.addTo%28map_7e06b4c919fb45ec8a1d505587f33471%29%3B%0A%20%20%20%20%0A%20%20%20%20%20%20%20%20%20%20%20%20var%20layer_control_ec066fbf085a4858b85f1456a3e7c955%20%3D%20%7B%0A%20%20%20%20%20%20%20%20%20%20%20%20%20%20%20%20base_layers%20%3A%20%7B%20%22openstreetmap%22%20%3A%20tile_layer_0ab9260868574c1b9862488806bdc0f9%2C%20%7D%2C%0A%20%20%20%20%20%20%20%20%20%20%20%20%20%20%20%20overlays%20%3A%20%7B%20%22input%22%20%3A%20tile_layer_ad06fe4da50343758073114e832f8406%2C%22clusters%22%20%3A%20tile_layer_e33c8b2e4e5346ccacfd65412b97e983%2C%22study%20area%22%20%3A%20tile_layer_1661039f22974bb08799868ddcd97dd6%2C%20%7D%0A%20%20%20%20%20%20%20%20%20%20%20%20%20%20%20%20%7D%3B%0A%20%20%20%20%20%20%20%20%20%20%20%20L.control.layers%28%0A%20%20%20%20%20%20%20%20%20%20%20%20%20%20%20%20layer_control_ec066fbf085a4858b85f1456a3e7c955.base_layers%2C%0A%20%20%20%20%20%20%20%20%20%20%20%20%20%20%20%20layer_control_ec066fbf085a4858b85f1456a3e7c955.overlays%2C%0A%20%20%20%20%20%20%20%20%20%20%20%20%20%20%20%20%7Bposition%3A%20%27topright%27%2C%0A%20%20%20%20%20%20%20%20%20%20%20%20%20%20%20%20%20collapsed%3A%20true%2C%0A%20%20%20%20%20%20%20%20%20%20%20%20%20%20%20%20%20autoZIndex%3A%20true%0A%20%20%20%20%20%20%20%20%20%20%20%20%20%20%20%20%7D%29.addTo%28map_7e06b4c919fb45ec8a1d505587f33471%29%3B%0A%20%20%20%20%20%20%20%20%20%20%20%20%0A%20%20%20%20%20%20%20%20%0A%3C/script%3E onload=\"this.contentDocument.open();this.contentDocument.write(    decodeURIComponent(this.getAttribute('data-html')));this.contentDocument.close();\" allowfullscreen webkitallowfullscreen mozallowfullscreen></iframe></div></div>"
            ],
            "text/plain": [
              "<folium.folium.Map at 0x7f9a6a4783d0>"
            ]
          },
          "metadata": {},
          "execution_count": 48
        }
      ]
    },
    {
      "cell_type": "code",
      "metadata": {
        "id": "cZTXwpOO2aDM"
      },
      "source": [
        ""
      ],
      "execution_count": null,
      "outputs": []
    },
    {
      "cell_type": "markdown",
      "metadata": {
        "id": "nieTHZ_04Atz"
      },
      "source": [
        "# how good is the classification?"
      ]
    },
    {
      "cell_type": "code",
      "metadata": {
        "id": "9V9xEIyn4F1k"
      },
      "source": [
        "# compare against Hansen data?"
      ],
      "execution_count": 47,
      "outputs": []
    },
    {
      "cell_type": "code",
      "metadata": {
        "id": "Oi3kdol74KgX"
      },
      "source": [
        ""
      ],
      "execution_count": null,
      "outputs": []
    }
  ]
}