{
  "nbformat": 4,
  "nbformat_minor": 0,
  "metadata": {
    "colab": {
      "name": "Untitled0.ipynb",
      "provenance": [],
      "collapsed_sections": [],
      "authorship_tag": "ABX9TyMKPZOtwgfJ/oHl7tD/t10f",
      "include_colab_link": true
    },
    "kernelspec": {
      "name": "python3",
      "display_name": "Python 3"
    },
    "language_info": {
      "name": "python"
    }
  },
  "cells": [
    {
      "cell_type": "markdown",
      "metadata": {
        "id": "view-in-github",
        "colab_type": "text"
      },
      "source": [
        "<a href=\"https://colab.research.google.com/github/sands-eg/GEE_training/blob/main/PLANET.ipynb\" target=\"_parent\"><img src=\"https://colab.research.google.com/assets/colab-badge.svg\" alt=\"Open In Colab\"/></a>"
      ]
    },
    {
      "cell_type": "markdown",
      "metadata": {
        "id": "cJrSVaXLoh3I"
      },
      "source": [
        "# Classificating PLANET data"
      ]
    },
    {
      "cell_type": "code",
      "metadata": {
        "id": "ccf6t9VnokVt"
      },
      "source": [
        "import ee"
      ],
      "execution_count": 2,
      "outputs": []
    },
    {
      "cell_type": "code",
      "metadata": {
        "colab": {
          "base_uri": "https://localhost:8080/"
        },
        "id": "ey4ZHQyvoo9T",
        "outputId": "8e7419b1-72c2-4fd0-8944-9ea21e88c5c4"
      },
      "source": [
        "ee.Authenticate()\n",
        "ee.Initialize()"
      ],
      "execution_count": 3,
      "outputs": [
        {
          "output_type": "stream",
          "name": "stdout",
          "text": [
            "To authorize access needed by Earth Engine, open the following URL in a web browser and follow the instructions. If the web browser does not start automatically, please manually browse the URL below.\n",
            "\n",
            "    https://accounts.google.com/o/oauth2/auth?client_id=517222506229-vsmmajv00ul0bs7p89v5m89qs8eb9359.apps.googleusercontent.com&scope=https%3A%2F%2Fwww.googleapis.com%2Fauth%2Fearthengine+https%3A%2F%2Fwww.googleapis.com%2Fauth%2Fdevstorage.full_control&redirect_uri=urn%3Aietf%3Awg%3Aoauth%3A2.0%3Aoob&response_type=code&code_challenge=9HNF_mUOMYElN_LfY4-xuN1peabvHsLMVd6myIt6dhU&code_challenge_method=S256\n",
            "\n",
            "The authorization workflow will generate a code, which you should paste in the box below. \n",
            "Enter verification code: 4/1AX4XfWja1mxY5MqKTQbzUkneQa85FeEHBiamgtuHkxj658R34zcb8OSRokc\n",
            "\n",
            "Successfully saved authorization token.\n"
          ]
        }
      ]
    },
    {
      "cell_type": "code",
      "metadata": {
        "id": "lfmGNXXcwJYE"
      },
      "source": [
        "import pprint\n",
        "import folium\n",
        "!pip install geehydro # Life saver for plotting GEE stuff with Python!\n",
        "import geehydro\n",
        "from IPython.display import Image"
      ],
      "execution_count": 17,
      "outputs": []
    },
    {
      "cell_type": "code",
      "metadata": {
        "id": "6rjqjFANos98"
      },
      "source": [
        "# loading an image \n",
        "PL2021 = ee.ImageCollection(\"projects/planet-nicfi/assets/basemaps/asia\").filterBounds(ee.Geometry.Rectangle([[117.586,0.668],[117.756,0.805]])).filterDate('2021-01-01', '2021-12-31').first()\n",
        "# loading an image \n",
        "PL2020 = ee.ImageCollection(\"projects/planet-nicfi/assets/basemaps/asia\").filterBounds(ee.Geometry.Rectangle([[117.586,0.668],[117.756,0.805]])).filterDate('2020-01-01', '2020-12-31').first()\n",
        "# loading an image \n",
        "PL2019 = ee.ImageCollection(\"projects/planet-nicfi/assets/basemaps/asia\").filterBounds(ee.Geometry.Rectangle([[117.586,0.668],[117.756,0.805]])).filterDate('2019-01-01', '2019-12-31').first()\n",
        "# loading an image \n",
        "PL2018 = ee.ImageCollection(\"projects/planet-nicfi/assets/basemaps/asia\").filterBounds(ee.Geometry.Rectangle([[117.586,0.668],[117.756,0.805]])).filterDate('2018-01-01', '2018-12-31').first()\n",
        "# loading an image \n",
        "PL2017 = ee.ImageCollection(\"projects/planet-nicfi/assets/basemaps/asia\").filterBounds(ee.Geometry.Rectangle([[117.586,0.668],[117.756,0.805]])).filterDate('2017-01-01', '2017-12-31').first()\n",
        "# loading an image \n",
        "PL2016 = ee.ImageCollection(\"projects/planet-nicfi/assets/basemaps/asia\").filterBounds(ee.Geometry.Rectangle([[117.586,0.668],[117.756,0.805]])).filterDate('2016-01-01', '2016-12-31').first()\n",
        "# loading an image \n",
        "PL2015 = ee.ImageCollection(\"projects/planet-nicfi/assets/basemaps/asia\").filterBounds(ee.Geometry.Rectangle([[117.586,0.668],[117.756,0.805]])).filterDate('2015-01-01', '2015-12-31').first()\n"
      ],
      "execution_count": 10,
      "outputs": []
    },
    {
      "cell_type": "code",
      "metadata": {
        "id": "XdQquNnRvuoh"
      },
      "source": [
        "planet = [PL2015, PL2016, PL2017, PL2018, PL2019, PL2020, PL2021]\n",
        "study = ee.Geometry.Rectangle([[117.586,0.668],[117.756,0.805]])"
      ],
      "execution_count": 27,
      "outputs": []
    },
    {
      "cell_type": "code",
      "metadata": {
        "id": "HG-MDqwjwWc_"
      },
      "source": [
        "pp = pprint.PrettyPrinter(depth=8)"
      ],
      "execution_count": 20,
      "outputs": []
    },
    {
      "cell_type": "code",
      "metadata": {
        "colab": {
          "base_uri": "https://localhost:8080/"
        },
        "id": "ZUlWm2rStXTL",
        "outputId": "3ca4ff4c-c9d6-4e33-dcab-5a99a953ab90"
      },
      "source": [
        "for i in planet:\n",
        "  pp.pprint(i.getInfo())\n",
        "\n"
      ],
      "execution_count": 21,
      "outputs": [
        {
          "output_type": "stream",
          "name": "stdout",
          "text": [
            "{'bands': [{'crs': 'EPSG:3857',\n",
            "            'crs_transform': [4.777314267159966,\n",
            "                              0,\n",
            "                              -20037508.33999997,\n",
            "                              0,\n",
            "                              -4.777314267159966,\n",
            "                              3522218.2628979366],\n",
            "            'data_type': {'max': 65535,\n",
            "                          'min': 0,\n",
            "                          'precision': 'int',\n",
            "                          'type': 'PixelType'},\n",
            "            'dimensions': [8388608, 1413120],\n",
            "            'id': 'B'},\n",
            "           {'crs': 'EPSG:3857',\n",
            "            'crs_transform': [4.777314267159966,\n",
            "                              0,\n",
            "                              -20037508.33999997,\n",
            "                              0,\n",
            "                              -4.777314267159966,\n",
            "                              3522218.2628979366],\n",
            "            'data_type': {'max': 65535,\n",
            "                          'min': 0,\n",
            "                          'precision': 'int',\n",
            "                          'type': 'PixelType'},\n",
            "            'dimensions': [8388608, 1413120],\n",
            "            'id': 'G'},\n",
            "           {'crs': 'EPSG:3857',\n",
            "            'crs_transform': [4.777314267159966,\n",
            "                              0,\n",
            "                              -20037508.33999997,\n",
            "                              0,\n",
            "                              -4.777314267159966,\n",
            "                              3522218.2628979366],\n",
            "            'data_type': {'max': 65535,\n",
            "                          'min': 0,\n",
            "                          'precision': 'int',\n",
            "                          'type': 'PixelType'},\n",
            "            'dimensions': [8388608, 1413120],\n",
            "            'id': 'R'},\n",
            "           {'crs': 'EPSG:3857',\n",
            "            'crs_transform': [4.777314267159966,\n",
            "                              0,\n",
            "                              -20037508.33999997,\n",
            "                              0,\n",
            "                              -4.777314267159966,\n",
            "                              3522218.2628979366],\n",
            "            'data_type': {'max': 65535,\n",
            "                          'min': 0,\n",
            "                          'precision': 'int',\n",
            "                          'type': 'PixelType'},\n",
            "            'dimensions': [8388608, 1413120],\n",
            "            'id': 'N'}],\n",
            " 'id': 'projects/planet-nicfi/assets/basemaps/asia/planet_medres_normalized_analytic_2015-12_2016-05_mosaic',\n",
            " 'properties': {'cadence': 'biannual',\n",
            "                'system:asset_size': 3191140147278,\n",
            "                'system:footprint': {'coordinates': [[-180, -90],\n",
            "                                                     [180, -90],\n",
            "                                                     [180, 90],\n",
            "                                                     [-180, 90],\n",
            "                                                     [-180, -90]],\n",
            "                                     'type': 'LinearRing'},\n",
            "                'system:index': 'planet_medres_normalized_analytic_2015-12_2016-05_mosaic',\n",
            "                'system:time_end': 1464739200000,\n",
            "                'system:time_start': 1448928000000},\n",
            " 'type': 'Image',\n",
            " 'version': 1624008632190192}\n",
            "{'bands': [{'crs': 'EPSG:3857',\n",
            "            'crs_transform': [4.777314267159966,\n",
            "                              0,\n",
            "                              -20037508.33999997,\n",
            "                              0,\n",
            "                              -4.777314267159966,\n",
            "                              3522218.2628979366],\n",
            "            'data_type': {'max': 65535,\n",
            "                          'min': 0,\n",
            "                          'precision': 'int',\n",
            "                          'type': 'PixelType'},\n",
            "            'dimensions': [8388608, 1413120],\n",
            "            'id': 'B'},\n",
            "           {'crs': 'EPSG:3857',\n",
            "            'crs_transform': [4.777314267159966,\n",
            "                              0,\n",
            "                              -20037508.33999997,\n",
            "                              0,\n",
            "                              -4.777314267159966,\n",
            "                              3522218.2628979366],\n",
            "            'data_type': {'max': 65535,\n",
            "                          'min': 0,\n",
            "                          'precision': 'int',\n",
            "                          'type': 'PixelType'},\n",
            "            'dimensions': [8388608, 1413120],\n",
            "            'id': 'G'},\n",
            "           {'crs': 'EPSG:3857',\n",
            "            'crs_transform': [4.777314267159966,\n",
            "                              0,\n",
            "                              -20037508.33999997,\n",
            "                              0,\n",
            "                              -4.777314267159966,\n",
            "                              3522218.2628979366],\n",
            "            'data_type': {'max': 65535,\n",
            "                          'min': 0,\n",
            "                          'precision': 'int',\n",
            "                          'type': 'PixelType'},\n",
            "            'dimensions': [8388608, 1413120],\n",
            "            'id': 'R'},\n",
            "           {'crs': 'EPSG:3857',\n",
            "            'crs_transform': [4.777314267159966,\n",
            "                              0,\n",
            "                              -20037508.33999997,\n",
            "                              0,\n",
            "                              -4.777314267159966,\n",
            "                              3522218.2628979366],\n",
            "            'data_type': {'max': 65535,\n",
            "                          'min': 0,\n",
            "                          'precision': 'int',\n",
            "                          'type': 'PixelType'},\n",
            "            'dimensions': [8388608, 1413120],\n",
            "            'id': 'N'}],\n",
            " 'id': 'projects/planet-nicfi/assets/basemaps/asia/planet_medres_normalized_analytic_2016-06_2016-11_mosaic',\n",
            " 'properties': {'cadence': 'biannual',\n",
            "                'system:asset_size': 3372186871166,\n",
            "                'system:footprint': {'coordinates': [[-180, -90],\n",
            "                                                     [180, -90],\n",
            "                                                     [180, 90],\n",
            "                                                     [-180, 90],\n",
            "                                                     [-180, -90]],\n",
            "                                     'type': 'LinearRing'},\n",
            "                'system:index': 'planet_medres_normalized_analytic_2016-06_2016-11_mosaic',\n",
            "                'system:time_end': 1480550400000,\n",
            "                'system:time_start': 1464739200000},\n",
            " 'type': 'Image',\n",
            " 'version': 1624016759137859}\n",
            "{'bands': [{'crs': 'EPSG:3857',\n",
            "            'crs_transform': [4.777314267159966,\n",
            "                              0,\n",
            "                              -20037508.339999963,\n",
            "                              0,\n",
            "                              -4.777314267159966,\n",
            "                              3522218.2628979394],\n",
            "            'data_type': {'max': 65535,\n",
            "                          'min': 0,\n",
            "                          'precision': 'int',\n",
            "                          'type': 'PixelType'},\n",
            "            'dimensions': [8388608, 1302528],\n",
            "            'id': 'B'},\n",
            "           {'crs': 'EPSG:3857',\n",
            "            'crs_transform': [4.777314267159966,\n",
            "                              0,\n",
            "                              -20037508.339999963,\n",
            "                              0,\n",
            "                              -4.777314267159966,\n",
            "                              3522218.2628979394],\n",
            "            'data_type': {'max': 65535,\n",
            "                          'min': 0,\n",
            "                          'precision': 'int',\n",
            "                          'type': 'PixelType'},\n",
            "            'dimensions': [8388608, 1302528],\n",
            "            'id': 'G'},\n",
            "           {'crs': 'EPSG:3857',\n",
            "            'crs_transform': [4.777314267159966,\n",
            "                              0,\n",
            "                              -20037508.339999963,\n",
            "                              0,\n",
            "                              -4.777314267159966,\n",
            "                              3522218.2628979394],\n",
            "            'data_type': {'max': 65535,\n",
            "                          'min': 0,\n",
            "                          'precision': 'int',\n",
            "                          'type': 'PixelType'},\n",
            "            'dimensions': [8388608, 1302528],\n",
            "            'id': 'R'},\n",
            "           {'crs': 'EPSG:3857',\n",
            "            'crs_transform': [4.777314267159966,\n",
            "                              0,\n",
            "                              -20037508.339999963,\n",
            "                              0,\n",
            "                              -4.777314267159966,\n",
            "                              3522218.2628979394],\n",
            "            'data_type': {'max': 65535,\n",
            "                          'min': 0,\n",
            "                          'precision': 'int',\n",
            "                          'type': 'PixelType'},\n",
            "            'dimensions': [8388608, 1302528],\n",
            "            'id': 'N'}],\n",
            " 'id': 'projects/planet-nicfi/assets/basemaps/asia/planet_medres_normalized_analytic_2017-06_2017-11_mosaic',\n",
            " 'properties': {'cadence': 'biannual',\n",
            "                'system:asset_size': 3369995789138,\n",
            "                'system:footprint': {'coordinates': [[-180, -90],\n",
            "                                                     [180, -90],\n",
            "                                                     [180, 90],\n",
            "                                                     [-180, 90],\n",
            "                                                     [-180, -90]],\n",
            "                                     'type': 'LinearRing'},\n",
            "                'system:index': 'planet_medres_normalized_analytic_2017-06_2017-11_mosaic',\n",
            "                'system:time_end': 1512086400000,\n",
            "                'system:time_start': 1496275200000},\n",
            " 'type': 'Image',\n",
            " 'version': 1624047226534899}\n",
            "{'bands': [{'crs': 'EPSG:3857',\n",
            "            'crs_transform': [4.777314267159966,\n",
            "                              0,\n",
            "                              -20037508.33999997,\n",
            "                              0,\n",
            "                              -4.777314267159966,\n",
            "                              3522218.2628979366],\n",
            "            'data_type': {'max': 65535,\n",
            "                          'min': 0,\n",
            "                          'precision': 'int',\n",
            "                          'type': 'PixelType'},\n",
            "            'dimensions': [8388608, 1413120],\n",
            "            'id': 'B'},\n",
            "           {'crs': 'EPSG:3857',\n",
            "            'crs_transform': [4.777314267159966,\n",
            "                              0,\n",
            "                              -20037508.33999997,\n",
            "                              0,\n",
            "                              -4.777314267159966,\n",
            "                              3522218.2628979366],\n",
            "            'data_type': {'max': 65535,\n",
            "                          'min': 0,\n",
            "                          'precision': 'int',\n",
            "                          'type': 'PixelType'},\n",
            "            'dimensions': [8388608, 1413120],\n",
            "            'id': 'G'},\n",
            "           {'crs': 'EPSG:3857',\n",
            "            'crs_transform': [4.777314267159966,\n",
            "                              0,\n",
            "                              -20037508.33999997,\n",
            "                              0,\n",
            "                              -4.777314267159966,\n",
            "                              3522218.2628979366],\n",
            "            'data_type': {'max': 65535,\n",
            "                          'min': 0,\n",
            "                          'precision': 'int',\n",
            "                          'type': 'PixelType'},\n",
            "            'dimensions': [8388608, 1413120],\n",
            "            'id': 'R'},\n",
            "           {'crs': 'EPSG:3857',\n",
            "            'crs_transform': [4.777314267159966,\n",
            "                              0,\n",
            "                              -20037508.33999997,\n",
            "                              0,\n",
            "                              -4.777314267159966,\n",
            "                              3522218.2628979366],\n",
            "            'data_type': {'max': 65535,\n",
            "                          'min': 0,\n",
            "                          'precision': 'int',\n",
            "                          'type': 'PixelType'},\n",
            "            'dimensions': [8388608, 1413120],\n",
            "            'id': 'N'}],\n",
            " 'id': 'projects/planet-nicfi/assets/basemaps/asia/planet_medres_normalized_analytic_2018-06_2018-11_mosaic',\n",
            " 'properties': {'cadence': 'biannual',\n",
            "                'system:asset_size': 3402031906613,\n",
            "                'system:footprint': {'coordinates': [[-180, -90],\n",
            "                                                     [180, -90],\n",
            "                                                     [180, 90],\n",
            "                                                     [-180, 90],\n",
            "                                                     [-180, -90]],\n",
            "                                     'type': 'LinearRing'},\n",
            "                'system:index': 'planet_medres_normalized_analytic_2018-06_2018-11_mosaic',\n",
            "                'system:time_end': 1543622400000,\n",
            "                'system:time_start': 1527811200000},\n",
            " 'type': 'Image',\n",
            " 'version': 1624064921514317}\n",
            "{'bands': [{'crs': 'EPSG:3857',\n",
            "            'crs_transform': [4.777314267160193,\n",
            "                              0,\n",
            "                              -20037508.340000007,\n",
            "                              0,\n",
            "                              -4.777314267160193,\n",
            "                              3522218.2628982645],\n",
            "            'data_type': {'max': 65535,\n",
            "                          'min': 0,\n",
            "                          'precision': 'int',\n",
            "                          'type': 'PixelType'},\n",
            "            'dimensions': [8388608, 1458176],\n",
            "            'id': 'B'},\n",
            "           {'crs': 'EPSG:3857',\n",
            "            'crs_transform': [4.777314267160193,\n",
            "                              0,\n",
            "                              -20037508.340000007,\n",
            "                              0,\n",
            "                              -4.777314267160193,\n",
            "                              3522218.2628982645],\n",
            "            'data_type': {'max': 65535,\n",
            "                          'min': 0,\n",
            "                          'precision': 'int',\n",
            "                          'type': 'PixelType'},\n",
            "            'dimensions': [8388608, 1458176],\n",
            "            'id': 'G'},\n",
            "           {'crs': 'EPSG:3857',\n",
            "            'crs_transform': [4.777314267160193,\n",
            "                              0,\n",
            "                              -20037508.340000007,\n",
            "                              0,\n",
            "                              -4.777314267160193,\n",
            "                              3522218.2628982645],\n",
            "            'data_type': {'max': 65535,\n",
            "                          'min': 0,\n",
            "                          'precision': 'int',\n",
            "                          'type': 'PixelType'},\n",
            "            'dimensions': [8388608, 1458176],\n",
            "            'id': 'R'},\n",
            "           {'crs': 'EPSG:3857',\n",
            "            'crs_transform': [4.777314267160193,\n",
            "                              0,\n",
            "                              -20037508.340000007,\n",
            "                              0,\n",
            "                              -4.777314267160193,\n",
            "                              3522218.2628982645],\n",
            "            'data_type': {'max': 65535,\n",
            "                          'min': 0,\n",
            "                          'precision': 'int',\n",
            "                          'type': 'PixelType'},\n",
            "            'dimensions': [8388608, 1458176],\n",
            "            'id': 'N'}],\n",
            " 'id': 'projects/planet-nicfi/assets/basemaps/asia/planet_medres_normalized_analytic_2019-06_2019-11_mosaic',\n",
            " 'properties': {'cadence': 'biannual',\n",
            "                'system:asset_size': 3382434170526,\n",
            "                'system:footprint': {'coordinates': [[-180, -90],\n",
            "                                                     [180, -90],\n",
            "                                                     [180, 90],\n",
            "                                                     [-180, 90],\n",
            "                                                     [-180, -90]],\n",
            "                                     'type': 'LinearRing'},\n",
            "                'system:index': 'planet_medres_normalized_analytic_2019-06_2019-11_mosaic',\n",
            "                'system:time_end': 1575158400000,\n",
            "                'system:time_start': 1559347200000},\n",
            " 'type': 'Image',\n",
            " 'version': 1624084346804670.0}\n",
            "{'bands': [{'crs': 'EPSG:3857',\n",
            "            'crs_transform': [4.777314267160193,\n",
            "                              0,\n",
            "                              -20037508.340000007,\n",
            "                              0,\n",
            "                              -4.777314267160193,\n",
            "                              3522218.2628982645],\n",
            "            'data_type': {'max': 65535,\n",
            "                          'min': 0,\n",
            "                          'precision': 'int',\n",
            "                          'type': 'PixelType'},\n",
            "            'dimensions': [8388608, 1458176],\n",
            "            'id': 'B'},\n",
            "           {'crs': 'EPSG:3857',\n",
            "            'crs_transform': [4.777314267160193,\n",
            "                              0,\n",
            "                              -20037508.340000007,\n",
            "                              0,\n",
            "                              -4.777314267160193,\n",
            "                              3522218.2628982645],\n",
            "            'data_type': {'max': 65535,\n",
            "                          'min': 0,\n",
            "                          'precision': 'int',\n",
            "                          'type': 'PixelType'},\n",
            "            'dimensions': [8388608, 1458176],\n",
            "            'id': 'G'},\n",
            "           {'crs': 'EPSG:3857',\n",
            "            'crs_transform': [4.777314267160193,\n",
            "                              0,\n",
            "                              -20037508.340000007,\n",
            "                              0,\n",
            "                              -4.777314267160193,\n",
            "                              3522218.2628982645],\n",
            "            'data_type': {'max': 65535,\n",
            "                          'min': 0,\n",
            "                          'precision': 'int',\n",
            "                          'type': 'PixelType'},\n",
            "            'dimensions': [8388608, 1458176],\n",
            "            'id': 'R'},\n",
            "           {'crs': 'EPSG:3857',\n",
            "            'crs_transform': [4.777314267160193,\n",
            "                              0,\n",
            "                              -20037508.340000007,\n",
            "                              0,\n",
            "                              -4.777314267160193,\n",
            "                              3522218.2628982645],\n",
            "            'data_type': {'max': 65535,\n",
            "                          'min': 0,\n",
            "                          'precision': 'int',\n",
            "                          'type': 'PixelType'},\n",
            "            'dimensions': [8388608, 1458176],\n",
            "            'id': 'N'}],\n",
            " 'id': 'projects/planet-nicfi/assets/basemaps/asia/planet_medres_normalized_analytic_2020-06_2020-08_mosaic',\n",
            " 'properties': {'cadence': 'biannual',\n",
            "                'system:asset_size': 3389378384595,\n",
            "                'system:footprint': {'coordinates': [[-180, -90],\n",
            "                                                     [180, -90],\n",
            "                                                     [180, 90],\n",
            "                                                     [-180, 90],\n",
            "                                                     [-180, -90]],\n",
            "                                     'type': 'LinearRing'},\n",
            "                'system:index': 'planet_medres_normalized_analytic_2020-06_2020-08_mosaic',\n",
            "                'system:time_end': 1598918400000,\n",
            "                'system:time_start': 1590969600000},\n",
            " 'type': 'Image',\n",
            " 'version': 1624104752056368}\n",
            "{'bands': [{'crs': 'EPSG:3857',\n",
            "            'crs_transform': [4.777314267160193,\n",
            "                              0,\n",
            "                              -20037508.340000007,\n",
            "                              0,\n",
            "                              -4.777314267160193,\n",
            "                              3522218.2628982645],\n",
            "            'data_type': {'max': 65535,\n",
            "                          'min': 0,\n",
            "                          'precision': 'int',\n",
            "                          'type': 'PixelType'},\n",
            "            'dimensions': [8388608, 1458176],\n",
            "            'id': 'B'},\n",
            "           {'crs': 'EPSG:3857',\n",
            "            'crs_transform': [4.777314267160193,\n",
            "                              0,\n",
            "                              -20037508.340000007,\n",
            "                              0,\n",
            "                              -4.777314267160193,\n",
            "                              3522218.2628982645],\n",
            "            'data_type': {'max': 65535,\n",
            "                          'min': 0,\n",
            "                          'precision': 'int',\n",
            "                          'type': 'PixelType'},\n",
            "            'dimensions': [8388608, 1458176],\n",
            "            'id': 'G'},\n",
            "           {'crs': 'EPSG:3857',\n",
            "            'crs_transform': [4.777314267160193,\n",
            "                              0,\n",
            "                              -20037508.340000007,\n",
            "                              0,\n",
            "                              -4.777314267160193,\n",
            "                              3522218.2628982645],\n",
            "            'data_type': {'max': 65535,\n",
            "                          'min': 0,\n",
            "                          'precision': 'int',\n",
            "                          'type': 'PixelType'},\n",
            "            'dimensions': [8388608, 1458176],\n",
            "            'id': 'R'},\n",
            "           {'crs': 'EPSG:3857',\n",
            "            'crs_transform': [4.777314267160193,\n",
            "                              0,\n",
            "                              -20037508.340000007,\n",
            "                              0,\n",
            "                              -4.777314267160193,\n",
            "                              3522218.2628982645],\n",
            "            'data_type': {'max': 65535,\n",
            "                          'min': 0,\n",
            "                          'precision': 'int',\n",
            "                          'type': 'PixelType'},\n",
            "            'dimensions': [8388608, 1458176],\n",
            "            'id': 'N'}],\n",
            " 'id': 'projects/planet-nicfi/assets/basemaps/asia/planet_medres_normalized_analytic_2021-01_mosaic',\n",
            " 'properties': {'cadence': 'monthly',\n",
            "                'system:asset_size': 3355027587587,\n",
            "                'system:footprint': {'coordinates': [[-180, -90],\n",
            "                                                     [180, -90],\n",
            "                                                     [180, 90],\n",
            "                                                     [-180, 90],\n",
            "                                                     [-180, -90]],\n",
            "                                     'type': 'LinearRing'},\n",
            "                'system:index': 'planet_medres_normalized_analytic_2021-01_mosaic',\n",
            "                'system:time_end': 1612137600000,\n",
            "                'system:time_start': 1609459200000},\n",
            " 'type': 'Image',\n",
            " 'version': 1623941268010086}\n"
          ]
        }
      ]
    },
    {
      "cell_type": "code",
      "metadata": {
        "colab": {
          "base_uri": "https://localhost:8080/",
          "height": 712
        },
        "id": "5uLeZSjRsYAb",
        "outputId": "ce67aa78-9ef5-4af4-884a-f0dccf8c73db"
      },
      "source": [
        "# Use folium to visualize the imagery.\n",
        "map = folium.Map(location=[0.75, 117.7],zoom_start=12) #  note switch between latitude and longitude in folium as opposed to ee.Geometry.Point\n",
        "#map.setOptions('HYBRID') # To see GE map underneath\n",
        "\n",
        "for i, y in enumerate(planet):\n",
        "    map.addLayer(y, {'min': 64, 'max': 5454, 'gamma':1.8, 'bands':['R','G','B']}, f'{i}')\n",
        "map.addLayer(study,{},'study area')\n",
        "folium.LayerControl().add_to(map)\n",
        "map"
      ],
      "execution_count": 40,
      "outputs": [
        {
          "output_type": "execute_result",
          "data": {
            "text/html": [
              "<div style=\"width:100%;\"><div style=\"position:relative;width:100%;height:0;padding-bottom:60%;\"><span style=\"color:#565656\">Make this Notebook Trusted to load map: File -> Trust Notebook</span><iframe src=\"about:blank\" style=\"position:absolute;width:100%;height:100%;left:0;top:0;border:none !important;\" data-html=%3C%21DOCTYPE%20html%3E%0A%3Chead%3E%20%20%20%20%0A%20%20%20%20%3Cmeta%20http-equiv%3D%22content-type%22%20content%3D%22text/html%3B%20charset%3DUTF-8%22%20/%3E%0A%20%20%20%20%3Cscript%3EL_PREFER_CANVAS%3Dfalse%3B%20L_NO_TOUCH%3Dfalse%3B%20L_DISABLE_3D%3Dfalse%3B%3C/script%3E%0A%20%20%20%20%3Cscript%20src%3D%22https%3A//cdn.jsdelivr.net/npm/leaflet%401.4.0/dist/leaflet.js%22%3E%3C/script%3E%0A%20%20%20%20%3Cscript%20src%3D%22https%3A//code.jquery.com/jquery-1.12.4.min.js%22%3E%3C/script%3E%0A%20%20%20%20%3Cscript%20src%3D%22https%3A//maxcdn.bootstrapcdn.com/bootstrap/3.2.0/js/bootstrap.min.js%22%3E%3C/script%3E%0A%20%20%20%20%3Cscript%20src%3D%22https%3A//cdnjs.cloudflare.com/ajax/libs/Leaflet.awesome-markers/2.0.2/leaflet.awesome-markers.js%22%3E%3C/script%3E%0A%20%20%20%20%3Clink%20rel%3D%22stylesheet%22%20href%3D%22https%3A//cdn.jsdelivr.net/npm/leaflet%401.4.0/dist/leaflet.css%22/%3E%0A%20%20%20%20%3Clink%20rel%3D%22stylesheet%22%20href%3D%22https%3A//maxcdn.bootstrapcdn.com/bootstrap/3.2.0/css/bootstrap.min.css%22/%3E%0A%20%20%20%20%3Clink%20rel%3D%22stylesheet%22%20href%3D%22https%3A//maxcdn.bootstrapcdn.com/bootstrap/3.2.0/css/bootstrap-theme.min.css%22/%3E%0A%20%20%20%20%3Clink%20rel%3D%22stylesheet%22%20href%3D%22https%3A//maxcdn.bootstrapcdn.com/font-awesome/4.6.3/css/font-awesome.min.css%22/%3E%0A%20%20%20%20%3Clink%20rel%3D%22stylesheet%22%20href%3D%22https%3A//cdnjs.cloudflare.com/ajax/libs/Leaflet.awesome-markers/2.0.2/leaflet.awesome-markers.css%22/%3E%0A%20%20%20%20%3Clink%20rel%3D%22stylesheet%22%20href%3D%22https%3A//rawcdn.githack.com/python-visualization/folium/master/folium/templates/leaflet.awesome.rotate.css%22/%3E%0A%20%20%20%20%3Cstyle%3Ehtml%2C%20body%20%7Bwidth%3A%20100%25%3Bheight%3A%20100%25%3Bmargin%3A%200%3Bpadding%3A%200%3B%7D%3C/style%3E%0A%20%20%20%20%3Cstyle%3E%23map%20%7Bposition%3Aabsolute%3Btop%3A0%3Bbottom%3A0%3Bright%3A0%3Bleft%3A0%3B%7D%3C/style%3E%0A%20%20%20%20%0A%20%20%20%20%3Cmeta%20name%3D%22viewport%22%20content%3D%22width%3Ddevice-width%2C%0A%20%20%20%20%20%20%20%20initial-scale%3D1.0%2C%20maximum-scale%3D1.0%2C%20user-scalable%3Dno%22%20/%3E%0A%20%20%20%20%3Cstyle%3E%23map_a4a6eef3240645ab904497bf1a726342%20%7B%0A%20%20%20%20%20%20%20%20position%3A%20relative%3B%0A%20%20%20%20%20%20%20%20width%3A%20100.0%25%3B%0A%20%20%20%20%20%20%20%20height%3A%20100.0%25%3B%0A%20%20%20%20%20%20%20%20left%3A%200.0%25%3B%0A%20%20%20%20%20%20%20%20top%3A%200.0%25%3B%0A%20%20%20%20%20%20%20%20%7D%0A%20%20%20%20%3C/style%3E%0A%3C/head%3E%0A%3Cbody%3E%20%20%20%20%0A%20%20%20%20%0A%20%20%20%20%3Cdiv%20class%3D%22folium-map%22%20id%3D%22map_a4a6eef3240645ab904497bf1a726342%22%20%3E%3C/div%3E%0A%3C/body%3E%0A%3Cscript%3E%20%20%20%20%0A%20%20%20%20%0A%20%20%20%20%0A%20%20%20%20%20%20%20%20var%20bounds%20%3D%20null%3B%0A%20%20%20%20%0A%0A%20%20%20%20var%20map_a4a6eef3240645ab904497bf1a726342%20%3D%20L.map%28%0A%20%20%20%20%20%20%20%20%27map_a4a6eef3240645ab904497bf1a726342%27%2C%20%7B%0A%20%20%20%20%20%20%20%20center%3A%20%5B0.75%2C%20117.7%5D%2C%0A%20%20%20%20%20%20%20%20zoom%3A%2012%2C%0A%20%20%20%20%20%20%20%20maxBounds%3A%20bounds%2C%0A%20%20%20%20%20%20%20%20layers%3A%20%5B%5D%2C%0A%20%20%20%20%20%20%20%20worldCopyJump%3A%20false%2C%0A%20%20%20%20%20%20%20%20crs%3A%20L.CRS.EPSG3857%2C%0A%20%20%20%20%20%20%20%20zoomControl%3A%20true%2C%0A%20%20%20%20%20%20%20%20%7D%29%3B%0A%0A%0A%20%20%20%20%0A%20%20%20%20var%20tile_layer_f68bb0c10a2c4a2f889444ba95256ffc%20%3D%20L.tileLayer%28%0A%20%20%20%20%20%20%20%20%27https%3A//%7Bs%7D.tile.openstreetmap.org/%7Bz%7D/%7Bx%7D/%7By%7D.png%27%2C%0A%20%20%20%20%20%20%20%20%7B%0A%20%20%20%20%20%20%20%20%22attribution%22%3A%20null%2C%0A%20%20%20%20%20%20%20%20%22detectRetina%22%3A%20false%2C%0A%20%20%20%20%20%20%20%20%22maxNativeZoom%22%3A%2018%2C%0A%20%20%20%20%20%20%20%20%22maxZoom%22%3A%2018%2C%0A%20%20%20%20%20%20%20%20%22minZoom%22%3A%200%2C%0A%20%20%20%20%20%20%20%20%22noWrap%22%3A%20false%2C%0A%20%20%20%20%20%20%20%20%22opacity%22%3A%201%2C%0A%20%20%20%20%20%20%20%20%22subdomains%22%3A%20%22abc%22%2C%0A%20%20%20%20%20%20%20%20%22tms%22%3A%20false%0A%7D%29.addTo%28map_a4a6eef3240645ab904497bf1a726342%29%3B%0A%20%20%20%20var%20tile_layer_59171921bf6d44e5be61a328e8d82e87%20%3D%20L.tileLayer%28%0A%20%20%20%20%20%20%20%20%27https%3A//earthengine.googleapis.com/v1alpha/projects/earthengine-legacy/maps/40413e384a5290c02cfe9e1600c50ff4-ec5533da125ca766a2897e0da3fc87f7/tiles/%7Bz%7D/%7Bx%7D/%7By%7D%27%2C%0A%20%20%20%20%20%20%20%20%7B%0A%20%20%20%20%20%20%20%20%22attribution%22%3A%20%22Google%20Earth%20Engine%22%2C%0A%20%20%20%20%20%20%20%20%22detectRetina%22%3A%20false%2C%0A%20%20%20%20%20%20%20%20%22maxNativeZoom%22%3A%2018%2C%0A%20%20%20%20%20%20%20%20%22maxZoom%22%3A%2018%2C%0A%20%20%20%20%20%20%20%20%22minZoom%22%3A%200%2C%0A%20%20%20%20%20%20%20%20%22noWrap%22%3A%20false%2C%0A%20%20%20%20%20%20%20%20%22opacity%22%3A%201%2C%0A%20%20%20%20%20%20%20%20%22subdomains%22%3A%20%22abc%22%2C%0A%20%20%20%20%20%20%20%20%22tms%22%3A%20false%0A%7D%29.addTo%28map_a4a6eef3240645ab904497bf1a726342%29%3B%0A%20%20%20%20var%20tile_layer_9ced5651fdb9400f96420c9a190d77e3%20%3D%20L.tileLayer%28%0A%20%20%20%20%20%20%20%20%27https%3A//earthengine.googleapis.com/v1alpha/projects/earthengine-legacy/maps/f4997c081f3329c0fdd40c2cfab7b686-e549a263666e09971ad6ebe3dd653458/tiles/%7Bz%7D/%7Bx%7D/%7By%7D%27%2C%0A%20%20%20%20%20%20%20%20%7B%0A%20%20%20%20%20%20%20%20%22attribution%22%3A%20%22Google%20Earth%20Engine%22%2C%0A%20%20%20%20%20%20%20%20%22detectRetina%22%3A%20false%2C%0A%20%20%20%20%20%20%20%20%22maxNativeZoom%22%3A%2018%2C%0A%20%20%20%20%20%20%20%20%22maxZoom%22%3A%2018%2C%0A%20%20%20%20%20%20%20%20%22minZoom%22%3A%200%2C%0A%20%20%20%20%20%20%20%20%22noWrap%22%3A%20false%2C%0A%20%20%20%20%20%20%20%20%22opacity%22%3A%201%2C%0A%20%20%20%20%20%20%20%20%22subdomains%22%3A%20%22abc%22%2C%0A%20%20%20%20%20%20%20%20%22tms%22%3A%20false%0A%7D%29.addTo%28map_a4a6eef3240645ab904497bf1a726342%29%3B%0A%20%20%20%20var%20tile_layer_0c7b84c8405f44268fe987ac750c737f%20%3D%20L.tileLayer%28%0A%20%20%20%20%20%20%20%20%27https%3A//earthengine.googleapis.com/v1alpha/projects/earthengine-legacy/maps/d720eb61053d2a81d7fe458df1aa9276-cc3549781d73a1749029ea8f4aa46080/tiles/%7Bz%7D/%7Bx%7D/%7By%7D%27%2C%0A%20%20%20%20%20%20%20%20%7B%0A%20%20%20%20%20%20%20%20%22attribution%22%3A%20%22Google%20Earth%20Engine%22%2C%0A%20%20%20%20%20%20%20%20%22detectRetina%22%3A%20false%2C%0A%20%20%20%20%20%20%20%20%22maxNativeZoom%22%3A%2018%2C%0A%20%20%20%20%20%20%20%20%22maxZoom%22%3A%2018%2C%0A%20%20%20%20%20%20%20%20%22minZoom%22%3A%200%2C%0A%20%20%20%20%20%20%20%20%22noWrap%22%3A%20false%2C%0A%20%20%20%20%20%20%20%20%22opacity%22%3A%201%2C%0A%20%20%20%20%20%20%20%20%22subdomains%22%3A%20%22abc%22%2C%0A%20%20%20%20%20%20%20%20%22tms%22%3A%20false%0A%7D%29.addTo%28map_a4a6eef3240645ab904497bf1a726342%29%3B%0A%20%20%20%20var%20tile_layer_0435eae83f5a47549a1a55cc033626c4%20%3D%20L.tileLayer%28%0A%20%20%20%20%20%20%20%20%27https%3A//earthengine.googleapis.com/v1alpha/projects/earthengine-legacy/maps/5e528766af823a33377fa3fb7030c825-4d2c58d58b7d0c47509cccbdda6364ea/tiles/%7Bz%7D/%7Bx%7D/%7By%7D%27%2C%0A%20%20%20%20%20%20%20%20%7B%0A%20%20%20%20%20%20%20%20%22attribution%22%3A%20%22Google%20Earth%20Engine%22%2C%0A%20%20%20%20%20%20%20%20%22detectRetina%22%3A%20false%2C%0A%20%20%20%20%20%20%20%20%22maxNativeZoom%22%3A%2018%2C%0A%20%20%20%20%20%20%20%20%22maxZoom%22%3A%2018%2C%0A%20%20%20%20%20%20%20%20%22minZoom%22%3A%200%2C%0A%20%20%20%20%20%20%20%20%22noWrap%22%3A%20false%2C%0A%20%20%20%20%20%20%20%20%22opacity%22%3A%201%2C%0A%20%20%20%20%20%20%20%20%22subdomains%22%3A%20%22abc%22%2C%0A%20%20%20%20%20%20%20%20%22tms%22%3A%20false%0A%7D%29.addTo%28map_a4a6eef3240645ab904497bf1a726342%29%3B%0A%20%20%20%20var%20tile_layer_1c1ef8d268584b1bb6b564fea1c38ced%20%3D%20L.tileLayer%28%0A%20%20%20%20%20%20%20%20%27https%3A//earthengine.googleapis.com/v1alpha/projects/earthengine-legacy/maps/f3b6634742ba484c6420f593aec180c4-04dc48acc90de01eb6ab658917091b92/tiles/%7Bz%7D/%7Bx%7D/%7By%7D%27%2C%0A%20%20%20%20%20%20%20%20%7B%0A%20%20%20%20%20%20%20%20%22attribution%22%3A%20%22Google%20Earth%20Engine%22%2C%0A%20%20%20%20%20%20%20%20%22detectRetina%22%3A%20false%2C%0A%20%20%20%20%20%20%20%20%22maxNativeZoom%22%3A%2018%2C%0A%20%20%20%20%20%20%20%20%22maxZoom%22%3A%2018%2C%0A%20%20%20%20%20%20%20%20%22minZoom%22%3A%200%2C%0A%20%20%20%20%20%20%20%20%22noWrap%22%3A%20false%2C%0A%20%20%20%20%20%20%20%20%22opacity%22%3A%201%2C%0A%20%20%20%20%20%20%20%20%22subdomains%22%3A%20%22abc%22%2C%0A%20%20%20%20%20%20%20%20%22tms%22%3A%20false%0A%7D%29.addTo%28map_a4a6eef3240645ab904497bf1a726342%29%3B%0A%20%20%20%20var%20tile_layer_01e0c8f4c2444db282f4b0627fd150e4%20%3D%20L.tileLayer%28%0A%20%20%20%20%20%20%20%20%27https%3A//earthengine.googleapis.com/v1alpha/projects/earthengine-legacy/maps/7864c76d0810a93a2eb9b3e18ccbf286-e6b3689305245a743c9786b6a3ae1845/tiles/%7Bz%7D/%7Bx%7D/%7By%7D%27%2C%0A%20%20%20%20%20%20%20%20%7B%0A%20%20%20%20%20%20%20%20%22attribution%22%3A%20%22Google%20Earth%20Engine%22%2C%0A%20%20%20%20%20%20%20%20%22detectRetina%22%3A%20false%2C%0A%20%20%20%20%20%20%20%20%22maxNativeZoom%22%3A%2018%2C%0A%20%20%20%20%20%20%20%20%22maxZoom%22%3A%2018%2C%0A%20%20%20%20%20%20%20%20%22minZoom%22%3A%200%2C%0A%20%20%20%20%20%20%20%20%22noWrap%22%3A%20false%2C%0A%20%20%20%20%20%20%20%20%22opacity%22%3A%201%2C%0A%20%20%20%20%20%20%20%20%22subdomains%22%3A%20%22abc%22%2C%0A%20%20%20%20%20%20%20%20%22tms%22%3A%20false%0A%7D%29.addTo%28map_a4a6eef3240645ab904497bf1a726342%29%3B%0A%20%20%20%20var%20tile_layer_afdfb2f1fdc54a80ae25c2ebf2764584%20%3D%20L.tileLayer%28%0A%20%20%20%20%20%20%20%20%27https%3A//earthengine.googleapis.com/v1alpha/projects/earthengine-legacy/maps/6a3cb2326d8dca481682817977db0f7f-76505ccdf738172500e30dda4d06dee5/tiles/%7Bz%7D/%7Bx%7D/%7By%7D%27%2C%0A%20%20%20%20%20%20%20%20%7B%0A%20%20%20%20%20%20%20%20%22attribution%22%3A%20%22Google%20Earth%20Engine%22%2C%0A%20%20%20%20%20%20%20%20%22detectRetina%22%3A%20false%2C%0A%20%20%20%20%20%20%20%20%22maxNativeZoom%22%3A%2018%2C%0A%20%20%20%20%20%20%20%20%22maxZoom%22%3A%2018%2C%0A%20%20%20%20%20%20%20%20%22minZoom%22%3A%200%2C%0A%20%20%20%20%20%20%20%20%22noWrap%22%3A%20false%2C%0A%20%20%20%20%20%20%20%20%22opacity%22%3A%201%2C%0A%20%20%20%20%20%20%20%20%22subdomains%22%3A%20%22abc%22%2C%0A%20%20%20%20%20%20%20%20%22tms%22%3A%20false%0A%7D%29.addTo%28map_a4a6eef3240645ab904497bf1a726342%29%3B%0A%20%20%20%20var%20tile_layer_0d54fb3bd7df481e955b1b7ee31767e8%20%3D%20L.tileLayer%28%0A%20%20%20%20%20%20%20%20%27https%3A//earthengine.googleapis.com/v1alpha/projects/earthengine-legacy/maps/4dee50bb8499c209368766d213c918fd-a77786371f48e2d0d65dd0ed376bb0c5/tiles/%7Bz%7D/%7Bx%7D/%7By%7D%27%2C%0A%20%20%20%20%20%20%20%20%7B%0A%20%20%20%20%20%20%20%20%22attribution%22%3A%20%22Google%20Earth%20Engine%22%2C%0A%20%20%20%20%20%20%20%20%22detectRetina%22%3A%20false%2C%0A%20%20%20%20%20%20%20%20%22maxNativeZoom%22%3A%2018%2C%0A%20%20%20%20%20%20%20%20%22maxZoom%22%3A%2018%2C%0A%20%20%20%20%20%20%20%20%22minZoom%22%3A%200%2C%0A%20%20%20%20%20%20%20%20%22noWrap%22%3A%20false%2C%0A%20%20%20%20%20%20%20%20%22opacity%22%3A%201%2C%0A%20%20%20%20%20%20%20%20%22subdomains%22%3A%20%22abc%22%2C%0A%20%20%20%20%20%20%20%20%22tms%22%3A%20false%0A%7D%29.addTo%28map_a4a6eef3240645ab904497bf1a726342%29%3B%0A%20%20%20%20%0A%20%20%20%20%20%20%20%20%20%20%20%20var%20layer_control_979bb45dece14dfdaf3273af2ad42a18%20%3D%20%7B%0A%20%20%20%20%20%20%20%20%20%20%20%20%20%20%20%20base_layers%20%3A%20%7B%20%22openstreetmap%22%20%3A%20tile_layer_f68bb0c10a2c4a2f889444ba95256ffc%2C%20%7D%2C%0A%20%20%20%20%20%20%20%20%20%20%20%20%20%20%20%20overlays%20%3A%20%7B%20%220%22%20%3A%20tile_layer_59171921bf6d44e5be61a328e8d82e87%2C%221%22%20%3A%20tile_layer_9ced5651fdb9400f96420c9a190d77e3%2C%222%22%20%3A%20tile_layer_0c7b84c8405f44268fe987ac750c737f%2C%223%22%20%3A%20tile_layer_0435eae83f5a47549a1a55cc033626c4%2C%224%22%20%3A%20tile_layer_1c1ef8d268584b1bb6b564fea1c38ced%2C%225%22%20%3A%20tile_layer_01e0c8f4c2444db282f4b0627fd150e4%2C%226%22%20%3A%20tile_layer_afdfb2f1fdc54a80ae25c2ebf2764584%2C%22study%20area%22%20%3A%20tile_layer_0d54fb3bd7df481e955b1b7ee31767e8%2C%20%7D%0A%20%20%20%20%20%20%20%20%20%20%20%20%20%20%20%20%7D%3B%0A%20%20%20%20%20%20%20%20%20%20%20%20L.control.layers%28%0A%20%20%20%20%20%20%20%20%20%20%20%20%20%20%20%20layer_control_979bb45dece14dfdaf3273af2ad42a18.base_layers%2C%0A%20%20%20%20%20%20%20%20%20%20%20%20%20%20%20%20layer_control_979bb45dece14dfdaf3273af2ad42a18.overlays%2C%0A%20%20%20%20%20%20%20%20%20%20%20%20%20%20%20%20%7Bposition%3A%20%27topright%27%2C%0A%20%20%20%20%20%20%20%20%20%20%20%20%20%20%20%20%20collapsed%3A%20true%2C%0A%20%20%20%20%20%20%20%20%20%20%20%20%20%20%20%20%20autoZIndex%3A%20true%0A%20%20%20%20%20%20%20%20%20%20%20%20%20%20%20%20%7D%29.addTo%28map_a4a6eef3240645ab904497bf1a726342%29%3B%0A%20%20%20%20%20%20%20%20%20%20%20%20%0A%20%20%20%20%20%20%20%20%0A%3C/script%3E onload=\"this.contentDocument.open();this.contentDocument.write(    decodeURIComponent(this.getAttribute('data-html')));this.contentDocument.close();\" allowfullscreen webkitallowfullscreen mozallowfullscreen></iframe></div></div>"
            ],
            "text/plain": [
              "<folium.folium.Map at 0x7f9a6a5ad4d0>"
            ]
          },
          "metadata": {},
          "execution_count": 40
        }
      ]
    },
    {
      "cell_type": "code",
      "metadata": {
        "id": "dNnvYAe5ShpE"
      },
      "source": [
        ""
      ],
      "execution_count": null,
      "outputs": []
    },
    {
      "cell_type": "markdown",
      "metadata": {
        "id": "IJG0G8AySiRf"
      },
      "source": [
        "# Classification - 4 classes, supervised"
      ]
    },
    {
      "cell_type": "code",
      "metadata": {
        "id": "E3GmA36ySpjv"
      },
      "source": [
        "# training data\n",
        "oilpalm = ee.Geometry.Rectangle(117.648, 0.711, 117.653, 0.716)\n",
        "forest = ee.Geometry.Rectangle(117.730, 0.780, 117.735, 0.785)\n",
        "other = ee.Geometry.Rectangle(117.626, 0.759, 117.631, 0.764)\n",
        "water = ee.Geometry.Rectangle(117.732, 0.715, 117.737, 0.720)\n",
        "\n",
        "polygons = ee.FeatureCollection([\n",
        "  ee.Feature(oilpalm, {'class': 0}),\n",
        "  ee.Feature(forest, {'class': 1}),\n",
        "  ee.Feature(other, {'class': 2}),\n",
        "  ee.Feature(water, {'class': 3}),\n",
        "])\n",
        "\n",
        "sample = ee.Geometry.Rectangle([[117.626,0.711],[117.737,0.785]])"
      ],
      "execution_count": 91,
      "outputs": []
    },
    {
      "cell_type": "code",
      "metadata": {
        "colab": {
          "base_uri": "https://localhost:8080/",
          "height": 712
        },
        "id": "yV9rxGBfTFfl",
        "outputId": "2577df6c-b35b-429f-ff93-378a1e20c31f"
      },
      "source": [
        "map = folium.Map(location=[0.75, 117.7],zoom_start=12) #  note switch between latitude and longitude in folium as opposed to ee.Geometry.Point\n",
        "map.addLayer(PL2019, {'min': 64, 'max': 5454, 'gamma':1.8, 'bands':['R','G','B']}, '2019')\n",
        "map.addLayer(study,{},'study area')\n",
        "map.addLayer(polygons, {}, 'training polygons')\n",
        "map.addLayer(sample,{},'sample')\n",
        "folium.LayerControl().add_to(map)\n",
        "map"
      ],
      "execution_count": 93,
      "outputs": [
        {
          "output_type": "execute_result",
          "data": {
            "text/html": [
              "<div style=\"width:100%;\"><div style=\"position:relative;width:100%;height:0;padding-bottom:60%;\"><span style=\"color:#565656\">Make this Notebook Trusted to load map: File -> Trust Notebook</span><iframe src=\"about:blank\" style=\"position:absolute;width:100%;height:100%;left:0;top:0;border:none !important;\" data-html=%3C%21DOCTYPE%20html%3E%0A%3Chead%3E%20%20%20%20%0A%20%20%20%20%3Cmeta%20http-equiv%3D%22content-type%22%20content%3D%22text/html%3B%20charset%3DUTF-8%22%20/%3E%0A%20%20%20%20%3Cscript%3EL_PREFER_CANVAS%3Dfalse%3B%20L_NO_TOUCH%3Dfalse%3B%20L_DISABLE_3D%3Dfalse%3B%3C/script%3E%0A%20%20%20%20%3Cscript%20src%3D%22https%3A//cdn.jsdelivr.net/npm/leaflet%401.4.0/dist/leaflet.js%22%3E%3C/script%3E%0A%20%20%20%20%3Cscript%20src%3D%22https%3A//code.jquery.com/jquery-1.12.4.min.js%22%3E%3C/script%3E%0A%20%20%20%20%3Cscript%20src%3D%22https%3A//maxcdn.bootstrapcdn.com/bootstrap/3.2.0/js/bootstrap.min.js%22%3E%3C/script%3E%0A%20%20%20%20%3Cscript%20src%3D%22https%3A//cdnjs.cloudflare.com/ajax/libs/Leaflet.awesome-markers/2.0.2/leaflet.awesome-markers.js%22%3E%3C/script%3E%0A%20%20%20%20%3Clink%20rel%3D%22stylesheet%22%20href%3D%22https%3A//cdn.jsdelivr.net/npm/leaflet%401.4.0/dist/leaflet.css%22/%3E%0A%20%20%20%20%3Clink%20rel%3D%22stylesheet%22%20href%3D%22https%3A//maxcdn.bootstrapcdn.com/bootstrap/3.2.0/css/bootstrap.min.css%22/%3E%0A%20%20%20%20%3Clink%20rel%3D%22stylesheet%22%20href%3D%22https%3A//maxcdn.bootstrapcdn.com/bootstrap/3.2.0/css/bootstrap-theme.min.css%22/%3E%0A%20%20%20%20%3Clink%20rel%3D%22stylesheet%22%20href%3D%22https%3A//maxcdn.bootstrapcdn.com/font-awesome/4.6.3/css/font-awesome.min.css%22/%3E%0A%20%20%20%20%3Clink%20rel%3D%22stylesheet%22%20href%3D%22https%3A//cdnjs.cloudflare.com/ajax/libs/Leaflet.awesome-markers/2.0.2/leaflet.awesome-markers.css%22/%3E%0A%20%20%20%20%3Clink%20rel%3D%22stylesheet%22%20href%3D%22https%3A//rawcdn.githack.com/python-visualization/folium/master/folium/templates/leaflet.awesome.rotate.css%22/%3E%0A%20%20%20%20%3Cstyle%3Ehtml%2C%20body%20%7Bwidth%3A%20100%25%3Bheight%3A%20100%25%3Bmargin%3A%200%3Bpadding%3A%200%3B%7D%3C/style%3E%0A%20%20%20%20%3Cstyle%3E%23map%20%7Bposition%3Aabsolute%3Btop%3A0%3Bbottom%3A0%3Bright%3A0%3Bleft%3A0%3B%7D%3C/style%3E%0A%20%20%20%20%0A%20%20%20%20%3Cmeta%20name%3D%22viewport%22%20content%3D%22width%3Ddevice-width%2C%0A%20%20%20%20%20%20%20%20initial-scale%3D1.0%2C%20maximum-scale%3D1.0%2C%20user-scalable%3Dno%22%20/%3E%0A%20%20%20%20%3Cstyle%3E%23map_4b98b36cc23a4b73a9acc257e19038a0%20%7B%0A%20%20%20%20%20%20%20%20position%3A%20relative%3B%0A%20%20%20%20%20%20%20%20width%3A%20100.0%25%3B%0A%20%20%20%20%20%20%20%20height%3A%20100.0%25%3B%0A%20%20%20%20%20%20%20%20left%3A%200.0%25%3B%0A%20%20%20%20%20%20%20%20top%3A%200.0%25%3B%0A%20%20%20%20%20%20%20%20%7D%0A%20%20%20%20%3C/style%3E%0A%3C/head%3E%0A%3Cbody%3E%20%20%20%20%0A%20%20%20%20%0A%20%20%20%20%3Cdiv%20class%3D%22folium-map%22%20id%3D%22map_4b98b36cc23a4b73a9acc257e19038a0%22%20%3E%3C/div%3E%0A%3C/body%3E%0A%3Cscript%3E%20%20%20%20%0A%20%20%20%20%0A%20%20%20%20%0A%20%20%20%20%20%20%20%20var%20bounds%20%3D%20null%3B%0A%20%20%20%20%0A%0A%20%20%20%20var%20map_4b98b36cc23a4b73a9acc257e19038a0%20%3D%20L.map%28%0A%20%20%20%20%20%20%20%20%27map_4b98b36cc23a4b73a9acc257e19038a0%27%2C%20%7B%0A%20%20%20%20%20%20%20%20center%3A%20%5B0.75%2C%20117.7%5D%2C%0A%20%20%20%20%20%20%20%20zoom%3A%2012%2C%0A%20%20%20%20%20%20%20%20maxBounds%3A%20bounds%2C%0A%20%20%20%20%20%20%20%20layers%3A%20%5B%5D%2C%0A%20%20%20%20%20%20%20%20worldCopyJump%3A%20false%2C%0A%20%20%20%20%20%20%20%20crs%3A%20L.CRS.EPSG3857%2C%0A%20%20%20%20%20%20%20%20zoomControl%3A%20true%2C%0A%20%20%20%20%20%20%20%20%7D%29%3B%0A%0A%0A%20%20%20%20%0A%20%20%20%20var%20tile_layer_0d59a3f435da4e4a9fefe083ad30c23f%20%3D%20L.tileLayer%28%0A%20%20%20%20%20%20%20%20%27https%3A//%7Bs%7D.tile.openstreetmap.org/%7Bz%7D/%7Bx%7D/%7By%7D.png%27%2C%0A%20%20%20%20%20%20%20%20%7B%0A%20%20%20%20%20%20%20%20%22attribution%22%3A%20null%2C%0A%20%20%20%20%20%20%20%20%22detectRetina%22%3A%20false%2C%0A%20%20%20%20%20%20%20%20%22maxNativeZoom%22%3A%2018%2C%0A%20%20%20%20%20%20%20%20%22maxZoom%22%3A%2018%2C%0A%20%20%20%20%20%20%20%20%22minZoom%22%3A%200%2C%0A%20%20%20%20%20%20%20%20%22noWrap%22%3A%20false%2C%0A%20%20%20%20%20%20%20%20%22opacity%22%3A%201%2C%0A%20%20%20%20%20%20%20%20%22subdomains%22%3A%20%22abc%22%2C%0A%20%20%20%20%20%20%20%20%22tms%22%3A%20false%0A%7D%29.addTo%28map_4b98b36cc23a4b73a9acc257e19038a0%29%3B%0A%20%20%20%20var%20tile_layer_24bab8286ad84bedad0cde9eda67fcb3%20%3D%20L.tileLayer%28%0A%20%20%20%20%20%20%20%20%27https%3A//earthengine.googleapis.com/v1alpha/projects/earthengine-legacy/maps/f3b6634742ba484c6420f593aec180c4-63757551e20ae54b78bc3d646289e1e2/tiles/%7Bz%7D/%7Bx%7D/%7By%7D%27%2C%0A%20%20%20%20%20%20%20%20%7B%0A%20%20%20%20%20%20%20%20%22attribution%22%3A%20%22Google%20Earth%20Engine%22%2C%0A%20%20%20%20%20%20%20%20%22detectRetina%22%3A%20false%2C%0A%20%20%20%20%20%20%20%20%22maxNativeZoom%22%3A%2018%2C%0A%20%20%20%20%20%20%20%20%22maxZoom%22%3A%2018%2C%0A%20%20%20%20%20%20%20%20%22minZoom%22%3A%200%2C%0A%20%20%20%20%20%20%20%20%22noWrap%22%3A%20false%2C%0A%20%20%20%20%20%20%20%20%22opacity%22%3A%201%2C%0A%20%20%20%20%20%20%20%20%22subdomains%22%3A%20%22abc%22%2C%0A%20%20%20%20%20%20%20%20%22tms%22%3A%20false%0A%7D%29.addTo%28map_4b98b36cc23a4b73a9acc257e19038a0%29%3B%0A%20%20%20%20var%20tile_layer_1185e470637648949471547dde9724d2%20%3D%20L.tileLayer%28%0A%20%20%20%20%20%20%20%20%27https%3A//earthengine.googleapis.com/v1alpha/projects/earthengine-legacy/maps/4dee50bb8499c209368766d213c918fd-888037dbd7881506f8941ada39635483/tiles/%7Bz%7D/%7Bx%7D/%7By%7D%27%2C%0A%20%20%20%20%20%20%20%20%7B%0A%20%20%20%20%20%20%20%20%22attribution%22%3A%20%22Google%20Earth%20Engine%22%2C%0A%20%20%20%20%20%20%20%20%22detectRetina%22%3A%20false%2C%0A%20%20%20%20%20%20%20%20%22maxNativeZoom%22%3A%2018%2C%0A%20%20%20%20%20%20%20%20%22maxZoom%22%3A%2018%2C%0A%20%20%20%20%20%20%20%20%22minZoom%22%3A%200%2C%0A%20%20%20%20%20%20%20%20%22noWrap%22%3A%20false%2C%0A%20%20%20%20%20%20%20%20%22opacity%22%3A%201%2C%0A%20%20%20%20%20%20%20%20%22subdomains%22%3A%20%22abc%22%2C%0A%20%20%20%20%20%20%20%20%22tms%22%3A%20false%0A%7D%29.addTo%28map_4b98b36cc23a4b73a9acc257e19038a0%29%3B%0A%20%20%20%20var%20tile_layer_712d3f121a8e4cc793bda1c47ab9880d%20%3D%20L.tileLayer%28%0A%20%20%20%20%20%20%20%20%27https%3A//earthengine.googleapis.com/v1alpha/projects/earthengine-legacy/maps/2c8506e7a77f9237ca8efc1da0983462-772487f77906ec483757fee5c1f5ce2e/tiles/%7Bz%7D/%7Bx%7D/%7By%7D%27%2C%0A%20%20%20%20%20%20%20%20%7B%0A%20%20%20%20%20%20%20%20%22attribution%22%3A%20%22Google%20Earth%20Engine%22%2C%0A%20%20%20%20%20%20%20%20%22detectRetina%22%3A%20false%2C%0A%20%20%20%20%20%20%20%20%22maxNativeZoom%22%3A%2018%2C%0A%20%20%20%20%20%20%20%20%22maxZoom%22%3A%2018%2C%0A%20%20%20%20%20%20%20%20%22minZoom%22%3A%200%2C%0A%20%20%20%20%20%20%20%20%22noWrap%22%3A%20false%2C%0A%20%20%20%20%20%20%20%20%22opacity%22%3A%201%2C%0A%20%20%20%20%20%20%20%20%22subdomains%22%3A%20%22abc%22%2C%0A%20%20%20%20%20%20%20%20%22tms%22%3A%20false%0A%7D%29.addTo%28map_4b98b36cc23a4b73a9acc257e19038a0%29%3B%0A%20%20%20%20var%20tile_layer_eed9742d46294efd92af5e733fa9edfd%20%3D%20L.tileLayer%28%0A%20%20%20%20%20%20%20%20%27https%3A//earthengine.googleapis.com/v1alpha/projects/earthengine-legacy/maps/e4f38591d1faf6a1f969dac490959bae-946d66a8aada6ee317d87c0ad8ada7a7/tiles/%7Bz%7D/%7Bx%7D/%7By%7D%27%2C%0A%20%20%20%20%20%20%20%20%7B%0A%20%20%20%20%20%20%20%20%22attribution%22%3A%20%22Google%20Earth%20Engine%22%2C%0A%20%20%20%20%20%20%20%20%22detectRetina%22%3A%20false%2C%0A%20%20%20%20%20%20%20%20%22maxNativeZoom%22%3A%2018%2C%0A%20%20%20%20%20%20%20%20%22maxZoom%22%3A%2018%2C%0A%20%20%20%20%20%20%20%20%22minZoom%22%3A%200%2C%0A%20%20%20%20%20%20%20%20%22noWrap%22%3A%20false%2C%0A%20%20%20%20%20%20%20%20%22opacity%22%3A%201%2C%0A%20%20%20%20%20%20%20%20%22subdomains%22%3A%20%22abc%22%2C%0A%20%20%20%20%20%20%20%20%22tms%22%3A%20false%0A%7D%29.addTo%28map_4b98b36cc23a4b73a9acc257e19038a0%29%3B%0A%20%20%20%20%0A%20%20%20%20%20%20%20%20%20%20%20%20var%20layer_control_88052bf16f7341e086eafe8d57fd701d%20%3D%20%7B%0A%20%20%20%20%20%20%20%20%20%20%20%20%20%20%20%20base_layers%20%3A%20%7B%20%22openstreetmap%22%20%3A%20tile_layer_0d59a3f435da4e4a9fefe083ad30c23f%2C%20%7D%2C%0A%20%20%20%20%20%20%20%20%20%20%20%20%20%20%20%20overlays%20%3A%20%7B%20%222019%22%20%3A%20tile_layer_24bab8286ad84bedad0cde9eda67fcb3%2C%22study%20area%22%20%3A%20tile_layer_1185e470637648949471547dde9724d2%2C%22training%20polygons%22%20%3A%20tile_layer_712d3f121a8e4cc793bda1c47ab9880d%2C%22sample%22%20%3A%20tile_layer_eed9742d46294efd92af5e733fa9edfd%2C%20%7D%0A%20%20%20%20%20%20%20%20%20%20%20%20%20%20%20%20%7D%3B%0A%20%20%20%20%20%20%20%20%20%20%20%20L.control.layers%28%0A%20%20%20%20%20%20%20%20%20%20%20%20%20%20%20%20layer_control_88052bf16f7341e086eafe8d57fd701d.base_layers%2C%0A%20%20%20%20%20%20%20%20%20%20%20%20%20%20%20%20layer_control_88052bf16f7341e086eafe8d57fd701d.overlays%2C%0A%20%20%20%20%20%20%20%20%20%20%20%20%20%20%20%20%7Bposition%3A%20%27topright%27%2C%0A%20%20%20%20%20%20%20%20%20%20%20%20%20%20%20%20%20collapsed%3A%20true%2C%0A%20%20%20%20%20%20%20%20%20%20%20%20%20%20%20%20%20autoZIndex%3A%20true%0A%20%20%20%20%20%20%20%20%20%20%20%20%20%20%20%20%7D%29.addTo%28map_4b98b36cc23a4b73a9acc257e19038a0%29%3B%0A%20%20%20%20%20%20%20%20%20%20%20%20%0A%20%20%20%20%20%20%20%20%0A%3C/script%3E onload=\"this.contentDocument.open();this.contentDocument.write(    decodeURIComponent(this.getAttribute('data-html')));this.contentDocument.close();\" allowfullscreen webkitallowfullscreen mozallowfullscreen></iframe></div></div>"
            ],
            "text/plain": [
              "<folium.folium.Map at 0x7f9a69f8dd50>"
            ]
          },
          "metadata": {},
          "execution_count": 93
        }
      ]
    },
    {
      "cell_type": "code",
      "metadata": {
        "id": "qZakNTtOUWpc"
      },
      "source": [
        "\n",
        "image = PL2019.clip(sample)\n",
        "\n",
        "# bands = ['R', 'G', 'B', 'N']\n",
        "bands = ['R', 'G', 'B']\n",
        "\n",
        "# Get the values for all pixels in each polygon in the training.\n",
        "  # Get the sample from the polygons FeatureCollection.\n",
        "  # Keep this list of properties from the polygons.\n",
        "  # Set the scale to get Landsat pixels in the polygons.\n",
        "training = image.sampleRegions(polygons, properties= ['class'], scale= 4.77)\n",
        "  \n",
        "# Create an SVM classifier with custom parameters.\n",
        "# RBF = Radial Basis Function kernel\n",
        "classifier = ee.Classifier.libsvm(kernelType='RBF',gamma= 0.5,cost= 10)\n",
        "\n",
        "# Train the classifier.\n",
        "trained = classifier.train(training, 'class', bands);\n",
        "\n",
        "# Classify one image.\n",
        "\n",
        "classified = image.classify(trained)"
      ],
      "execution_count": 96,
      "outputs": []
    },
    {
      "cell_type": "code",
      "metadata": {
        "colab": {
          "base_uri": "https://localhost:8080/",
          "height": 450
        },
        "id": "fotJq7w-U4qO",
        "outputId": "67ff665e-c02c-4f11-915e-35903a1e1d78"
      },
      "source": [
        "\n",
        "map = folium.Map(location=[0.75, 117.7],zoom_start=12)\n",
        "\n",
        "map.addLayer(image, {'bands': ['R', 'G', 'B']}, 'image')\n",
        "map.addLayer(polygons, {}, 'training polygons')\n",
        "map.addLayer(classified, {}, 'classification') # Probably wont be able to plot it!\n",
        "folium.LayerControl().add_to(map)\n",
        "map"
      ],
      "execution_count": 97,
      "outputs": [
        {
          "output_type": "error",
          "ename": "EEException",
          "evalue": "ignored",
          "traceback": [
            "\u001b[0;31m---------------------------------------------------------------------------\u001b[0m",
            "\u001b[0;31mHttpError\u001b[0m                                 Traceback (most recent call last)",
            "\u001b[0;32m/usr/local/lib/python3.7/dist-packages/ee/data.py\u001b[0m in \u001b[0;36m_execute_cloud_call\u001b[0;34m(call, num_retries)\u001b[0m\n\u001b[1;32m    333\u001b[0m   \u001b[0;32mtry\u001b[0m\u001b[0;34m:\u001b[0m\u001b[0;34m\u001b[0m\u001b[0;34m\u001b[0m\u001b[0m\n\u001b[0;32m--> 334\u001b[0;31m     \u001b[0;32mreturn\u001b[0m \u001b[0mcall\u001b[0m\u001b[0;34m.\u001b[0m\u001b[0mexecute\u001b[0m\u001b[0;34m(\u001b[0m\u001b[0mnum_retries\u001b[0m\u001b[0;34m=\u001b[0m\u001b[0mnum_retries\u001b[0m\u001b[0;34m)\u001b[0m\u001b[0;34m\u001b[0m\u001b[0;34m\u001b[0m\u001b[0m\n\u001b[0m\u001b[1;32m    335\u001b[0m   \u001b[0;32mexcept\u001b[0m \u001b[0mgoogleapiclient\u001b[0m\u001b[0;34m.\u001b[0m\u001b[0merrors\u001b[0m\u001b[0;34m.\u001b[0m\u001b[0mHttpError\u001b[0m \u001b[0;32mas\u001b[0m \u001b[0me\u001b[0m\u001b[0;34m:\u001b[0m\u001b[0;34m\u001b[0m\u001b[0;34m\u001b[0m\u001b[0m\n",
            "\u001b[0;32m/usr/local/lib/python3.7/dist-packages/googleapiclient/_helpers.py\u001b[0m in \u001b[0;36mpositional_wrapper\u001b[0;34m(*args, **kwargs)\u001b[0m\n\u001b[1;32m    133\u001b[0m                     \u001b[0mlogger\u001b[0m\u001b[0;34m.\u001b[0m\u001b[0mwarning\u001b[0m\u001b[0;34m(\u001b[0m\u001b[0mmessage\u001b[0m\u001b[0;34m)\u001b[0m\u001b[0;34m\u001b[0m\u001b[0;34m\u001b[0m\u001b[0m\n\u001b[0;32m--> 134\u001b[0;31m             \u001b[0;32mreturn\u001b[0m \u001b[0mwrapped\u001b[0m\u001b[0;34m(\u001b[0m\u001b[0;34m*\u001b[0m\u001b[0margs\u001b[0m\u001b[0;34m,\u001b[0m \u001b[0;34m**\u001b[0m\u001b[0mkwargs\u001b[0m\u001b[0;34m)\u001b[0m\u001b[0;34m\u001b[0m\u001b[0;34m\u001b[0m\u001b[0m\n\u001b[0m\u001b[1;32m    135\u001b[0m \u001b[0;34m\u001b[0m\u001b[0m\n",
            "\u001b[0;32m/usr/local/lib/python3.7/dist-packages/googleapiclient/http.py\u001b[0m in \u001b[0;36mexecute\u001b[0;34m(self, http, num_retries)\u001b[0m\n\u001b[1;32m    914\u001b[0m         \u001b[0;32mif\u001b[0m \u001b[0mresp\u001b[0m\u001b[0;34m.\u001b[0m\u001b[0mstatus\u001b[0m \u001b[0;34m>=\u001b[0m \u001b[0;36m300\u001b[0m\u001b[0;34m:\u001b[0m\u001b[0;34m\u001b[0m\u001b[0;34m\u001b[0m\u001b[0m\n\u001b[0;32m--> 915\u001b[0;31m             \u001b[0;32mraise\u001b[0m \u001b[0mHttpError\u001b[0m\u001b[0;34m(\u001b[0m\u001b[0mresp\u001b[0m\u001b[0;34m,\u001b[0m \u001b[0mcontent\u001b[0m\u001b[0;34m,\u001b[0m \u001b[0muri\u001b[0m\u001b[0;34m=\u001b[0m\u001b[0mself\u001b[0m\u001b[0;34m.\u001b[0m\u001b[0muri\u001b[0m\u001b[0;34m)\u001b[0m\u001b[0;34m\u001b[0m\u001b[0;34m\u001b[0m\u001b[0m\n\u001b[0m\u001b[1;32m    916\u001b[0m         \u001b[0;32mreturn\u001b[0m \u001b[0mself\u001b[0m\u001b[0;34m.\u001b[0m\u001b[0mpostproc\u001b[0m\u001b[0;34m(\u001b[0m\u001b[0mresp\u001b[0m\u001b[0;34m,\u001b[0m \u001b[0mcontent\u001b[0m\u001b[0;34m)\u001b[0m\u001b[0;34m\u001b[0m\u001b[0;34m\u001b[0m\u001b[0m\n",
            "\u001b[0;31mHttpError\u001b[0m: <HttpError 400 when requesting https://earthengine.googleapis.com/v1alpha/projects/earthengine-legacy/maps?fields=name&alt=json returned \"Computation timed out.\". Details: \"Computation timed out.\">",
            "\nDuring handling of the above exception, another exception occurred:\n",
            "\u001b[0;31mEEException\u001b[0m                               Traceback (most recent call last)",
            "\u001b[0;32m<ipython-input-97-fce5d31714b9>\u001b[0m in \u001b[0;36m<module>\u001b[0;34m()\u001b[0m\n\u001b[1;32m      4\u001b[0m \u001b[0mmap\u001b[0m\u001b[0;34m.\u001b[0m\u001b[0maddLayer\u001b[0m\u001b[0;34m(\u001b[0m\u001b[0mimage\u001b[0m\u001b[0;34m,\u001b[0m \u001b[0;34m{\u001b[0m\u001b[0;34m'bands'\u001b[0m\u001b[0;34m:\u001b[0m \u001b[0;34m[\u001b[0m\u001b[0;34m'R'\u001b[0m\u001b[0;34m,\u001b[0m \u001b[0;34m'G'\u001b[0m\u001b[0;34m,\u001b[0m \u001b[0;34m'B'\u001b[0m\u001b[0;34m]\u001b[0m\u001b[0;34m}\u001b[0m\u001b[0;34m,\u001b[0m \u001b[0;34m'image'\u001b[0m\u001b[0;34m)\u001b[0m\u001b[0;34m\u001b[0m\u001b[0;34m\u001b[0m\u001b[0m\n\u001b[1;32m      5\u001b[0m \u001b[0mmap\u001b[0m\u001b[0;34m.\u001b[0m\u001b[0maddLayer\u001b[0m\u001b[0;34m(\u001b[0m\u001b[0mpolygons\u001b[0m\u001b[0;34m,\u001b[0m \u001b[0;34m{\u001b[0m\u001b[0;34m}\u001b[0m\u001b[0;34m,\u001b[0m \u001b[0;34m'training polygons'\u001b[0m\u001b[0;34m)\u001b[0m\u001b[0;34m\u001b[0m\u001b[0;34m\u001b[0m\u001b[0m\n\u001b[0;32m----> 6\u001b[0;31m \u001b[0mmap\u001b[0m\u001b[0;34m.\u001b[0m\u001b[0maddLayer\u001b[0m\u001b[0;34m(\u001b[0m\u001b[0mclassified\u001b[0m\u001b[0;34m,\u001b[0m \u001b[0;34m{\u001b[0m\u001b[0;34m}\u001b[0m\u001b[0;34m,\u001b[0m \u001b[0;34m'classification'\u001b[0m\u001b[0;34m)\u001b[0m \u001b[0;31m# Probably wont be able to plot it!\u001b[0m\u001b[0;34m\u001b[0m\u001b[0;34m\u001b[0m\u001b[0m\n\u001b[0m\u001b[1;32m      7\u001b[0m \u001b[0mfolium\u001b[0m\u001b[0;34m.\u001b[0m\u001b[0mLayerControl\u001b[0m\u001b[0;34m(\u001b[0m\u001b[0;34m)\u001b[0m\u001b[0;34m.\u001b[0m\u001b[0madd_to\u001b[0m\u001b[0;34m(\u001b[0m\u001b[0mmap\u001b[0m\u001b[0;34m)\u001b[0m\u001b[0;34m\u001b[0m\u001b[0;34m\u001b[0m\u001b[0m\n\u001b[1;32m      8\u001b[0m \u001b[0mmap\u001b[0m\u001b[0;34m\u001b[0m\u001b[0;34m\u001b[0m\u001b[0m\n",
            "\u001b[0;32m/usr/local/lib/python3.7/dist-packages/geehydro/geehydro.py\u001b[0m in \u001b[0;36maddLayer\u001b[0;34m(self, ee_object, vis_params, name, shown, opacity)\u001b[0m\n\u001b[1;32m     41\u001b[0m         \u001b[0mimage\u001b[0m \u001b[0;34m=\u001b[0m \u001b[0mee_object\u001b[0m\u001b[0;34m.\u001b[0m\u001b[0mmedian\u001b[0m\u001b[0;34m(\u001b[0m\u001b[0;34m)\u001b[0m\u001b[0;34m\u001b[0m\u001b[0;34m\u001b[0m\u001b[0m\n\u001b[1;32m     42\u001b[0m \u001b[0;34m\u001b[0m\u001b[0m\n\u001b[0;32m---> 43\u001b[0;31m     \u001b[0mmap_id_dict\u001b[0m \u001b[0;34m=\u001b[0m \u001b[0mee\u001b[0m\u001b[0;34m.\u001b[0m\u001b[0mImage\u001b[0m\u001b[0;34m(\u001b[0m\u001b[0mimage\u001b[0m\u001b[0;34m)\u001b[0m\u001b[0;34m.\u001b[0m\u001b[0mgetMapId\u001b[0m\u001b[0;34m(\u001b[0m\u001b[0mvis_params\u001b[0m\u001b[0;34m)\u001b[0m\u001b[0;34m\u001b[0m\u001b[0;34m\u001b[0m\u001b[0m\n\u001b[0m\u001b[1;32m     44\u001b[0m     folium.raster_layers.TileLayer(\n\u001b[1;32m     45\u001b[0m         \u001b[0mtiles\u001b[0m\u001b[0;34m=\u001b[0m\u001b[0mmap_id_dict\u001b[0m\u001b[0;34m[\u001b[0m\u001b[0;34m'tile_fetcher'\u001b[0m\u001b[0;34m]\u001b[0m\u001b[0;34m.\u001b[0m\u001b[0murl_format\u001b[0m\u001b[0;34m,\u001b[0m\u001b[0;34m\u001b[0m\u001b[0;34m\u001b[0m\u001b[0m\n",
            "\u001b[0;32m/usr/local/lib/python3.7/dist-packages/ee/image.py\u001b[0m in \u001b[0;36mgetMapId\u001b[0;34m(self, vis_params)\u001b[0m\n\u001b[1;32m    128\u001b[0m     \u001b[0mvis_image\u001b[0m\u001b[0;34m,\u001b[0m \u001b[0mrequest\u001b[0m \u001b[0;34m=\u001b[0m \u001b[0mself\u001b[0m\u001b[0;34m.\u001b[0m\u001b[0m_apply_visualization\u001b[0m\u001b[0;34m(\u001b[0m\u001b[0mvis_params\u001b[0m\u001b[0;34m)\u001b[0m\u001b[0;34m\u001b[0m\u001b[0;34m\u001b[0m\u001b[0m\n\u001b[1;32m    129\u001b[0m     \u001b[0mrequest\u001b[0m\u001b[0;34m[\u001b[0m\u001b[0;34m'image'\u001b[0m\u001b[0;34m]\u001b[0m \u001b[0;34m=\u001b[0m \u001b[0mvis_image\u001b[0m\u001b[0;34m\u001b[0m\u001b[0;34m\u001b[0m\u001b[0m\n\u001b[0;32m--> 130\u001b[0;31m     \u001b[0mresponse\u001b[0m \u001b[0;34m=\u001b[0m \u001b[0mdata\u001b[0m\u001b[0;34m.\u001b[0m\u001b[0mgetMapId\u001b[0m\u001b[0;34m(\u001b[0m\u001b[0mrequest\u001b[0m\u001b[0;34m)\u001b[0m\u001b[0;34m\u001b[0m\u001b[0;34m\u001b[0m\u001b[0m\n\u001b[0m\u001b[1;32m    131\u001b[0m     \u001b[0mresponse\u001b[0m\u001b[0;34m[\u001b[0m\u001b[0;34m'image'\u001b[0m\u001b[0;34m]\u001b[0m \u001b[0;34m=\u001b[0m \u001b[0mself\u001b[0m\u001b[0;34m\u001b[0m\u001b[0;34m\u001b[0m\u001b[0m\n\u001b[1;32m    132\u001b[0m     \u001b[0;32mreturn\u001b[0m \u001b[0mresponse\u001b[0m\u001b[0;34m\u001b[0m\u001b[0;34m\u001b[0m\u001b[0m\n",
            "\u001b[0;32m/usr/local/lib/python3.7/dist-packages/ee/data.py\u001b[0m in \u001b[0;36mgetMapId\u001b[0;34m(params)\u001b[0m\n\u001b[1;32m    573\u001b[0m   result = _execute_cloud_call(\n\u001b[1;32m    574\u001b[0m       _get_cloud_api_resource().projects().maps().create(\n\u001b[0;32m--> 575\u001b[0;31m           parent=_get_projects_path(), fields='name', body=request))\n\u001b[0m\u001b[1;32m    576\u001b[0m   \u001b[0mmap_name\u001b[0m \u001b[0;34m=\u001b[0m \u001b[0mresult\u001b[0m\u001b[0;34m[\u001b[0m\u001b[0;34m'name'\u001b[0m\u001b[0;34m]\u001b[0m\u001b[0;34m\u001b[0m\u001b[0;34m\u001b[0m\u001b[0m\n\u001b[1;32m    577\u001b[0m   url_format = '%s/%s/%s/tiles/{z}/{x}/{y}' % (\n",
            "\u001b[0;32m/usr/local/lib/python3.7/dist-packages/ee/data.py\u001b[0m in \u001b[0;36m_execute_cloud_call\u001b[0;34m(call, num_retries)\u001b[0m\n\u001b[1;32m    334\u001b[0m     \u001b[0;32mreturn\u001b[0m \u001b[0mcall\u001b[0m\u001b[0;34m.\u001b[0m\u001b[0mexecute\u001b[0m\u001b[0;34m(\u001b[0m\u001b[0mnum_retries\u001b[0m\u001b[0;34m=\u001b[0m\u001b[0mnum_retries\u001b[0m\u001b[0;34m)\u001b[0m\u001b[0;34m\u001b[0m\u001b[0;34m\u001b[0m\u001b[0m\n\u001b[1;32m    335\u001b[0m   \u001b[0;32mexcept\u001b[0m \u001b[0mgoogleapiclient\u001b[0m\u001b[0;34m.\u001b[0m\u001b[0merrors\u001b[0m\u001b[0;34m.\u001b[0m\u001b[0mHttpError\u001b[0m \u001b[0;32mas\u001b[0m \u001b[0me\u001b[0m\u001b[0;34m:\u001b[0m\u001b[0;34m\u001b[0m\u001b[0;34m\u001b[0m\u001b[0m\n\u001b[0;32m--> 336\u001b[0;31m     \u001b[0;32mraise\u001b[0m \u001b[0m_translate_cloud_exception\u001b[0m\u001b[0;34m(\u001b[0m\u001b[0me\u001b[0m\u001b[0;34m)\u001b[0m\u001b[0;34m\u001b[0m\u001b[0;34m\u001b[0m\u001b[0m\n\u001b[0m\u001b[1;32m    337\u001b[0m \u001b[0;34m\u001b[0m\u001b[0m\n\u001b[1;32m    338\u001b[0m \u001b[0;34m\u001b[0m\u001b[0m\n",
            "\u001b[0;31mEEException\u001b[0m: Computation timed out."
          ]
        }
      ]
    },
    {
      "cell_type": "markdown",
      "metadata": {
        "id": "DdrMi1LTGDFZ"
      },
      "source": [
        "# Classification - identifying oil palm plantations"
      ]
    },
    {
      "cell_type": "code",
      "metadata": {
        "id": "FWXwmtDYyOJu"
      },
      "source": [
        "# importing oil palm dataset to be used as training data\n",
        "palm = ee.ImageCollection(\"BIOPAMA/GlobalOilPalm/v1\").select('classification')\n",
        "palm_mosaic = palm.mosaic()\n"
      ],
      "execution_count": 52,
      "outputs": []
    },
    {
      "cell_type": "code",
      "metadata": {
        "colab": {
          "base_uri": "https://localhost:8080/"
        },
        "id": "cSL5A4cmJovU",
        "outputId": "02aaa16b-e8f7-4393-bea9-68f1b562d8c3"
      },
      "source": [
        "# values 1 and 2 = plantation, 3 = not plantation\n",
        "plantations = palm_mosaic.lt(3)\n",
        "plant_clip = plantations.clip(study)\n",
        "plant_vec = plant_clip.reduceToVectors(scale = 10, crs = 'EPSG:4326')\n",
        "pp.pprint(plantations.getInfo())"
      ],
      "execution_count": 77,
      "outputs": [
        {
          "output_type": "stream",
          "name": "stdout",
          "text": [
            "{'bands': [{'crs': 'EPSG:4326',\n",
            "            'crs_transform': [1, 0, 0, 0, 1, 0],\n",
            "            'data_type': {'max': 1,\n",
            "                          'min': 0,\n",
            "                          'precision': 'int',\n",
            "                          'type': 'PixelType'},\n",
            "            'id': 'classification'}],\n",
            " 'type': 'Image'}\n"
          ]
        }
      ]
    },
    {
      "cell_type": "code",
      "metadata": {
        "id": "kRd0WhqeKykS"
      },
      "source": [
        "bands = ['R', 'G', 'B', 'N']\n",
        "\n",
        "label = 'plantation'\n",
        "\n",
        "training = PL2019.select(bands).sampleRegions(plant_vec, properties = [label], scale = 4.77)\n",
        "\n",
        "trained = ee.Classifier.smileCart().train(training, label, bands)\n",
        "\n",
        "test2020 = PL2020.clip(study)\n",
        "\n",
        "classified = test2020.select(bands).classify(trained)"
      ],
      "execution_count": 80,
      "outputs": []
    },
    {
      "cell_type": "code",
      "metadata": {
        "colab": {
          "base_uri": "https://localhost:8080/",
          "height": 450
        },
        "id": "gmpPRSo1GCfn",
        "outputId": "405f5d47-d235-422d-ceaa-e4765425a42b"
      },
      "source": [
        "# display\n",
        "mapA = folium.Map(location=[0.75, 117.7],zoom_start=10) #  note switch between latitude and longitude in folium as opposed to ee.Geometry.Point\n",
        "mapA.addLayer(palm_mosaic, {'min': 1, 'max': 3, 'palette': ['ff0000','ef00ff', '696969']}, 'palm oil plantations')\n",
        "mapA.addLayer(plant_clip,  {'min': 0, 'max': 1, 'palette': ['696969', 'ef00ff']}, 'training')\n",
        "mapA.addLayer(classified, {'min': 0, 'max': 1, 'palette': ['696969', 'ef00ff']}, 'classified')\n",
        "mapA.addLayer(study,{},'study area')\n",
        "folium.LayerControl().add_to(mapA)\n",
        "mapA"
      ],
      "execution_count": 81,
      "outputs": [
        {
          "output_type": "error",
          "ename": "EEException",
          "evalue": "ignored",
          "traceback": [
            "\u001b[0;31m---------------------------------------------------------------------------\u001b[0m",
            "\u001b[0;31mHttpError\u001b[0m                                 Traceback (most recent call last)",
            "\u001b[0;32m/usr/local/lib/python3.7/dist-packages/ee/data.py\u001b[0m in \u001b[0;36m_execute_cloud_call\u001b[0;34m(call, num_retries)\u001b[0m\n\u001b[1;32m    333\u001b[0m   \u001b[0;32mtry\u001b[0m\u001b[0;34m:\u001b[0m\u001b[0;34m\u001b[0m\u001b[0;34m\u001b[0m\u001b[0m\n\u001b[0;32m--> 334\u001b[0;31m     \u001b[0;32mreturn\u001b[0m \u001b[0mcall\u001b[0m\u001b[0;34m.\u001b[0m\u001b[0mexecute\u001b[0m\u001b[0;34m(\u001b[0m\u001b[0mnum_retries\u001b[0m\u001b[0;34m=\u001b[0m\u001b[0mnum_retries\u001b[0m\u001b[0;34m)\u001b[0m\u001b[0;34m\u001b[0m\u001b[0;34m\u001b[0m\u001b[0m\n\u001b[0m\u001b[1;32m    335\u001b[0m   \u001b[0;32mexcept\u001b[0m \u001b[0mgoogleapiclient\u001b[0m\u001b[0;34m.\u001b[0m\u001b[0merrors\u001b[0m\u001b[0;34m.\u001b[0m\u001b[0mHttpError\u001b[0m \u001b[0;32mas\u001b[0m \u001b[0me\u001b[0m\u001b[0;34m:\u001b[0m\u001b[0;34m\u001b[0m\u001b[0;34m\u001b[0m\u001b[0m\n",
            "\u001b[0;32m/usr/local/lib/python3.7/dist-packages/googleapiclient/_helpers.py\u001b[0m in \u001b[0;36mpositional_wrapper\u001b[0;34m(*args, **kwargs)\u001b[0m\n\u001b[1;32m    133\u001b[0m                     \u001b[0mlogger\u001b[0m\u001b[0;34m.\u001b[0m\u001b[0mwarning\u001b[0m\u001b[0;34m(\u001b[0m\u001b[0mmessage\u001b[0m\u001b[0;34m)\u001b[0m\u001b[0;34m\u001b[0m\u001b[0;34m\u001b[0m\u001b[0m\n\u001b[0;32m--> 134\u001b[0;31m             \u001b[0;32mreturn\u001b[0m \u001b[0mwrapped\u001b[0m\u001b[0;34m(\u001b[0m\u001b[0;34m*\u001b[0m\u001b[0margs\u001b[0m\u001b[0;34m,\u001b[0m \u001b[0;34m**\u001b[0m\u001b[0mkwargs\u001b[0m\u001b[0;34m)\u001b[0m\u001b[0;34m\u001b[0m\u001b[0;34m\u001b[0m\u001b[0m\n\u001b[0m\u001b[1;32m    135\u001b[0m \u001b[0;34m\u001b[0m\u001b[0m\n",
            "\u001b[0;32m/usr/local/lib/python3.7/dist-packages/googleapiclient/http.py\u001b[0m in \u001b[0;36mexecute\u001b[0;34m(self, http, num_retries)\u001b[0m\n\u001b[1;32m    914\u001b[0m         \u001b[0;32mif\u001b[0m \u001b[0mresp\u001b[0m\u001b[0;34m.\u001b[0m\u001b[0mstatus\u001b[0m \u001b[0;34m>=\u001b[0m \u001b[0;36m300\u001b[0m\u001b[0;34m:\u001b[0m\u001b[0;34m\u001b[0m\u001b[0;34m\u001b[0m\u001b[0m\n\u001b[0;32m--> 915\u001b[0;31m             \u001b[0;32mraise\u001b[0m \u001b[0mHttpError\u001b[0m\u001b[0;34m(\u001b[0m\u001b[0mresp\u001b[0m\u001b[0;34m,\u001b[0m \u001b[0mcontent\u001b[0m\u001b[0;34m,\u001b[0m \u001b[0muri\u001b[0m\u001b[0;34m=\u001b[0m\u001b[0mself\u001b[0m\u001b[0;34m.\u001b[0m\u001b[0muri\u001b[0m\u001b[0;34m)\u001b[0m\u001b[0;34m\u001b[0m\u001b[0;34m\u001b[0m\u001b[0m\n\u001b[0m\u001b[1;32m    916\u001b[0m         \u001b[0;32mreturn\u001b[0m \u001b[0mself\u001b[0m\u001b[0;34m.\u001b[0m\u001b[0mpostproc\u001b[0m\u001b[0;34m(\u001b[0m\u001b[0mresp\u001b[0m\u001b[0;34m,\u001b[0m \u001b[0mcontent\u001b[0m\u001b[0;34m)\u001b[0m\u001b[0;34m\u001b[0m\u001b[0;34m\u001b[0m\u001b[0m\n",
            "\u001b[0;31mHttpError\u001b[0m: <HttpError 400 when requesting https://earthengine.googleapis.com/v1alpha/projects/earthengine-legacy/maps?fields=name&alt=json returned \"User memory limit exceeded.\". Details: \"User memory limit exceeded.\">",
            "\nDuring handling of the above exception, another exception occurred:\n",
            "\u001b[0;31mEEException\u001b[0m                               Traceback (most recent call last)",
            "\u001b[0;32m<ipython-input-81-4c1a0e5fd44c>\u001b[0m in \u001b[0;36m<module>\u001b[0;34m()\u001b[0m\n\u001b[1;32m      3\u001b[0m \u001b[0mmapA\u001b[0m\u001b[0;34m.\u001b[0m\u001b[0maddLayer\u001b[0m\u001b[0;34m(\u001b[0m\u001b[0mpalm_mosaic\u001b[0m\u001b[0;34m,\u001b[0m \u001b[0;34m{\u001b[0m\u001b[0;34m'min'\u001b[0m\u001b[0;34m:\u001b[0m \u001b[0;36m1\u001b[0m\u001b[0;34m,\u001b[0m \u001b[0;34m'max'\u001b[0m\u001b[0;34m:\u001b[0m \u001b[0;36m3\u001b[0m\u001b[0;34m,\u001b[0m \u001b[0;34m'palette'\u001b[0m\u001b[0;34m:\u001b[0m \u001b[0;34m[\u001b[0m\u001b[0;34m'ff0000'\u001b[0m\u001b[0;34m,\u001b[0m\u001b[0;34m'ef00ff'\u001b[0m\u001b[0;34m,\u001b[0m \u001b[0;34m'696969'\u001b[0m\u001b[0;34m]\u001b[0m\u001b[0;34m}\u001b[0m\u001b[0;34m,\u001b[0m \u001b[0;34m'palm oil plantations'\u001b[0m\u001b[0;34m)\u001b[0m\u001b[0;34m\u001b[0m\u001b[0;34m\u001b[0m\u001b[0m\n\u001b[1;32m      4\u001b[0m \u001b[0mmapA\u001b[0m\u001b[0;34m.\u001b[0m\u001b[0maddLayer\u001b[0m\u001b[0;34m(\u001b[0m\u001b[0mplant_clip\u001b[0m\u001b[0;34m,\u001b[0m  \u001b[0;34m{\u001b[0m\u001b[0;34m'min'\u001b[0m\u001b[0;34m:\u001b[0m \u001b[0;36m0\u001b[0m\u001b[0;34m,\u001b[0m \u001b[0;34m'max'\u001b[0m\u001b[0;34m:\u001b[0m \u001b[0;36m1\u001b[0m\u001b[0;34m,\u001b[0m \u001b[0;34m'palette'\u001b[0m\u001b[0;34m:\u001b[0m \u001b[0;34m[\u001b[0m\u001b[0;34m'696969'\u001b[0m\u001b[0;34m,\u001b[0m \u001b[0;34m'ef00ff'\u001b[0m\u001b[0;34m]\u001b[0m\u001b[0;34m}\u001b[0m\u001b[0;34m,\u001b[0m \u001b[0;34m'training'\u001b[0m\u001b[0;34m)\u001b[0m\u001b[0;34m\u001b[0m\u001b[0;34m\u001b[0m\u001b[0m\n\u001b[0;32m----> 5\u001b[0;31m \u001b[0mmapA\u001b[0m\u001b[0;34m.\u001b[0m\u001b[0maddLayer\u001b[0m\u001b[0;34m(\u001b[0m\u001b[0mclassified\u001b[0m\u001b[0;34m,\u001b[0m \u001b[0;34m{\u001b[0m\u001b[0;34m'min'\u001b[0m\u001b[0;34m:\u001b[0m \u001b[0;36m0\u001b[0m\u001b[0;34m,\u001b[0m \u001b[0;34m'max'\u001b[0m\u001b[0;34m:\u001b[0m \u001b[0;36m1\u001b[0m\u001b[0;34m,\u001b[0m \u001b[0;34m'palette'\u001b[0m\u001b[0;34m:\u001b[0m \u001b[0;34m[\u001b[0m\u001b[0;34m'696969'\u001b[0m\u001b[0;34m,\u001b[0m \u001b[0;34m'ef00ff'\u001b[0m\u001b[0;34m]\u001b[0m\u001b[0;34m}\u001b[0m\u001b[0;34m,\u001b[0m \u001b[0;34m'classified'\u001b[0m\u001b[0;34m)\u001b[0m\u001b[0;34m\u001b[0m\u001b[0;34m\u001b[0m\u001b[0m\n\u001b[0m\u001b[1;32m      6\u001b[0m \u001b[0mmapA\u001b[0m\u001b[0;34m.\u001b[0m\u001b[0maddLayer\u001b[0m\u001b[0;34m(\u001b[0m\u001b[0mstudy\u001b[0m\u001b[0;34m,\u001b[0m\u001b[0;34m{\u001b[0m\u001b[0;34m}\u001b[0m\u001b[0;34m,\u001b[0m\u001b[0;34m'study area'\u001b[0m\u001b[0;34m)\u001b[0m\u001b[0;34m\u001b[0m\u001b[0;34m\u001b[0m\u001b[0m\n\u001b[1;32m      7\u001b[0m \u001b[0mfolium\u001b[0m\u001b[0;34m.\u001b[0m\u001b[0mLayerControl\u001b[0m\u001b[0;34m(\u001b[0m\u001b[0;34m)\u001b[0m\u001b[0;34m.\u001b[0m\u001b[0madd_to\u001b[0m\u001b[0;34m(\u001b[0m\u001b[0mmapA\u001b[0m\u001b[0;34m)\u001b[0m\u001b[0;34m\u001b[0m\u001b[0;34m\u001b[0m\u001b[0m\n",
            "\u001b[0;32m/usr/local/lib/python3.7/dist-packages/geehydro/geehydro.py\u001b[0m in \u001b[0;36maddLayer\u001b[0;34m(self, ee_object, vis_params, name, shown, opacity)\u001b[0m\n\u001b[1;32m     41\u001b[0m         \u001b[0mimage\u001b[0m \u001b[0;34m=\u001b[0m \u001b[0mee_object\u001b[0m\u001b[0;34m.\u001b[0m\u001b[0mmedian\u001b[0m\u001b[0;34m(\u001b[0m\u001b[0;34m)\u001b[0m\u001b[0;34m\u001b[0m\u001b[0;34m\u001b[0m\u001b[0m\n\u001b[1;32m     42\u001b[0m \u001b[0;34m\u001b[0m\u001b[0m\n\u001b[0;32m---> 43\u001b[0;31m     \u001b[0mmap_id_dict\u001b[0m \u001b[0;34m=\u001b[0m \u001b[0mee\u001b[0m\u001b[0;34m.\u001b[0m\u001b[0mImage\u001b[0m\u001b[0;34m(\u001b[0m\u001b[0mimage\u001b[0m\u001b[0;34m)\u001b[0m\u001b[0;34m.\u001b[0m\u001b[0mgetMapId\u001b[0m\u001b[0;34m(\u001b[0m\u001b[0mvis_params\u001b[0m\u001b[0;34m)\u001b[0m\u001b[0;34m\u001b[0m\u001b[0;34m\u001b[0m\u001b[0m\n\u001b[0m\u001b[1;32m     44\u001b[0m     folium.raster_layers.TileLayer(\n\u001b[1;32m     45\u001b[0m         \u001b[0mtiles\u001b[0m\u001b[0;34m=\u001b[0m\u001b[0mmap_id_dict\u001b[0m\u001b[0;34m[\u001b[0m\u001b[0;34m'tile_fetcher'\u001b[0m\u001b[0;34m]\u001b[0m\u001b[0;34m.\u001b[0m\u001b[0murl_format\u001b[0m\u001b[0;34m,\u001b[0m\u001b[0;34m\u001b[0m\u001b[0;34m\u001b[0m\u001b[0m\n",
            "\u001b[0;32m/usr/local/lib/python3.7/dist-packages/ee/image.py\u001b[0m in \u001b[0;36mgetMapId\u001b[0;34m(self, vis_params)\u001b[0m\n\u001b[1;32m    128\u001b[0m     \u001b[0mvis_image\u001b[0m\u001b[0;34m,\u001b[0m \u001b[0mrequest\u001b[0m \u001b[0;34m=\u001b[0m \u001b[0mself\u001b[0m\u001b[0;34m.\u001b[0m\u001b[0m_apply_visualization\u001b[0m\u001b[0;34m(\u001b[0m\u001b[0mvis_params\u001b[0m\u001b[0;34m)\u001b[0m\u001b[0;34m\u001b[0m\u001b[0;34m\u001b[0m\u001b[0m\n\u001b[1;32m    129\u001b[0m     \u001b[0mrequest\u001b[0m\u001b[0;34m[\u001b[0m\u001b[0;34m'image'\u001b[0m\u001b[0;34m]\u001b[0m \u001b[0;34m=\u001b[0m \u001b[0mvis_image\u001b[0m\u001b[0;34m\u001b[0m\u001b[0;34m\u001b[0m\u001b[0m\n\u001b[0;32m--> 130\u001b[0;31m     \u001b[0mresponse\u001b[0m \u001b[0;34m=\u001b[0m \u001b[0mdata\u001b[0m\u001b[0;34m.\u001b[0m\u001b[0mgetMapId\u001b[0m\u001b[0;34m(\u001b[0m\u001b[0mrequest\u001b[0m\u001b[0;34m)\u001b[0m\u001b[0;34m\u001b[0m\u001b[0;34m\u001b[0m\u001b[0m\n\u001b[0m\u001b[1;32m    131\u001b[0m     \u001b[0mresponse\u001b[0m\u001b[0;34m[\u001b[0m\u001b[0;34m'image'\u001b[0m\u001b[0;34m]\u001b[0m \u001b[0;34m=\u001b[0m \u001b[0mself\u001b[0m\u001b[0;34m\u001b[0m\u001b[0;34m\u001b[0m\u001b[0m\n\u001b[1;32m    132\u001b[0m     \u001b[0;32mreturn\u001b[0m \u001b[0mresponse\u001b[0m\u001b[0;34m\u001b[0m\u001b[0;34m\u001b[0m\u001b[0m\n",
            "\u001b[0;32m/usr/local/lib/python3.7/dist-packages/ee/data.py\u001b[0m in \u001b[0;36mgetMapId\u001b[0;34m(params)\u001b[0m\n\u001b[1;32m    573\u001b[0m   result = _execute_cloud_call(\n\u001b[1;32m    574\u001b[0m       _get_cloud_api_resource().projects().maps().create(\n\u001b[0;32m--> 575\u001b[0;31m           parent=_get_projects_path(), fields='name', body=request))\n\u001b[0m\u001b[1;32m    576\u001b[0m   \u001b[0mmap_name\u001b[0m \u001b[0;34m=\u001b[0m \u001b[0mresult\u001b[0m\u001b[0;34m[\u001b[0m\u001b[0;34m'name'\u001b[0m\u001b[0;34m]\u001b[0m\u001b[0;34m\u001b[0m\u001b[0;34m\u001b[0m\u001b[0m\n\u001b[1;32m    577\u001b[0m   url_format = '%s/%s/%s/tiles/{z}/{x}/{y}' % (\n",
            "\u001b[0;32m/usr/local/lib/python3.7/dist-packages/ee/data.py\u001b[0m in \u001b[0;36m_execute_cloud_call\u001b[0;34m(call, num_retries)\u001b[0m\n\u001b[1;32m    334\u001b[0m     \u001b[0;32mreturn\u001b[0m \u001b[0mcall\u001b[0m\u001b[0;34m.\u001b[0m\u001b[0mexecute\u001b[0m\u001b[0;34m(\u001b[0m\u001b[0mnum_retries\u001b[0m\u001b[0;34m=\u001b[0m\u001b[0mnum_retries\u001b[0m\u001b[0;34m)\u001b[0m\u001b[0;34m\u001b[0m\u001b[0;34m\u001b[0m\u001b[0m\n\u001b[1;32m    335\u001b[0m   \u001b[0;32mexcept\u001b[0m \u001b[0mgoogleapiclient\u001b[0m\u001b[0;34m.\u001b[0m\u001b[0merrors\u001b[0m\u001b[0;34m.\u001b[0m\u001b[0mHttpError\u001b[0m \u001b[0;32mas\u001b[0m \u001b[0me\u001b[0m\u001b[0;34m:\u001b[0m\u001b[0;34m\u001b[0m\u001b[0;34m\u001b[0m\u001b[0m\n\u001b[0;32m--> 336\u001b[0;31m     \u001b[0;32mraise\u001b[0m \u001b[0m_translate_cloud_exception\u001b[0m\u001b[0;34m(\u001b[0m\u001b[0me\u001b[0m\u001b[0;34m)\u001b[0m\u001b[0;34m\u001b[0m\u001b[0;34m\u001b[0m\u001b[0m\n\u001b[0m\u001b[1;32m    337\u001b[0m \u001b[0;34m\u001b[0m\u001b[0m\n\u001b[1;32m    338\u001b[0m \u001b[0;34m\u001b[0m\u001b[0m\n",
            "\u001b[0;31mEEException\u001b[0m: User memory limit exceeded."
          ]
        }
      ]
    },
    {
      "cell_type": "markdown",
      "metadata": {
        "id": "v2rVdEs50OpO"
      },
      "source": [
        "# Classification - unsupervised example"
      ]
    },
    {
      "cell_type": "code",
      "metadata": {
        "id": "ovW8aE4l6Ann"
      },
      "source": [
        "def classify(input, training):\n",
        "  ''' function to automate classification of a given type for input and training data given as arguments'''\n",
        "  clusterer = ee.Clusterer.wekaKMeans(6).train(training)\n",
        "  result = input.cluster(clusterer)\n",
        "  return result\n"
      ],
      "execution_count": 49,
      "outputs": []
    },
    {
      "cell_type": "code",
      "metadata": {
        "id": "WyRdaGS6DGrE"
      },
      "source": [
        "# train using 2016 data\n",
        "training = planet[1](region = study, scale = 4.77, numPixels = 5000)\n",
        "\n",
        "# run for all\n",
        "for "
      ],
      "execution_count": null,
      "outputs": []
    },
    {
      "cell_type": "code",
      "metadata": {
        "colab": {
          "base_uri": "https://localhost:8080/",
          "height": 712
        },
        "id": "NMeZtih60RvS",
        "outputId": "c88092b7-f28b-42d1-9c39-96b1bdb93e4f"
      },
      "source": [
        "# making training dataset\n",
        "input = planet[1]\n",
        "region = study\n",
        "training = input.sample(region = region, scale = 4.77, numPixels = 5000)\n",
        "\n",
        "# initiate and train clusterer\n",
        "clusterer = ee.Clusterer.wekaKMeans(6).train(training)\n",
        "\n",
        "# cluster input\n",
        "result = input.cluster(clusterer)\n",
        "\n",
        "# display (random colours)\n",
        "mapB = folium.Map(location=[0.75, 117.7],zoom_start=12) #  note switch between latitude and longitude in folium as opposed to ee.Geometry.Point\n",
        "mapB.addLayer(input, {'min': 64, 'max': 5454, 'gamma':1.8, 'bands':['R','G','B']}, 'input')\n",
        "mapB.addLayer(result.randomVisualizer(), {}, 'clusters')\n",
        "mapB.addLayer(study,{},'study area')\n",
        "folium.LayerControl().add_to(mapB)\n",
        "mapB"
      ],
      "execution_count": 48,
      "outputs": [
        {
          "output_type": "execute_result",
          "data": {
            "text/html": [
              "<div style=\"width:100%;\"><div style=\"position:relative;width:100%;height:0;padding-bottom:60%;\"><span style=\"color:#565656\">Make this Notebook Trusted to load map: File -> Trust Notebook</span><iframe src=\"about:blank\" style=\"position:absolute;width:100%;height:100%;left:0;top:0;border:none !important;\" data-html=%3C%21DOCTYPE%20html%3E%0A%3Chead%3E%20%20%20%20%0A%20%20%20%20%3Cmeta%20http-equiv%3D%22content-type%22%20content%3D%22text/html%3B%20charset%3DUTF-8%22%20/%3E%0A%20%20%20%20%3Cscript%3EL_PREFER_CANVAS%3Dfalse%3B%20L_NO_TOUCH%3Dfalse%3B%20L_DISABLE_3D%3Dfalse%3B%3C/script%3E%0A%20%20%20%20%3Cscript%20src%3D%22https%3A//cdn.jsdelivr.net/npm/leaflet%401.4.0/dist/leaflet.js%22%3E%3C/script%3E%0A%20%20%20%20%3Cscript%20src%3D%22https%3A//code.jquery.com/jquery-1.12.4.min.js%22%3E%3C/script%3E%0A%20%20%20%20%3Cscript%20src%3D%22https%3A//maxcdn.bootstrapcdn.com/bootstrap/3.2.0/js/bootstrap.min.js%22%3E%3C/script%3E%0A%20%20%20%20%3Cscript%20src%3D%22https%3A//cdnjs.cloudflare.com/ajax/libs/Leaflet.awesome-markers/2.0.2/leaflet.awesome-markers.js%22%3E%3C/script%3E%0A%20%20%20%20%3Clink%20rel%3D%22stylesheet%22%20href%3D%22https%3A//cdn.jsdelivr.net/npm/leaflet%401.4.0/dist/leaflet.css%22/%3E%0A%20%20%20%20%3Clink%20rel%3D%22stylesheet%22%20href%3D%22https%3A//maxcdn.bootstrapcdn.com/bootstrap/3.2.0/css/bootstrap.min.css%22/%3E%0A%20%20%20%20%3Clink%20rel%3D%22stylesheet%22%20href%3D%22https%3A//maxcdn.bootstrapcdn.com/bootstrap/3.2.0/css/bootstrap-theme.min.css%22/%3E%0A%20%20%20%20%3Clink%20rel%3D%22stylesheet%22%20href%3D%22https%3A//maxcdn.bootstrapcdn.com/font-awesome/4.6.3/css/font-awesome.min.css%22/%3E%0A%20%20%20%20%3Clink%20rel%3D%22stylesheet%22%20href%3D%22https%3A//cdnjs.cloudflare.com/ajax/libs/Leaflet.awesome-markers/2.0.2/leaflet.awesome-markers.css%22/%3E%0A%20%20%20%20%3Clink%20rel%3D%22stylesheet%22%20href%3D%22https%3A//rawcdn.githack.com/python-visualization/folium/master/folium/templates/leaflet.awesome.rotate.css%22/%3E%0A%20%20%20%20%3Cstyle%3Ehtml%2C%20body%20%7Bwidth%3A%20100%25%3Bheight%3A%20100%25%3Bmargin%3A%200%3Bpadding%3A%200%3B%7D%3C/style%3E%0A%20%20%20%20%3Cstyle%3E%23map%20%7Bposition%3Aabsolute%3Btop%3A0%3Bbottom%3A0%3Bright%3A0%3Bleft%3A0%3B%7D%3C/style%3E%0A%20%20%20%20%0A%20%20%20%20%3Cmeta%20name%3D%22viewport%22%20content%3D%22width%3Ddevice-width%2C%0A%20%20%20%20%20%20%20%20initial-scale%3D1.0%2C%20maximum-scale%3D1.0%2C%20user-scalable%3Dno%22%20/%3E%0A%20%20%20%20%3Cstyle%3E%23map_7e06b4c919fb45ec8a1d505587f33471%20%7B%0A%20%20%20%20%20%20%20%20position%3A%20relative%3B%0A%20%20%20%20%20%20%20%20width%3A%20100.0%25%3B%0A%20%20%20%20%20%20%20%20height%3A%20100.0%25%3B%0A%20%20%20%20%20%20%20%20left%3A%200.0%25%3B%0A%20%20%20%20%20%20%20%20top%3A%200.0%25%3B%0A%20%20%20%20%20%20%20%20%7D%0A%20%20%20%20%3C/style%3E%0A%3C/head%3E%0A%3Cbody%3E%20%20%20%20%0A%20%20%20%20%0A%20%20%20%20%3Cdiv%20class%3D%22folium-map%22%20id%3D%22map_7e06b4c919fb45ec8a1d505587f33471%22%20%3E%3C/div%3E%0A%3C/body%3E%0A%3Cscript%3E%20%20%20%20%0A%20%20%20%20%0A%20%20%20%20%0A%20%20%20%20%20%20%20%20var%20bounds%20%3D%20null%3B%0A%20%20%20%20%0A%0A%20%20%20%20var%20map_7e06b4c919fb45ec8a1d505587f33471%20%3D%20L.map%28%0A%20%20%20%20%20%20%20%20%27map_7e06b4c919fb45ec8a1d505587f33471%27%2C%20%7B%0A%20%20%20%20%20%20%20%20center%3A%20%5B0.75%2C%20117.7%5D%2C%0A%20%20%20%20%20%20%20%20zoom%3A%2012%2C%0A%20%20%20%20%20%20%20%20maxBounds%3A%20bounds%2C%0A%20%20%20%20%20%20%20%20layers%3A%20%5B%5D%2C%0A%20%20%20%20%20%20%20%20worldCopyJump%3A%20false%2C%0A%20%20%20%20%20%20%20%20crs%3A%20L.CRS.EPSG3857%2C%0A%20%20%20%20%20%20%20%20zoomControl%3A%20true%2C%0A%20%20%20%20%20%20%20%20%7D%29%3B%0A%0A%0A%20%20%20%20%0A%20%20%20%20var%20tile_layer_0ab9260868574c1b9862488806bdc0f9%20%3D%20L.tileLayer%28%0A%20%20%20%20%20%20%20%20%27https%3A//%7Bs%7D.tile.openstreetmap.org/%7Bz%7D/%7Bx%7D/%7By%7D.png%27%2C%0A%20%20%20%20%20%20%20%20%7B%0A%20%20%20%20%20%20%20%20%22attribution%22%3A%20null%2C%0A%20%20%20%20%20%20%20%20%22detectRetina%22%3A%20false%2C%0A%20%20%20%20%20%20%20%20%22maxNativeZoom%22%3A%2018%2C%0A%20%20%20%20%20%20%20%20%22maxZoom%22%3A%2018%2C%0A%20%20%20%20%20%20%20%20%22minZoom%22%3A%200%2C%0A%20%20%20%20%20%20%20%20%22noWrap%22%3A%20false%2C%0A%20%20%20%20%20%20%20%20%22opacity%22%3A%201%2C%0A%20%20%20%20%20%20%20%20%22subdomains%22%3A%20%22abc%22%2C%0A%20%20%20%20%20%20%20%20%22tms%22%3A%20false%0A%7D%29.addTo%28map_7e06b4c919fb45ec8a1d505587f33471%29%3B%0A%20%20%20%20var%20tile_layer_ad06fe4da50343758073114e832f8406%20%3D%20L.tileLayer%28%0A%20%20%20%20%20%20%20%20%27https%3A//earthengine.googleapis.com/v1alpha/projects/earthengine-legacy/maps/f4997c081f3329c0fdd40c2cfab7b686-bc88b90aee97f8dd802180610749dc99/tiles/%7Bz%7D/%7Bx%7D/%7By%7D%27%2C%0A%20%20%20%20%20%20%20%20%7B%0A%20%20%20%20%20%20%20%20%22attribution%22%3A%20%22Google%20Earth%20Engine%22%2C%0A%20%20%20%20%20%20%20%20%22detectRetina%22%3A%20false%2C%0A%20%20%20%20%20%20%20%20%22maxNativeZoom%22%3A%2018%2C%0A%20%20%20%20%20%20%20%20%22maxZoom%22%3A%2018%2C%0A%20%20%20%20%20%20%20%20%22minZoom%22%3A%200%2C%0A%20%20%20%20%20%20%20%20%22noWrap%22%3A%20false%2C%0A%20%20%20%20%20%20%20%20%22opacity%22%3A%201%2C%0A%20%20%20%20%20%20%20%20%22subdomains%22%3A%20%22abc%22%2C%0A%20%20%20%20%20%20%20%20%22tms%22%3A%20false%0A%7D%29.addTo%28map_7e06b4c919fb45ec8a1d505587f33471%29%3B%0A%20%20%20%20var%20tile_layer_e33c8b2e4e5346ccacfd65412b97e983%20%3D%20L.tileLayer%28%0A%20%20%20%20%20%20%20%20%27https%3A//earthengine.googleapis.com/v1alpha/projects/earthengine-legacy/maps/289ca191e2f4e627c93d289ec534eadf-dbe8f621a1944b8ae2ff29aa6d5f7c8b/tiles/%7Bz%7D/%7Bx%7D/%7By%7D%27%2C%0A%20%20%20%20%20%20%20%20%7B%0A%20%20%20%20%20%20%20%20%22attribution%22%3A%20%22Google%20Earth%20Engine%22%2C%0A%20%20%20%20%20%20%20%20%22detectRetina%22%3A%20false%2C%0A%20%20%20%20%20%20%20%20%22maxNativeZoom%22%3A%2018%2C%0A%20%20%20%20%20%20%20%20%22maxZoom%22%3A%2018%2C%0A%20%20%20%20%20%20%20%20%22minZoom%22%3A%200%2C%0A%20%20%20%20%20%20%20%20%22noWrap%22%3A%20false%2C%0A%20%20%20%20%20%20%20%20%22opacity%22%3A%201%2C%0A%20%20%20%20%20%20%20%20%22subdomains%22%3A%20%22abc%22%2C%0A%20%20%20%20%20%20%20%20%22tms%22%3A%20false%0A%7D%29.addTo%28map_7e06b4c919fb45ec8a1d505587f33471%29%3B%0A%20%20%20%20var%20tile_layer_1661039f22974bb08799868ddcd97dd6%20%3D%20L.tileLayer%28%0A%20%20%20%20%20%20%20%20%27https%3A//earthengine.googleapis.com/v1alpha/projects/earthengine-legacy/maps/4dee50bb8499c209368766d213c918fd-9684b20aae545a58ec5ec62ea5d447e3/tiles/%7Bz%7D/%7Bx%7D/%7By%7D%27%2C%0A%20%20%20%20%20%20%20%20%7B%0A%20%20%20%20%20%20%20%20%22attribution%22%3A%20%22Google%20Earth%20Engine%22%2C%0A%20%20%20%20%20%20%20%20%22detectRetina%22%3A%20false%2C%0A%20%20%20%20%20%20%20%20%22maxNativeZoom%22%3A%2018%2C%0A%20%20%20%20%20%20%20%20%22maxZoom%22%3A%2018%2C%0A%20%20%20%20%20%20%20%20%22minZoom%22%3A%200%2C%0A%20%20%20%20%20%20%20%20%22noWrap%22%3A%20false%2C%0A%20%20%20%20%20%20%20%20%22opacity%22%3A%201%2C%0A%20%20%20%20%20%20%20%20%22subdomains%22%3A%20%22abc%22%2C%0A%20%20%20%20%20%20%20%20%22tms%22%3A%20false%0A%7D%29.addTo%28map_7e06b4c919fb45ec8a1d505587f33471%29%3B%0A%20%20%20%20%0A%20%20%20%20%20%20%20%20%20%20%20%20var%20layer_control_ec066fbf085a4858b85f1456a3e7c955%20%3D%20%7B%0A%20%20%20%20%20%20%20%20%20%20%20%20%20%20%20%20base_layers%20%3A%20%7B%20%22openstreetmap%22%20%3A%20tile_layer_0ab9260868574c1b9862488806bdc0f9%2C%20%7D%2C%0A%20%20%20%20%20%20%20%20%20%20%20%20%20%20%20%20overlays%20%3A%20%7B%20%22input%22%20%3A%20tile_layer_ad06fe4da50343758073114e832f8406%2C%22clusters%22%20%3A%20tile_layer_e33c8b2e4e5346ccacfd65412b97e983%2C%22study%20area%22%20%3A%20tile_layer_1661039f22974bb08799868ddcd97dd6%2C%20%7D%0A%20%20%20%20%20%20%20%20%20%20%20%20%20%20%20%20%7D%3B%0A%20%20%20%20%20%20%20%20%20%20%20%20L.control.layers%28%0A%20%20%20%20%20%20%20%20%20%20%20%20%20%20%20%20layer_control_ec066fbf085a4858b85f1456a3e7c955.base_layers%2C%0A%20%20%20%20%20%20%20%20%20%20%20%20%20%20%20%20layer_control_ec066fbf085a4858b85f1456a3e7c955.overlays%2C%0A%20%20%20%20%20%20%20%20%20%20%20%20%20%20%20%20%7Bposition%3A%20%27topright%27%2C%0A%20%20%20%20%20%20%20%20%20%20%20%20%20%20%20%20%20collapsed%3A%20true%2C%0A%20%20%20%20%20%20%20%20%20%20%20%20%20%20%20%20%20autoZIndex%3A%20true%0A%20%20%20%20%20%20%20%20%20%20%20%20%20%20%20%20%7D%29.addTo%28map_7e06b4c919fb45ec8a1d505587f33471%29%3B%0A%20%20%20%20%20%20%20%20%20%20%20%20%0A%20%20%20%20%20%20%20%20%0A%3C/script%3E onload=\"this.contentDocument.open();this.contentDocument.write(    decodeURIComponent(this.getAttribute('data-html')));this.contentDocument.close();\" allowfullscreen webkitallowfullscreen mozallowfullscreen></iframe></div></div>"
            ],
            "text/plain": [
              "<folium.folium.Map at 0x7f9a6a4783d0>"
            ]
          },
          "metadata": {},
          "execution_count": 48
        }
      ]
    },
    {
      "cell_type": "code",
      "metadata": {
        "id": "cZTXwpOO2aDM"
      },
      "source": [
        ""
      ],
      "execution_count": null,
      "outputs": []
    },
    {
      "cell_type": "markdown",
      "metadata": {
        "id": "nieTHZ_04Atz"
      },
      "source": [
        "# how good is the classification?"
      ]
    },
    {
      "cell_type": "code",
      "metadata": {
        "id": "9V9xEIyn4F1k"
      },
      "source": [
        "# compare against Hansen data?"
      ],
      "execution_count": 47,
      "outputs": []
    },
    {
      "cell_type": "code",
      "metadata": {
        "id": "Oi3kdol74KgX"
      },
      "source": [
        ""
      ],
      "execution_count": null,
      "outputs": []
    }
  ]
}